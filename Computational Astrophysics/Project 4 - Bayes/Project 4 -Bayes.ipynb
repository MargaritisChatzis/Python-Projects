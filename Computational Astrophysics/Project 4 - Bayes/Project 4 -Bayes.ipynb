{
 "cells": [
  {
   "cell_type": "code",
   "execution_count": 2,
   "metadata": {
    "ExecuteTime": {
     "end_time": "2023-09-25T12:42:20.048617Z",
     "start_time": "2023-09-25T12:42:20.010721Z"
    }
   },
   "outputs": [
    {
     "data": {
      "text/html": [
       "<style>.container { width:100% !important; }</style>"
      ],
      "text/plain": [
       "<IPython.core.display.HTML object>"
      ]
     },
     "metadata": {},
     "output_type": "display_data"
    }
   ],
   "source": [
    "from IPython.core.display import display, HTML\n",
    "display(HTML(\"<style>.container { width:100% !important; }</style>\"))"
   ]
  },
  {
   "cell_type": "code",
   "execution_count": 3,
   "metadata": {
    "ExecuteTime": {
     "end_time": "2023-09-25T12:43:36.738938Z",
     "start_time": "2023-09-25T12:42:20.052610Z"
    }
   },
   "outputs": [],
   "source": [
    "import numpy as np\n",
    "import matplotlib.pyplot as plt\n",
    "from scipy.optimize import curve_fit\n",
    "from scipy.optimize import minimize\n",
    "import astropy\n",
    "from astropy.io import ascii\n",
    "import lmfit\n",
    "from lmfit import Model\n",
    "import scipy.stats\n",
    "import emcee \n",
    "import corner\n",
    "import ultranest \n",
    "from ultranest.plot import cornerplot"
   ]
  },
  {
   "cell_type": "markdown",
   "metadata": {},
   "source": [
    "##  Modified black body (Planck) fitting to dust emission \n"
   ]
  },
  {
   "cell_type": "code",
   "execution_count": 4,
   "metadata": {
    "ExecuteTime": {
     "end_time": "2023-09-25T12:43:36.754897Z",
     "start_time": "2023-09-25T12:43:36.741929Z"
    }
   },
   "outputs": [],
   "source": [
    "### Far infrared emission from a galaxy, to be modelled with a modified Planck law\n",
    "\n",
    "data_array=np.array([   \n",
    "[59.96,1.16e+43,1.14e+41],\n",
    "[70.04,1.88e+43,1.07e+42],\n",
    "[71.34,1.73e+43,9.92e+41],\n",
    "[99.93,2.11e+43,1.14e+42],\n",
    "[156.1,1.83e+43,1.29e+42],\n",
    "[160.3,1.63e+43,8.49e+41],\n",
    "[249.8,4.36e+42,3.36e+41],\n",
    "[349.8,1.34e+42,1.23e+41],\n",
    "[499.7,3.71e+41,6.04e+40]\n",
    "])\n",
    "\n",
    "x_data,y_data,y_data_err = data_array[:,0], data_array[:,1], data_array[:,2]"
   ]
  },
  {
   "cell_type": "markdown",
   "metadata": {},
   "source": [
    "### The modelling function: A modified black body \n",
    "\n",
    "\n",
    "#### Grey (or modified black) Body emission from dust grains\n",
    "The monochromatic energy flux from a surface element of a sphere, in a direction normal to this element, can be obtained from Planck's law: $F_\\lambda = \\pi B_\\lambda$ (e.g., Rybicki \\& Lightman). Let the sphere be a single dust grain. The black body luminosity detected from a heated dust grain is then obtained by integrating the flux from all elements of its surface: $4\\pi a_g^2 \\pi B_\\lambda$, where $a_g$ is its radius. As the grain may be somewhat less efficient in its emission by a pure black body, its emission can instead be described as\n",
    "\n",
    "$B^{modified}_\\lambda (T) = Q_{em}(\\lambda)  B^{Planck}_\\lambda (T)$, where $Q_{em}(\\lambda)$ is called the emissivity (Hildebrand 1983). The emissivity encapsulates the deviation in the emission efficiency from that of a pure black body and it is equal to the ratio of the emitting cross section to the geometrical cross section. It depends on λ as: \n",
    "\n",
    "$ \n",
    "Q_{em}(\\lambda) = Q_{ref} \\left( \\frac{ \\lambda_{ref}}{\\lambda} \\right)^\\beta = \\frac{1}{507} \\left(\\frac{\\lambda_{ref}}{\\lambda}\\right)^{2}, \n",
    "$ (Bianchi et al. 1999,Whittet 1992).\n",
    "\n",
    "Conservation of energy and thus of luminosity (=E/s), whether measured from the grain surface of from the Earth, implies that $4\\pi D^2 F_\\lambda$ = $4\\pi a_g^2 \\pi B_\\lambda$, where D is the distance of the galaxy that hosts the grain. Multiplying with the number of grains N, the flux that we detect from the galaxy is: \n",
    "\n",
    "$  F_\\lambda =  N\\,[a_g^2 / D^2] \\pi Q_{em}(\\lambda)  B^{Planck}_\\lambda (T)$. So by substituting $B^{Planck}$, we get\n",
    "\n",
    "$\n",
    "F_{\\lambda}   =  N\\left( \\frac{a_g^2}{D^2} \\right) \\frac{\\pi}{507} \\left(\\frac{100 \\mu m}{\\lambda}\\right)^{2}  \\frac{2hc^2}{\\lambda^5} \\frac{1}{e^{(hc/\\lambda k_BT)}-1}\n",
    "$\n",
    "\n",
    "for the flux or, for the luminosity,\n",
    "\n",
    "$\n",
    "L_{\\lambda}  =  N a_g^2 \\left(\\frac{4π^2}{507}\\right)\\left(\\frac{100 \\mu m}{\\lambda}\\right)^{2}  \\frac{2hc^2}{\\lambda^5} \\frac{1}{e^{(hc/\\lambda k_BT)}-1}\n",
    "$\n",
    "\n",
    "\n",
    "We can replace $N a_g^2$ via the total dust mass,\n",
    "$M = N m_{grain} = N \\rho_g \\frac{4 \\pi a_{g}^3}{3} = Na_{g}^2 \\rho_g \\frac{4 \\pi a_{g}}{3} $, where for a typical grain the density $\\rho_g$=2.7 $gr / cm^{3}$ and $a_g$=1 $\\mu$m. Finally, by multiplying both sides with λ, we get\n",
    "\n",
    "$$\n",
    "\\lambda L_\\lambda (T,M) = \\frac{M}{ a_g \\rho_g} \\frac{6\\pi}{507} \\left(\\frac{100 \\mu m}{\\lambda}\\right)^{2} \\frac{1}{\\lambda^4}\\frac{hc^2}{e^{(hc/\\lambda k_BT)}-1} = 1.8 \\times 10^{35} M \\left(\\frac{100 \\mu m}{\\lambda}\\right)^{2} \\frac{1}{\\lambda^4}\\frac{1}{e^{(14388/\\lambda T)}-1}[erg/s],\n",
    "$$\n",
    "\n",
    "for the modified black body luminosity, with M in solar masses, T in K, and $\\lambda$ in $\\mu$m. So, we end up with a function of only 2 free parameters: the dust temperature and mass\n",
    "\n",
    "\n",
    "\n",
    "\n",
    "\n"
   ]
  },
  {
   "cell_type": "code",
   "execution_count": 5,
   "metadata": {
    "ExecuteTime": {
     "end_time": "2023-09-25T12:43:38.530147Z",
     "start_time": "2023-09-25T12:43:36.758884Z"
    }
   },
   "outputs": [
    {
     "data": {
      "text/plain": [
       "<matplotlib.legend.Legend at 0x1f7eb5ac5b0>"
      ]
     },
     "execution_count": 5,
     "metadata": {},
     "output_type": "execute_result"
    },
    {
     "data": {
      "image/png": "[encoded data removed]",
      "text/plain": [
       "<Figure size 640x480 with 1 Axes>"
      ]
     },
     "metadata": {},
     "output_type": "display_data"
    }
   ],
   "source": [
    "#Modified black body function    \n",
    "\n",
    "def grey_body_luminosity(wavelength,T, logMd): #wavelength in μm\n",
    "    h,c, kb, Lodot, Modot = 6.626e-27 ,3e10 , 1.38e-16 ,3.9e33 , 2.0e33\n",
    "    ag = 0.1*10**-4 #cm \n",
    "    rhog = 2.7 #gr/cm^3        \n",
    "\n",
    "    lambda_cm = wavelength/1e4 #frequencies in Hz\n",
    "    lambdaB_lambda = (2*h*c**2)*1/(lambda_cm)**4*1/(np.exp(h*c/kb/T/lambda_cm)-1)\n",
    "\n",
    "    Q = (1./507.)*(100./wavelength)**2 \n",
    "    lambdaL_lambda = (3*np.pi*((10**logMd)*Modot)/ag/rhog) * Q*lambdaB_lambda\n",
    "         \n",
    "    return_value=lambdaL_lambda\n",
    "\n",
    "    return return_value\n",
    "\n",
    "\n",
    "# A rough attempt by hand, together with the best fit result from the chi^2 minimization\n",
    "plt.scatter(x_data,y_data)\n",
    "plt.ylabel('λLλ (erg/s)') \n",
    "plt.xlabel('λ (μm)') \n",
    "plt.yscale('log')\n",
    "plt.xscale('log')\n",
    "plt.ylim([1e41,5e43])\n",
    "\n",
    "xaxis=np.linspace(20,1000,1000)\n",
    "plt.plot(xaxis,grey_body_luminosity(xaxis,27, 6.5),color='orange',label='first guess')\n",
    "#plt.plot(xaxis,grey_body_luminosity(xaxis,chi2_values_fit[0],chi2_values_fit[1]),color='darkviolet',label='chi^2')\n",
    "#plt.plot(xaxis,grey_body_luminosity(xaxis,prob_values_fit[0],prob_values_fit[1]),color='lightblue',label='-ln(probability)')\n",
    "\n",
    "plt.legend()\n"
   ]
  },
  {
   "cell_type": "code",
   "execution_count": 6,
   "metadata": {
    "ExecuteTime": {
     "end_time": "2023-09-25T12:43:38.831340Z",
     "start_time": "2023-09-25T12:43:38.534136Z"
    }
   },
   "outputs": [
    {
     "name": "stdout",
     "output_type": "stream",
     "text": [
      "T= 24.544995138681376 mass= 5801213.100215218\n"
     ]
    }
   ],
   "source": [
    "# first, a chi^2 solution\n",
    "#Calculate the chi2 function FOR A SINGLE MODEL, CONSTRUCTED WITH A GIVEN SET OF PARAMETERS\n",
    "\n",
    "def calc_chi2(params,model_function, data_x, data_y, data_y_err):\n",
    "    model_y = model_function(data_x, *params) #parameters must be provided in the correct order\n",
    "    chi2 = np.sum((model_y - data_y)**2 /(data_y_err)**2)\n",
    "    return  chi2\n",
    "\n",
    "#Run Minimizer (can also use other functions)\n",
    "sol = minimize(calc_chi2, [30,7], args=(grey_body_luminosity, x_data,y_data,y_data_err), bounds  = [ [10, 100] , [4.0, 11.0] ],tol=1e-15)\n",
    "\n",
    "chi2_values_fit =  sol.x\n",
    "#T_fit, logMd_fit = np.round(sol.x,4)\n",
    "\n",
    "print(\"T=\",chi2_values_fit[0],\"mass=\",10**chi2_values_fit[1])"
   ]
  },
  {
   "attachments": {
    "DMF.png": {
     "image/png": "[encoded data removed]"
    }
   },
   "cell_type": "markdown",
   "metadata": {},
   "source": [
    "#### Now, let's solve it with probabilities, but first define all priors\n",
    "![DMF.png](attachment:DMF.png)"
   ]
  },
  {
   "cell_type": "code",
   "execution_count": 7,
   "metadata": {
    "ExecuteTime": {
     "end_time": "2023-09-25T12:43:38.846300Z",
     "start_time": "2023-09-25T12:43:38.833336Z"
    }
   },
   "outputs": [],
   "source": [
    "def mass_function(logMd):\n",
    "    M = 10**logMd\n",
    "    return 5.36e-2*(M/4.65e7)**(-0.22)*np.exp(-M/4.65e7)"
   ]
  },
  {
   "cell_type": "code",
   "execution_count": 8,
   "metadata": {
    "ExecuteTime": {
     "end_time": "2023-09-25T12:43:38.926088Z",
     "start_time": "2023-09-25T12:43:38.848297Z"
    }
   },
   "outputs": [],
   "source": [
    "## probabilities:\n",
    "#Calculate the probability FOR A SINGLE MODEL, CONSTRUCTED WITH A GIVEN SET OF PARAMETERS\n",
    "\n",
    "def ln_priors_grey_body(params):\n",
    "    expected_value=40.\n",
    "    sigma_around_expected_value=1.\n",
    "    ln_prior_on_T =  - 0.5* (params[0]-expected_value)**2/(2*sigma_around_expected_value**2) - 0.5 *np.log( 2*np.pi*sigma_around_expected_value**2 ) \n",
    "    ln_prior_on_M = np.log( mass_function(params[1]) )\n",
    "    return ln_prior_on_T + ln_prior_on_M\n",
    "\n",
    "def ln_likelihood_grey_body(params, x, y, dy):\n",
    "    y_model = grey_body_luminosity(x, params[0], params[1])\n",
    "    like=-0.5 * np.sum((y-y_model)**2 / dy**2 ) -np.sum(np.log(2*np.pi*dy**2))\n",
    "    if np.isnan(like):\n",
    "        return -np.inf\n",
    "    else:\n",
    "        return like\n",
    "    \n",
    "def ln_posterior_grey_body(params, x, y,dy):\n",
    "   # return ln_likelihood_grey_body(params, x, y, dy)  \n",
    "    return ln_priors_grey_body(params) + ln_likelihood_grey_body(params, x, y, dy)  \n",
    "\n",
    "def minus_ln_posterior_grey_body(params, x, y,dy):\n",
    "   # return -ln_likelihood_grey_body(params, x, y, dy) \n",
    "     return -(ln_likelihood_grey_body(params, x, y, dy) + ln_priors_grey_body(params)  )\n",
    "\n"
   ]
  },
  {
   "cell_type": "code",
   "execution_count": 9,
   "metadata": {
    "ExecuteTime": {
     "end_time": "2023-09-25T12:43:39.085661Z",
     "start_time": "2023-09-25T12:43:38.929079Z"
    }
   },
   "outputs": [
    {
     "name": "stdout",
     "output_type": "stream",
     "text": [
      "T= 39.192899459423785 mass= 130944.25488361447\n"
     ]
    },
    {
     "name": "stderr",
     "output_type": "stream",
     "text": [
      "C:\\Users\\MargaritisX\\AppData\\Local\\Temp\\ipykernel_11676\\1459718789.py:8: RuntimeWarning: divide by zero encountered in log\n",
      "  ln_prior_on_M = np.log( mass_function(params[1]) )\n",
      "C:\\Users\\MargaritisX\\anaconda3\\lib\\site-packages\\scipy\\optimize\\_numdiff.py:576: RuntimeWarning: invalid value encountered in subtract\n",
      "  df = fun(x) - f0\n"
     ]
    }
   ],
   "source": [
    "# First let's see the results without walkers in the parameter space, but with a chi^2 minimization with added priors\n",
    "# Indeed, adding priors changes the results !\n",
    "\n",
    "sol = minimize(minus_ln_posterior_grey_body, [30,7], args=(x_data,y_data,y_data_err), bounds  = [ [10, 100] , [4.0, 11.0] ],tol=1e-15)\n",
    "\n",
    "prob_values_fit =  sol.x\n",
    "#T_fit, logMd_fit = np.round(sol.x,4)\n",
    "\n",
    "print(\"T=\",prob_values_fit[0],\"mass=\",10**prob_values_fit[1])\n"
   ]
  },
  {
   "cell_type": "markdown",
   "metadata": {},
   "source": [
    "#### Now with a Markov Chain Monte Carlo + Bayesian\n",
    "\n",
    "#### Warning: This code snippet taken from the lecture sometimes does not work correctly. We need to rerun it for the emcee method to give correct results."
   ]
  },
  {
   "cell_type": "code",
   "execution_count": 10,
   "metadata": {
    "ExecuteTime": {
     "end_time": "2023-09-25T12:43:53.815957Z",
     "start_time": "2023-09-25T12:43:39.087656Z"
    }
   },
   "outputs": [
    {
     "name": "stderr",
     "output_type": "stream",
     "text": [
      "C:\\Users\\MargaritisX\\AppData\\Local\\Temp\\ipykernel_11676\\1459718789.py:8: RuntimeWarning: divide by zero encountered in log\n",
      "  ln_prior_on_M = np.log( mass_function(params[1]) )\n",
      "C:\\Users\\MargaritisX\\anaconda3\\lib\\site-packages\\emcee\\moves\\red_blue.py:99: RuntimeWarning: invalid value encountered in double_scalars\n",
      "  lnpdiff = f + nlp - state.log_prob[j]\n",
      "C:\\Users\\MargaritisX\\AppData\\Local\\Temp\\ipykernel_11676\\678785235.py:9: RuntimeWarning: overflow encountered in exp\n",
      "  lambdaB_lambda = (2*h*c**2)*1/(lambda_cm)**4*1/(np.exp(h*c/kb/T/lambda_cm)-1)\n",
      "WARNING:root:Too few points to create valid contours\n"
     ]
    },
    {
     "name": "stdout",
     "output_type": "stream",
     "text": [
      "\n",
      " Mean T bayesian =   26.003724819576767 \n",
      " Mean mass bayesian =   4557082.079465342\n"
     ]
    },
    {
     "data": {
      "image/png": "[encoded data removed]",
      "text/plain": [
       "<Figure size 550x550 with 4 Axes>"
      ]
     },
     "metadata": {},
     "output_type": "display_data"
    }
   ],
   "source": [
    "# emcee combines MCMC chains (walkers) of a number of steps.\n",
    "\n",
    "ndim = 2  # number of parameters in the model\n",
    "nwalkers = 100  # number of MCMC walkers\n",
    "nburn = 20# \"burn-in\" period to stabilise chains\n",
    "nsteps = 2000  # number of MCMC steps to take\n",
    "\n",
    "\n",
    "#starting_guesses = np.random.random((nwalkers, ndim)) # random positioning of 50 walkers in parameter space\n",
    "#starting_guesses[:,0]*=10\n",
    "# starting_guesses[:,1]=(starting_guesses[:,1]*5+6)\n",
    "starting_guesses=np.random.normal([30,8],[7,2],size=(nwalkers, ndim))\n",
    "\n",
    "\n",
    "sampler = emcee.EnsembleSampler(nwalkers, ndim, ln_posterior_grey_body, args=[x_data, y_data,y_data_err])\n",
    "sampler.run_mcmc(starting_guesses, nsteps)\n",
    "emcee_trace = sampler.get_chain(discard=nburn,flat=True) \n",
    "\n",
    "previous_solution=[24,6.8]\n",
    "\n",
    "\n",
    "fig = corner.corner(emcee_trace, labels=['T','logmass'],truths=[previous_solution[0], previous_solution[1]]);\n",
    "\n",
    "print( '\\n Mean T bayesian =  ', emcee_trace[:,0].mean(),\n",
    "     '\\n Mean mass bayesian =  ', 10.**emcee_trace[:,1].mean())"
   ]
  },
  {
   "cell_type": "code",
   "execution_count": 11,
   "metadata": {
    "ExecuteTime": {
     "end_time": "2023-09-25T12:43:54.714556Z",
     "start_time": "2023-09-25T12:43:53.820945Z"
    },
    "scrolled": false
   },
   "outputs": [
    {
     "data": {
      "text/plain": [
       "<matplotlib.legend.Legend at 0x1f7e18daa30>"
      ]
     },
     "execution_count": 11,
     "metadata": {},
     "output_type": "execute_result"
    },
    {
     "data": {
      "image/png": "[encoded data removed]",
      "text/plain": [
       "<Figure size 640x480 with 1 Axes>"
      ]
     },
     "metadata": {},
     "output_type": "display_data"
    }
   ],
   "source": [
    "plt.scatter(x_data,y_data)\n",
    "plt.ylabel('λLλ (erg/s)') \n",
    "plt.xlabel('λ (μm)') \n",
    "plt.yscale('log')\n",
    "plt.xscale('log')\n",
    "\n",
    "\n",
    "xaxis=np.linspace(20,1000,1000)\n",
    "plt.plot(xaxis,grey_body_luminosity(xaxis,27, 6.5),color='orange',label='first guess')\n",
    "plt.plot(xaxis,grey_body_luminosity(xaxis,chi2_values_fit[0],chi2_values_fit[1]),color='darkviolet',label='chi^2')\n",
    "plt.plot(xaxis,grey_body_luminosity(xaxis,emcee_trace[:,0].mean(),emcee_trace[:,1].mean()),color='red',label='EMCEE')\n",
    "\n",
    "plt.legend()"
   ]
  },
  {
   "cell_type": "markdown",
   "metadata": {
    "ExecuteTime": {
     "end_time": "2023-04-24T15:25:01.546746Z",
     "start_time": "2023-04-24T15:25:01.531786Z"
    }
   },
   "source": [
    "## UltraNest"
   ]
  },
  {
   "cell_type": "code",
   "execution_count": 12,
   "metadata": {
    "ExecuteTime": {
     "end_time": "2023-09-25T12:43:54.730511Z",
     "start_time": "2023-09-25T12:43:54.719542Z"
    }
   },
   "outputs": [],
   "source": [
    "def ln_likelihood_grey_body(params, x, y, dy):\n",
    "    y_model = grey_body_luminosity(x, params[0], params[1])\n",
    "    like = -0.5 * np.sum((y - y_model) ** 2 / dy ** 2) - np.sum(np.log(2 * np.pi * dy ** 2))\n",
    "    if np.isnan(like):\n",
    "        return -np.inf\n",
    "    else:\n",
    "        return like\n",
    "\n",
    "\n",
    "\n",
    "def log_likelihood(params):\n",
    "    return ln_likelihood_grey_body(params, x_data, y_data, y_data_err)\n",
    "\n",
    "#Linear\n",
    "# def prior_transform(cube):\n",
    "#     params = np.zeros(2)\n",
    "#     params[0] = cube[0] * 70. + 30.  # Prior on T\n",
    "#     params[1] = cube[1] * 7. + 1.  # Prior on logmass\n",
    "#     return params\n",
    "\n",
    "#Gaussian (gives better results)\n",
    "def prior_transform(cube):\n",
    "    params = np.zeros(2)\n",
    "    \n",
    "    center_T = 25.0\n",
    "    center_logmass = 7.0\n",
    "    \n",
    "    std_T = 5.0\n",
    "    std_logmass = 0.5\n",
    "    \n",
    "    params[0] = scipy.stats.norm.ppf(cube[0], loc=center_T, scale=std_T)\n",
    "    params[1] = scipy.stats.norm.ppf(cube[1], loc=center_logmass, scale=std_logmass)\n",
    "    \n",
    "    return params"
   ]
  },
  {
   "cell_type": "code",
   "execution_count": 13,
   "metadata": {
    "ExecuteTime": {
     "end_time": "2023-09-25T12:44:23.695238Z",
     "start_time": "2023-09-25T12:43:54.733504Z"
    }
   },
   "outputs": [
    {
     "name": "stderr",
     "output_type": "stream",
     "text": [
      "DEBUG:ultranest:ReactiveNestedSampler: dims=2+0, resume=True, log_dir=ultranest_output, backend=hdf5, vectorized=False, nbootstraps=30, ndraw=128..65536\n"
     ]
    },
    {
     "name": "stdout",
     "output_type": "stream",
     "text": [
      "[ultranest] Sampling 100 live points from prior ...\n"
     ]
    },
    {
     "name": "stderr",
     "output_type": "stream",
     "text": [
      "INFO:ultranest:Sampling 100 live points from prior ...\n",
      "DEBUG:ultranest:run_iter dlogz=0.5, dKL=0.5, frac_remain=0.01, Lepsilon=0.0010, min_ess=1000\n",
      "DEBUG:ultranest:max_iters=-1, max_ncalls=-1, max_num_improvement_loops=-1, min_num_live_points=100, cluster_num_live_points=40\n",
      "DEBUG:ultranest:minimal_widths_sequence: [(-inf, 100.0), (inf, 100.0)]\n"
     ]
    },
    {
     "data": {
      "application/vnd.jupyter.widget-view+json": {
       "model_id": "bda214d3cac8467a8c532a45ad387363",
       "version_major": 2,
       "version_minor": 0
      },
      "text/plain": [
       "VBox(children=(HTML(value=''), GridspecLayout(children=(HTML(value=\"<div style='background-color:#6E6BF4;'>&nb…"
      ]
     },
     "metadata": {},
     "output_type": "display_data"
    },
    {
     "name": "stdout",
     "output_type": "stream",
     "text": [
      "Z=-inf(0.00%) | Like=-5.4e+08..-1.9e+03 [-5.381e+08..-8818] | it/evals=0/101 eff=0.0000% N=100 \r"
     ]
    },
    {
     "name": "stderr",
     "output_type": "stream",
     "text": [
      "DEBUG:ultranest:iteration=0, ncalls=101, regioncalls=40, ndraw=40, logz=-inf, remainder_fraction=100.0000%, Lmin=-538094541.50, Lmax=-1941.27\n"
     ]
    },
    {
     "name": "stdout",
     "output_type": "stream",
     "text": [
      "Z=-2614645.8(0.00%) | Like=-2458037.90..-1941.27 [-5.381e+08..-8818] | it/evals=10/112 eff=83.3333% N=100 \r"
     ]
    },
    {
     "name": "stderr",
     "output_type": "stream",
     "text": [
      "DEBUG:ultranest:iteration=10, ncalls=112, regioncalls=480, ndraw=40, logz=-2614645.80, remainder_fraction=100.0000%, Lmin=-2458037.90, Lmax=-1941.27\n"
     ]
    },
    {
     "name": "stdout",
     "output_type": "stream",
     "text": [
      "Z=-1317793.6(0.00%) | Like=-1284694.60..-1941.27 [-5.381e+08..-8818] | it/evals=20/125 eff=80.0000% N=100 \r"
     ]
    },
    {
     "name": "stderr",
     "output_type": "stream",
     "text": [
      "DEBUG:ultranest:iteration=20, ncalls=125, regioncalls=1000, ndraw=40, logz=-1317793.63, remainder_fraction=100.0000%, Lmin=-1284694.60, Lmax=-1941.27\n"
     ]
    },
    {
     "name": "stdout",
     "output_type": "stream",
     "text": [
      "Z=-1162074.2(0.00%) | Like=-1023461.40..-1941.27 [-5.381e+08..-8818] | it/evals=23/129 eff=79.3103% N=100 \r"
     ]
    },
    {
     "name": "stderr",
     "output_type": "stream",
     "text": [
      "DEBUG:ultranest:iteration=23, ncalls=129, regioncalls=1160, ndraw=40, logz=-1162074.20, remainder_fraction=100.0000%, Lmin=-1023461.40, Lmax=-1941.27\n"
     ]
    },
    {
     "name": "stdout",
     "output_type": "stream",
     "text": [
      "Z=-358947.6(0.00%) | Like=-331383.06..-1932.56 [-5.381e+08..-8818] | it/evals=30/138 eff=78.9474% N=100 \r"
     ]
    },
    {
     "name": "stderr",
     "output_type": "stream",
     "text": [
      "DEBUG:ultranest:iteration=30, ncalls=138, regioncalls=1520, ndraw=40, logz=-358947.61, remainder_fraction=100.0000%, Lmin=-331383.06, Lmax=-1932.56\n"
     ]
    },
    {
     "name": "stdout",
     "output_type": "stream",
     "text": [
      "Z=-137748.4(0.00%) | Like=-136859.51..-1932.56 [-5.381e+08..-8818] | it/evals=40/149 eff=81.6327% N=100 \r"
     ]
    },
    {
     "name": "stderr",
     "output_type": "stream",
     "text": [
      "DEBUG:ultranest:iteration=40, ncalls=149, regioncalls=1960, ndraw=40, logz=-137748.40, remainder_fraction=100.0000%, Lmin=-136859.51, Lmax=-1932.56\n"
     ]
    },
    {
     "name": "stdout",
     "output_type": "stream",
     "text": [
      "Z=-64183.7(0.00%) | Like=-53584.72..-1770.46 [-5.381e+08..-8818] | it/evals=50/159 eff=84.7458% N=100 \r"
     ]
    },
    {
     "name": "stderr",
     "output_type": "stream",
     "text": [
      "DEBUG:ultranest:iteration=50, ncalls=159, regioncalls=2360, ndraw=40, logz=-64183.72, remainder_fraction=100.0000%, Lmin=-53584.72, Lmax=-1770.46\n"
     ]
    },
    {
     "name": "stdout",
     "output_type": "stream",
     "text": [
      "Z=-24702.2(0.00%) | Like=-19669.64..-1770.46 [-5.381e+08..-8818] | it/evals=60/177 eff=77.9221% N=100 \r"
     ]
    },
    {
     "name": "stderr",
     "output_type": "stream",
     "text": [
      "DEBUG:ultranest:iteration=60, ncalls=177, regioncalls=3080, ndraw=40, logz=-24702.23, remainder_fraction=100.0000%, Lmin=-19669.64, Lmax=-1770.46\n"
     ]
    },
    {
     "name": "stdout",
     "output_type": "stream",
     "text": [
      "Z=-9831.1(0.00%) | Like=-9173.07..-1770.46 [-5.381e+08..-8818] | it/evals=69/187 eff=79.3103% N=100 \r"
     ]
    },
    {
     "name": "stderr",
     "output_type": "stream",
     "text": [
      "DEBUG:ultranest:iteration=69, ncalls=187, regioncalls=3480, ndraw=40, logz=-9831.06, remainder_fraction=100.0000%, Lmin=-9173.07, Lmax=-1770.46\n"
     ]
    },
    {
     "name": "stdout",
     "output_type": "stream",
     "text": [
      "Z=-9178.4(0.00%) | Like=-8462.87..-1770.46 [-8462.8710..-4995.1865] | it/evals=70/188 eff=79.5455% N=100 \r"
     ]
    },
    {
     "name": "stderr",
     "output_type": "stream",
     "text": [
      "DEBUG:ultranest:iteration=70, ncalls=188, regioncalls=3520, ndraw=40, logz=-9178.37, remainder_fraction=100.0000%, Lmin=-8462.87, Lmax=-1770.46\n"
     ]
    },
    {
     "name": "stdout",
     "output_type": "stream",
     "text": [
      "Z=-7717.0(0.00%) | Like=-7653.21..-1770.46 [-8462.8710..-4995.1865] | it/evals=80/201 eff=79.2079% N=100 \r"
     ]
    },
    {
     "name": "stderr",
     "output_type": "stream",
     "text": [
      "DEBUG:ultranest:iteration=80, ncalls=201, regioncalls=4040, ndraw=40, logz=-7716.97, remainder_fraction=100.0000%, Lmin=-7653.21, Lmax=-1770.46\n"
     ]
    },
    {
     "name": "stdout",
     "output_type": "stream",
     "text": [
      "Z=-7453.3(0.00%) | Like=-7438.55..-1770.46 [-8462.8710..-4995.1865] | it/evals=90/214 eff=78.9474% N=100 \r"
     ]
    },
    {
     "name": "stderr",
     "output_type": "stream",
     "text": [
      "DEBUG:ultranest:iteration=90, ncalls=214, regioncalls=4560, ndraw=40, logz=-7453.31, remainder_fraction=100.0000%, Lmin=-7438.55, Lmax=-1770.46\n"
     ]
    },
    {
     "name": "stdout",
     "output_type": "stream",
     "text": [
      "Z=-7443.1(0.00%) | Like=-7338.74..-1770.46 [-8462.8710..-4995.1865] | it/evals=92/216 eff=79.3103% N=100 \r"
     ]
    },
    {
     "name": "stderr",
     "output_type": "stream",
     "text": [
      "DEBUG:ultranest:iteration=92, ncalls=216, regioncalls=4640, ndraw=40, logz=-7443.07, remainder_fraction=100.0000%, Lmin=-7338.74, Lmax=-1770.46\n"
     ]
    },
    {
     "name": "stdout",
     "output_type": "stream",
     "text": [
      "Z=-6783.1(0.00%) | Like=-6704.90..-1770.46 [-8462.8710..-4995.1865] | it/evals=100/226 eff=79.3651% N=100 \r"
     ]
    },
    {
     "name": "stderr",
     "output_type": "stream",
     "text": [
      "DEBUG:ultranest:iteration=100, ncalls=226, regioncalls=5040, ndraw=40, logz=-6783.12, remainder_fraction=100.0000%, Lmin=-6704.90, Lmax=-1770.46\n"
     ]
    },
    {
     "name": "stdout",
     "output_type": "stream",
     "text": [
      "Z=-6466.1(0.00%) | Like=-6417.99..-1770.46 [-8462.8710..-4995.1865] | it/evals=110/237 eff=80.2920% N=100 \r"
     ]
    },
    {
     "name": "stderr",
     "output_type": "stream",
     "text": [
      "DEBUG:ultranest:iteration=110, ncalls=237, regioncalls=5480, ndraw=40, logz=-6466.10, remainder_fraction=100.0000%, Lmin=-6417.99, Lmax=-1770.46\n"
     ]
    },
    {
     "name": "stdout",
     "output_type": "stream",
     "text": [
      "Z=-6228.3(0.00%) | Like=-6206.78..-1770.46 [-8462.8710..-4995.1865] | it/evals=115/244 eff=79.8611% N=100 \r"
     ]
    },
    {
     "name": "stderr",
     "output_type": "stream",
     "text": [
      "DEBUG:ultranest:iteration=115, ncalls=244, regioncalls=5760, ndraw=40, logz=-6228.25, remainder_fraction=100.0000%, Lmin=-6206.78, Lmax=-1770.46\n"
     ]
    },
    {
     "name": "stdout",
     "output_type": "stream",
     "text": [
      "Z=-6145.7(0.00%) | Like=-6066.53..-1770.46 [-8462.8710..-4995.1865] | it/evals=120/252 eff=78.9474% N=100 \r"
     ]
    },
    {
     "name": "stderr",
     "output_type": "stream",
     "text": [
      "DEBUG:ultranest:iteration=120, ncalls=252, regioncalls=6080, ndraw=40, logz=-6145.66, remainder_fraction=100.0000%, Lmin=-6066.53, Lmax=-1770.46\n"
     ]
    },
    {
     "name": "stdout",
     "output_type": "stream",
     "text": [
      "Z=-5565.4(0.00%) | Like=-5478.41..-1770.46 [-8462.8710..-4995.1865] | it/evals=130/263 eff=79.7546% N=100 \r"
     ]
    },
    {
     "name": "stderr",
     "output_type": "stream",
     "text": [
      "DEBUG:ultranest:iteration=130, ncalls=263, regioncalls=6560, ndraw=40, logz=-5565.43, remainder_fraction=100.0000%, Lmin=-5478.41, Lmax=-1770.46\n"
     ]
    },
    {
     "name": "stdout",
     "output_type": "stream",
     "text": [
      "Z=-5063.1(0.00%) | Like=-4933.26..-1770.46 [-4933.2583..-2922.1509] | it/evals=138/275 eff=78.8571% N=100 \r"
     ]
    },
    {
     "name": "stderr",
     "output_type": "stream",
     "text": [
      "DEBUG:ultranest:iteration=138, ncalls=275, regioncalls=7120, ndraw=40, logz=-5063.09, remainder_fraction=100.0000%, Lmin=-4933.26, Lmax=-1770.46\n"
     ]
    },
    {
     "name": "stdout",
     "output_type": "stream",
     "text": [
      "Z=-4913.2(0.00%) | Like=-4863.45..-1770.46 [-4933.2583..-2922.1509] | it/evals=140/278 eff=78.6517% N=100 \r"
     ]
    },
    {
     "name": "stderr",
     "output_type": "stream",
     "text": [
      "DEBUG:ultranest:iteration=140, ncalls=278, regioncalls=7240, ndraw=40, logz=-4913.22, remainder_fraction=100.0000%, Lmin=-4863.45, Lmax=-1770.46\n"
     ]
    },
    {
     "name": "stdout",
     "output_type": "stream",
     "text": [
      "Z=-4349.3(0.00%) | Like=-4254.74..-1770.46 [-4933.2583..-2922.1509] | it/evals=150/292 eff=78.1250% N=100 \r"
     ]
    },
    {
     "name": "stderr",
     "output_type": "stream",
     "text": [
      "DEBUG:ultranest:iteration=150, ncalls=292, regioncalls=7800, ndraw=40, logz=-4349.25, remainder_fraction=100.0000%, Lmin=-4254.74, Lmax=-1770.46\n"
     ]
    },
    {
     "name": "stdout",
     "output_type": "stream",
     "text": [
      "Z=-3947.0(0.00%) | Like=-3919.16..-1770.46 [-4933.2583..-2922.1509] | it/evals=160/306 eff=77.6699% N=100 \r"
     ]
    },
    {
     "name": "stderr",
     "output_type": "stream",
     "text": [
      "DEBUG:ultranest:iteration=160, ncalls=306, regioncalls=8360, ndraw=40, logz=-3946.97, remainder_fraction=100.0000%, Lmin=-3919.16, Lmax=-1770.46\n"
     ]
    },
    {
     "name": "stdout",
     "output_type": "stream",
     "text": [
      "Z=-3688.9(0.00%) | Like=-3572.44..-1770.46 [-4933.2583..-2922.1509] | it/evals=170/323 eff=76.2332% N=100 \r"
     ]
    },
    {
     "name": "stderr",
     "output_type": "stream",
     "text": [
      "DEBUG:ultranest:iteration=170, ncalls=323, regioncalls=9120, ndraw=40, logz=-3688.90, remainder_fraction=100.0000%, Lmin=-3572.44, Lmax=-1770.46\n"
     ]
    },
    {
     "name": "stdout",
     "output_type": "stream",
     "text": [
      "Z=-3414.5(0.00%) | Like=-3378.00..-1770.46 [-4933.2583..-2922.1509] | it/evals=180/340 eff=75.0000% N=100 \r"
     ]
    },
    {
     "name": "stderr",
     "output_type": "stream",
     "text": [
      "DEBUG:ultranest:iteration=180, ncalls=340, regioncalls=9840, ndraw=40, logz=-3414.51, remainder_fraction=100.0000%, Lmin=-3378.00, Lmax=-1770.46\n"
     ]
    },
    {
     "name": "stdout",
     "output_type": "stream",
     "text": [
      "Z=-3144.9(0.00%) | Like=-3134.53..-1770.46 [-4933.2583..-2922.1509] | it/evals=190/353 eff=75.0988% N=100 \r"
     ]
    },
    {
     "name": "stderr",
     "output_type": "stream",
     "text": [
      "DEBUG:ultranest:iteration=190, ncalls=353, regioncalls=10360, ndraw=40, logz=-3144.92, remainder_fraction=100.0000%, Lmin=-3134.53, Lmax=-1770.46\n"
     ]
    },
    {
     "name": "stdout",
     "output_type": "stream",
     "text": [
      "Z=-3021.1(0.00%) | Like=-3011.72..-1770.46 [-4933.2583..-2922.1509] | it/evals=200/374 eff=72.9927% N=100 \r"
     ]
    },
    {
     "name": "stderr",
     "output_type": "stream",
     "text": [
      "DEBUG:ultranest:iteration=200, ncalls=374, regioncalls=11200, ndraw=40, logz=-3021.05, remainder_fraction=100.0000%, Lmin=-3011.72, Lmax=-1770.46\n"
     ]
    },
    {
     "name": "stdout",
     "output_type": "stream",
     "text": [
      "Z=-2835.4(0.00%) | Like=-2821.89..-1770.46 [-2916.5812..-2179.9616] | it/evals=210/393 eff=71.6724% N=100 \r"
     ]
    },
    {
     "name": "stderr",
     "output_type": "stream",
     "text": [
      "DEBUG:ultranest:iteration=210, ncalls=393, regioncalls=12040, ndraw=40, logz=-2835.38, remainder_fraction=100.0000%, Lmin=-2821.89, Lmax=-1770.46\n"
     ]
    },
    {
     "name": "stdout",
     "output_type": "stream",
     "text": [
      "Z=-2778.7(0.00%) | Like=-2770.25..-1770.46 [-2916.5812..-2179.9616] | it/evals=220/417 eff=69.4006% N=100 \r"
     ]
    },
    {
     "name": "stderr",
     "output_type": "stream",
     "text": [
      "DEBUG:ultranest:iteration=220, ncalls=417, regioncalls=13160, ndraw=40, logz=-2778.72, remainder_fraction=100.0000%, Lmin=-2770.25, Lmax=-1770.46\n"
     ]
    },
    {
     "name": "stdout",
     "output_type": "stream",
     "text": [
      "Z=-2664.5(0.00%) | Like=-2650.60..-1770.46 [-2916.5812..-2179.9616] | it/evals=230/438 eff=68.0473% N=100 \r"
     ]
    },
    {
     "name": "stderr",
     "output_type": "stream",
     "text": [
      "DEBUG:ultranest:iteration=230, ncalls=438, regioncalls=14080, ndraw=40, logz=-2664.46, remainder_fraction=100.0000%, Lmin=-2650.60, Lmax=-1770.46\n"
     ]
    },
    {
     "name": "stdout",
     "output_type": "stream",
     "text": [
      "Z=-2588.9(0.00%) | Like=-2575.26..-1770.46 [-2916.5812..-2179.9616] | it/evals=240/459 eff=66.8524% N=100 \r"
     ]
    },
    {
     "name": "stderr",
     "output_type": "stream",
     "text": [
      "DEBUG:ultranest:iteration=240, ncalls=459, regioncalls=14920, ndraw=40, logz=-2588.93, remainder_fraction=100.0000%, Lmin=-2575.26, Lmax=-1770.46\n"
     ]
    },
    {
     "name": "stdout",
     "output_type": "stream",
     "text": [
      "Z=-2476.6(0.00%) | Like=-2455.34..-1763.61 [-2916.5812..-2179.9616] | it/evals=250/494 eff=63.4518% N=100 \r"
     ]
    },
    {
     "name": "stderr",
     "output_type": "stream",
     "text": [
      "DEBUG:ultranest:iteration=250, ncalls=494, regioncalls=16480, ndraw=40, logz=-2476.64, remainder_fraction=100.0000%, Lmin=-2455.34, Lmax=-1763.61\n"
     ]
    },
    {
     "name": "stdout",
     "output_type": "stream",
     "text": [
      "Z=-2419.6(0.00%) | Like=-2402.44..-1763.61 [-2916.5812..-2179.9616] | it/evals=260/515 eff=62.6506% N=100 \r"
     ]
    },
    {
     "name": "stderr",
     "output_type": "stream",
     "text": [
      "DEBUG:ultranest:iteration=260, ncalls=515, regioncalls=17440, ndraw=40, logz=-2419.56, remainder_fraction=100.0000%, Lmin=-2402.44, Lmax=-1763.61\n"
     ]
    },
    {
     "name": "stdout",
     "output_type": "stream",
     "text": [
      "Z=-2307.0(0.00%) | Like=-2295.90..-1763.61 [-2916.5812..-2179.9616] | it/evals=270/533 eff=62.3557% N=100 \r"
     ]
    },
    {
     "name": "stderr",
     "output_type": "stream",
     "text": [
      "DEBUG:ultranest:iteration=270, ncalls=533, regioncalls=18560, ndraw=40, logz=-2307.01, remainder_fraction=100.0000%, Lmin=-2295.90, Lmax=-1763.61\n"
     ]
    },
    {
     "name": "stdout",
     "output_type": "stream",
     "text": [
      "Z=-2218.1(0.00%) | Like=-2198.09..-1763.61 [-2916.5812..-2179.9616] | it/evals=280/574 eff=59.0717% N=100 \r"
     ]
    },
    {
     "name": "stderr",
     "output_type": "stream",
     "text": [
      "DEBUG:ultranest:iteration=280, ncalls=574, regioncalls=20440, ndraw=40, logz=-2218.10, remainder_fraction=100.0000%, Lmin=-2198.09, Lmax=-1763.61\n"
     ]
    },
    {
     "name": "stdout",
     "output_type": "stream",
     "text": [
      "Z=-2128.9(0.00%) | Like=-2120.40..-1763.61 [-2177.8724..-1943.5503] | it/evals=290/603 eff=57.6541% N=100 \r"
     ]
    },
    {
     "name": "stderr",
     "output_type": "stream",
     "text": [
      "DEBUG:ultranest:iteration=290, ncalls=603, regioncalls=21880, ndraw=40, logz=-2128.91, remainder_fraction=100.0000%, Lmin=-2120.40, Lmax=-1763.61\n"
     ]
    },
    {
     "name": "stdout",
     "output_type": "stream",
     "text": [
      "Z=-2106.1(0.00%) | Like=-2095.92..-1763.61 [-2177.8724..-1943.5503] | it/evals=300/636 eff=55.9701% N=100 \r"
     ]
    },
    {
     "name": "stderr",
     "output_type": "stream",
     "text": [
      "DEBUG:ultranest:iteration=300, ncalls=636, regioncalls=23280, ndraw=40, logz=-2106.10, remainder_fraction=100.0000%, Lmin=-2095.92, Lmax=-1763.61\n"
     ]
    },
    {
     "name": "stdout",
     "output_type": "stream",
     "text": [
      "Z=-2051.0(0.00%) | Like=-2040.48..-1763.61 [-2177.8724..-1943.5503] | it/evals=310/660 eff=55.3571% N=100 \r"
     ]
    },
    {
     "name": "stderr",
     "output_type": "stream",
     "text": [
      "DEBUG:ultranest:iteration=310, ncalls=660, regioncalls=24600, ndraw=40, logz=-2051.02, remainder_fraction=100.0000%, Lmin=-2040.48, Lmax=-1763.61\n"
     ]
    },
    {
     "name": "stdout",
     "output_type": "stream",
     "text": [
      "Z=-2018.7(0.00%) | Like=-2011.24..-1763.61 [-2177.8724..-1943.5503] | it/evals=320/684 eff=54.7945% N=100 \r"
     ]
    },
    {
     "name": "stderr",
     "output_type": "stream",
     "text": [
      "DEBUG:ultranest:iteration=320, ncalls=684, regioncalls=25680, ndraw=40, logz=-2018.69, remainder_fraction=100.0000%, Lmin=-2011.24, Lmax=-1763.61\n"
     ]
    },
    {
     "name": "stdout",
     "output_type": "stream",
     "text": [
      "Z=-2011.9(0.00%) | Like=-1998.73..-1763.61 [-2177.8724..-1943.5503] | it/evals=322/689 eff=54.6689% N=100 \r"
     ]
    },
    {
     "name": "stderr",
     "output_type": "stream",
     "text": [
      "DEBUG:ultranest:iteration=322, ncalls=689, regioncalls=26040, ndraw=40, logz=-2011.88, remainder_fraction=100.0000%, Lmin=-1998.73, Lmax=-1763.61\n"
     ]
    },
    {
     "name": "stdout",
     "output_type": "stream",
     "text": [
      "Z=-1988.1(0.00%) | Like=-1976.86..-1763.61 [-2177.8724..-1943.5503] | it/evals=330/703 eff=54.7264% N=100 \r"
     ]
    },
    {
     "name": "stderr",
     "output_type": "stream",
     "text": [
      "DEBUG:ultranest:iteration=330, ncalls=703, regioncalls=26880, ndraw=40, logz=-1988.13, remainder_fraction=100.0000%, Lmin=-1976.86, Lmax=-1763.61\n"
     ]
    },
    {
     "name": "stdout",
     "output_type": "stream",
     "text": [
      "Z=-1969.9(0.00%) | Like=-1961.88..-1763.61 [-2177.8724..-1943.5503] | it/evals=340/729 eff=54.0541% N=100 \r"
     ]
    },
    {
     "name": "stderr",
     "output_type": "stream",
     "text": [
      "DEBUG:ultranest:iteration=340, ncalls=729, regioncalls=28240, ndraw=40, logz=-1969.90, remainder_fraction=100.0000%, Lmin=-1961.88, Lmax=-1763.61\n"
     ]
    },
    {
     "name": "stdout",
     "output_type": "stream",
     "text": [
      "Z=-1947.1(0.00%) | Like=-1939.44..-1763.61 [-1942.9988..-1852.5557] | it/evals=350/759 eff=53.1108% N=100 \r"
     ]
    },
    {
     "name": "stderr",
     "output_type": "stream",
     "text": [
      "DEBUG:ultranest:iteration=350, ncalls=759, regioncalls=29720, ndraw=40, logz=-1947.11, remainder_fraction=100.0000%, Lmin=-1939.44, Lmax=-1763.61\n"
     ]
    },
    {
     "name": "stdout",
     "output_type": "stream",
     "text": [
      "Z=-1930.9(0.00%) | Like=-1920.59..-1763.61 [-1942.9988..-1852.5557] | it/evals=360/780 eff=52.9412% N=100 \r"
     ]
    },
    {
     "name": "stderr",
     "output_type": "stream",
     "text": [
      "DEBUG:ultranest:iteration=360, ncalls=780, regioncalls=30720, ndraw=40, logz=-1930.93, remainder_fraction=100.0000%, Lmin=-1920.59, Lmax=-1763.61\n"
     ]
    },
    {
     "name": "stdout",
     "output_type": "stream",
     "text": [
      "Z=-1913.5(0.00%) | Like=-1901.35..-1763.61 [-1942.9988..-1852.5557] | it/evals=368/792 eff=53.1792% N=100 \r"
     ]
    },
    {
     "name": "stderr",
     "output_type": "stream",
     "text": [
      "DEBUG:ultranest:iteration=368, ncalls=792, regioncalls=31240, ndraw=40, logz=-1913.51, remainder_fraction=100.0000%, Lmin=-1901.35, Lmax=-1763.61\n"
     ]
    },
    {
     "name": "stdout",
     "output_type": "stream",
     "text": [
      "Z=-1908.7(0.00%) | Like=-1896.94..-1763.61 [-1942.9988..-1852.5557] | it/evals=370/794 eff=53.3141% N=100 \r"
     ]
    },
    {
     "name": "stderr",
     "output_type": "stream",
     "text": [
      "DEBUG:ultranest:iteration=370, ncalls=794, regioncalls=31360, ndraw=40, logz=-1908.68, remainder_fraction=100.0000%, Lmin=-1896.94, Lmax=-1763.61\n"
     ]
    },
    {
     "name": "stdout",
     "output_type": "stream",
     "text": [
      "Z=-1891.5(0.00%) | Like=-1882.93..-1763.61 [-1942.9988..-1852.5557] | it/evals=380/807 eff=53.7482% N=100 \r"
     ]
    },
    {
     "name": "stderr",
     "output_type": "stream",
     "text": [
      "DEBUG:ultranest:iteration=380, ncalls=807, regioncalls=32120, ndraw=40, logz=-1891.51, remainder_fraction=100.0000%, Lmin=-1882.93, Lmax=-1763.61\n"
     ]
    },
    {
     "name": "stdout",
     "output_type": "stream",
     "text": [
      "Z=-1882.2(0.00%) | Like=-1871.82..-1763.61 [-1942.9988..-1852.5557] | it/evals=390/826 eff=53.7190% N=100 \r"
     ]
    },
    {
     "name": "stderr",
     "output_type": "stream",
     "text": [
      "DEBUG:ultranest:iteration=390, ncalls=826, regioncalls=32920, ndraw=40, logz=-1882.21, remainder_fraction=100.0000%, Lmin=-1871.82, Lmax=-1763.61\n"
     ]
    },
    {
     "name": "stdout",
     "output_type": "stream",
     "text": [
      "Z=-1880.2(0.00%) | Like=-1870.56..-1763.61 [-1942.9988..-1852.5557] | it/evals=391/827 eff=53.7827% N=100 \r"
     ]
    },
    {
     "name": "stderr",
     "output_type": "stream",
     "text": [
      "DEBUG:ultranest:iteration=391, ncalls=827, regioncalls=32960, ndraw=40, logz=-1880.19, remainder_fraction=100.0000%, Lmin=-1870.56, Lmax=-1763.61\n"
     ]
    },
    {
     "name": "stdout",
     "output_type": "stream",
     "text": [
      "Z=-1872.6(0.00%) | Like=-1863.89..-1763.61 [-1942.9988..-1852.5557] | it/evals=400/839 eff=54.1272% N=100 \r"
     ]
    },
    {
     "name": "stderr",
     "output_type": "stream",
     "text": [
      "DEBUG:ultranest:iteration=400, ncalls=839, regioncalls=33480, ndraw=40, logz=-1872.62, remainder_fraction=100.0000%, Lmin=-1863.89, Lmax=-1763.61\n"
     ]
    },
    {
     "name": "stdout",
     "output_type": "stream",
     "text": [
      "Z=-1868.0(0.00%) | Like=-1859.61..-1763.61 [-1942.9988..-1852.5557] | it/evals=410/855 eff=54.3046% N=100 \r"
     ]
    },
    {
     "name": "stderr",
     "output_type": "stream",
     "text": [
      "DEBUG:ultranest:iteration=410, ncalls=855, regioncalls=34120, ndraw=40, logz=-1868.00, remainder_fraction=100.0000%, Lmin=-1859.61, Lmax=-1763.61\n"
     ]
    },
    {
     "name": "stdout",
     "output_type": "stream",
     "text": [
      "Z=-1856.1(0.00%) | Like=-1845.47..-1763.61 [-1852.3420..-1808.8275] | it/evals=420/872 eff=54.4041% N=100 \r"
     ]
    },
    {
     "name": "stderr",
     "output_type": "stream",
     "text": [
      "DEBUG:ultranest:iteration=420, ncalls=872, regioncalls=34800, ndraw=40, logz=-1856.07, remainder_fraction=100.0000%, Lmin=-1845.47, Lmax=-1763.61\n"
     ]
    },
    {
     "name": "stdout",
     "output_type": "stream",
     "text": [
      "Z=-1848.1(0.00%) | Like=-1837.05..-1763.61 [-1852.3420..-1808.8275] | it/evals=430/885 eff=54.7771% N=100 \r"
     ]
    },
    {
     "name": "stderr",
     "output_type": "stream",
     "text": [
      "DEBUG:ultranest:iteration=430, ncalls=885, regioncalls=35360, ndraw=40, logz=-1848.10, remainder_fraction=100.0000%, Lmin=-1837.05, Lmax=-1763.61\n"
     ]
    },
    {
     "name": "stdout",
     "output_type": "stream",
     "text": [
      "Z=-1837.0(0.00%) | Like=-1828.71..-1763.61 [-1852.3420..-1808.8275] | it/evals=440/919 eff=53.7241% N=100 \r"
     ]
    },
    {
     "name": "stderr",
     "output_type": "stream",
     "text": [
      "DEBUG:ultranest:iteration=440, ncalls=919, regioncalls=36880, ndraw=40, logz=-1836.99, remainder_fraction=100.0000%, Lmin=-1828.71, Lmax=-1763.61\n"
     ]
    },
    {
     "name": "stdout",
     "output_type": "stream",
     "text": [
      "Z=-1832.5(0.00%) | Like=-1824.05..-1763.61 [-1852.3420..-1808.8275] | it/evals=450/934 eff=53.9568% N=100 \r"
     ]
    },
    {
     "name": "stderr",
     "output_type": "stream",
     "text": [
      "DEBUG:ultranest:iteration=450, ncalls=934, regioncalls=37560, ndraw=40, logz=-1832.52, remainder_fraction=100.0000%, Lmin=-1824.05, Lmax=-1763.61\n"
     ]
    },
    {
     "name": "stdout",
     "output_type": "stream",
     "text": [
      "Z=-1827.4(0.00%) | Like=-1819.14..-1763.61 [-1852.3420..-1808.8275] | it/evals=460/948 eff=54.2453% N=100 \r"
     ]
    },
    {
     "name": "stderr",
     "output_type": "stream",
     "text": [
      "DEBUG:ultranest:iteration=460, ncalls=948, regioncalls=38200, ndraw=40, logz=-1827.36, remainder_fraction=100.0000%, Lmin=-1819.14, Lmax=-1763.61\n"
     ]
    },
    {
     "name": "stdout",
     "output_type": "stream",
     "text": [
      "Z=-1821.9(0.00%) | Like=-1813.46..-1763.61 [-1852.3420..-1808.8275] | it/evals=470/960 eff=54.6512% N=100 \r"
     ]
    },
    {
     "name": "stderr",
     "output_type": "stream",
     "text": [
      "DEBUG:ultranest:iteration=470, ncalls=960, regioncalls=38800, ndraw=40, logz=-1821.94, remainder_fraction=100.0000%, Lmin=-1813.46, Lmax=-1763.61\n"
     ]
    },
    {
     "name": "stdout",
     "output_type": "stream",
     "text": [
      "Z=-1817.9(0.00%) | Like=-1809.25..-1763.61 [-1852.3420..-1808.8275] | it/evals=480/984 eff=54.2986% N=100 \r"
     ]
    },
    {
     "name": "stderr",
     "output_type": "stream",
     "text": [
      "DEBUG:ultranest:iteration=480, ncalls=984, regioncalls=39840, ndraw=40, logz=-1817.93, remainder_fraction=100.0000%, Lmin=-1809.25, Lmax=-1763.61\n"
     ]
    },
    {
     "name": "stdout",
     "output_type": "stream",
     "text": [
      "Z=-1814.7(0.00%) | Like=-1806.31..-1763.61 [-1808.7039..-1783.7977] | it/evals=490/997 eff=54.6265% N=100 \r"
     ]
    },
    {
     "name": "stderr",
     "output_type": "stream",
     "text": [
      "DEBUG:ultranest:iteration=490, ncalls=997, regioncalls=40520, ndraw=40, logz=-1814.72, remainder_fraction=100.0000%, Lmin=-1806.31, Lmax=-1763.61\n"
     ]
    },
    {
     "name": "stdout",
     "output_type": "stream",
     "text": [
      "Z=-1811.4(0.00%) | Like=-1802.77..-1763.61 [-1808.7039..-1783.7977] | it/evals=500/1012 eff=54.8246% N=100 \r"
     ]
    },
    {
     "name": "stderr",
     "output_type": "stream",
     "text": [
      "DEBUG:ultranest:iteration=500, ncalls=1012, regioncalls=41200, ndraw=40, logz=-1811.45, remainder_fraction=100.0000%, Lmin=-1802.77, Lmax=-1763.61\n"
     ]
    },
    {
     "name": "stdout",
     "output_type": "stream",
     "text": [
      "Z=-1806.8(0.00%) | Like=-1797.24..-1763.61 [-1808.7039..-1783.7977] | it/evals=510/1033 eff=54.6624% N=100 \r"
     ]
    },
    {
     "name": "stderr",
     "output_type": "stream",
     "text": [
      "DEBUG:ultranest:iteration=510, ncalls=1033, regioncalls=42080, ndraw=40, logz=-1806.76, remainder_fraction=100.0000%, Lmin=-1797.24, Lmax=-1763.61\n"
     ]
    },
    {
     "name": "stdout",
     "output_type": "stream",
     "text": [
      "Z=-1803.2(0.00%) | Like=-1794.22..-1763.61 [-1808.7039..-1783.7977] | it/evals=520/1053 eff=54.5645% N=100 \r"
     ]
    },
    {
     "name": "stderr",
     "output_type": "stream",
     "text": [
      "DEBUG:ultranest:iteration=520, ncalls=1053, regioncalls=43160, ndraw=40, logz=-1803.16, remainder_fraction=100.0000%, Lmin=-1794.22, Lmax=-1763.61\n"
     ]
    },
    {
     "name": "stdout",
     "output_type": "stream",
     "text": [
      "Z=-1800.4(0.00%) | Like=-1791.13..-1763.36 [-1808.7039..-1783.7977] | it/evals=529/1070 eff=54.5361% N=100 \r"
     ]
    },
    {
     "name": "stderr",
     "output_type": "stream",
     "text": [
      "DEBUG:ultranest:iteration=529, ncalls=1070, regioncalls=44120, ndraw=40, logz=-1800.36, remainder_fraction=100.0000%, Lmin=-1791.13, Lmax=-1763.36\n"
     ]
    },
    {
     "name": "stdout",
     "output_type": "stream",
     "text": [
      "Z=-1799.9(0.00%) | Like=-1790.82..-1763.36 [-1808.7039..-1783.7977] | it/evals=530/1074 eff=54.4148% N=100 \r"
     ]
    },
    {
     "name": "stderr",
     "output_type": "stream",
     "text": [
      "DEBUG:ultranest:iteration=530, ncalls=1074, regioncalls=44280, ndraw=40, logz=-1799.94, remainder_fraction=100.0000%, Lmin=-1790.82, Lmax=-1763.36\n"
     ]
    },
    {
     "name": "stdout",
     "output_type": "stream",
     "text": [
      "Z=-1795.2(0.00%) | Like=-1785.64..-1763.36 [-1808.7039..-1783.7977] | it/evals=540/1095 eff=54.2714% N=100 \r"
     ]
    },
    {
     "name": "stderr",
     "output_type": "stream",
     "text": [
      "DEBUG:ultranest:iteration=540, ncalls=1095, regioncalls=45160, ndraw=40, logz=-1795.18, remainder_fraction=100.0000%, Lmin=-1785.64, Lmax=-1763.36\n"
     ]
    },
    {
     "name": "stdout",
     "output_type": "stream",
     "text": [
      "Z=-1792.1(0.00%) | Like=-1783.42..-1763.36 [-1783.6816..-1773.8299] | it/evals=550/1125 eff=53.6585% N=100 \r"
     ]
    },
    {
     "name": "stderr",
     "output_type": "stream",
     "text": [
      "DEBUG:ultranest:iteration=550, ncalls=1125, regioncalls=46440, ndraw=40, logz=-1792.08, remainder_fraction=100.0000%, Lmin=-1783.42, Lmax=-1763.36\n"
     ]
    },
    {
     "name": "stdout",
     "output_type": "stream",
     "text": [
      "Z=-1791.7(0.00%) | Like=-1782.99..-1763.36 [-1783.6816..-1773.8299] | it/evals=552/1130 eff=53.5922% N=100 \r"
     ]
    },
    {
     "name": "stderr",
     "output_type": "stream",
     "text": [
      "DEBUG:ultranest:iteration=552, ncalls=1130, regioncalls=46640, ndraw=40, logz=-1791.67, remainder_fraction=100.0000%, Lmin=-1782.99, Lmax=-1763.36\n"
     ]
    },
    {
     "name": "stdout",
     "output_type": "stream",
     "text": [
      "Z=-1789.6(0.00%) | Like=-1780.75..-1763.27 [-1783.6816..-1773.8299] | it/evals=560/1146 eff=53.5373% N=100 \r"
     ]
    },
    {
     "name": "stderr",
     "output_type": "stream",
     "text": [
      "DEBUG:ultranest:iteration=560, ncalls=1146, regioncalls=47360, ndraw=40, logz=-1789.57, remainder_fraction=100.0000%, Lmin=-1780.75, Lmax=-1763.27\n"
     ]
    },
    {
     "name": "stdout",
     "output_type": "stream",
     "text": [
      "Z=-1788.1(0.00%) | Like=-1779.99..-1763.27 [-1783.6816..-1773.8299] | it/evals=570/1158 eff=53.8752% N=100 \r"
     ]
    },
    {
     "name": "stderr",
     "output_type": "stream",
     "text": [
      "DEBUG:ultranest:iteration=570, ncalls=1158, regioncalls=47880, ndraw=40, logz=-1788.12, remainder_fraction=100.0000%, Lmin=-1779.99, Lmax=-1763.27\n"
     ]
    },
    {
     "name": "stdout",
     "output_type": "stream",
     "text": [
      "Z=-1787.0(0.00%) | Like=-1779.04..-1763.27 [-1783.6816..-1773.8299] | it/evals=580/1175 eff=53.9535% N=100 \r"
     ]
    },
    {
     "name": "stderr",
     "output_type": "stream",
     "text": [
      "DEBUG:ultranest:iteration=580, ncalls=1175, regioncalls=48800, ndraw=40, logz=-1787.05, remainder_fraction=100.0000%, Lmin=-1779.04, Lmax=-1763.27\n"
     ]
    },
    {
     "name": "stdout",
     "output_type": "stream",
     "text": [
      "Z=-1786.1(0.00%) | Like=-1777.84..-1763.27 [-1783.6816..-1773.8299] | it/evals=590/1191 eff=54.0788% N=100 \r"
     ]
    },
    {
     "name": "stderr",
     "output_type": "stream",
     "text": [
      "DEBUG:ultranest:iteration=590, ncalls=1191, regioncalls=49600, ndraw=40, logz=-1786.10, remainder_fraction=100.0000%, Lmin=-1777.84, Lmax=-1763.27\n"
     ]
    },
    {
     "name": "stdout",
     "output_type": "stream",
     "text": [
      "Z=-1784.7(0.00%) | Like=-1775.79..-1763.27 [-1783.6816..-1773.8299] | it/evals=600/1211 eff=54.0054% N=100 \r"
     ]
    },
    {
     "name": "stderr",
     "output_type": "stream",
     "text": [
      "DEBUG:ultranest:iteration=600, ncalls=1211, regioncalls=50440, ndraw=40, logz=-1784.70, remainder_fraction=99.9998%, Lmin=-1775.79, Lmax=-1763.27\n"
     ]
    },
    {
     "name": "stdout",
     "output_type": "stream",
     "text": [
      "Z=-1783.4(0.00%) | Like=-1774.63..-1763.27 [-1783.6816..-1773.8299] | it/evals=610/1233 eff=53.8394% N=100 \r"
     ]
    },
    {
     "name": "stderr",
     "output_type": "stream",
     "text": [
      "DEBUG:ultranest:iteration=610, ncalls=1233, regioncalls=51480, ndraw=40, logz=-1783.40, remainder_fraction=99.9993%, Lmin=-1774.63, Lmax=-1763.27\n"
     ]
    },
    {
     "name": "stdout",
     "output_type": "stream",
     "text": [
      "Z=-1782.4(0.00%) | Like=-1773.98..-1763.27 [-1783.6816..-1773.8299] | it/evals=620/1251 eff=53.8662% N=100 \r"
     ]
    },
    {
     "name": "stderr",
     "output_type": "stream",
     "text": [
      "DEBUG:ultranest:iteration=620, ncalls=1251, regioncalls=52280, ndraw=40, logz=-1782.37, remainder_fraction=99.9979%, Lmin=-1773.98, Lmax=-1763.27\n"
     ]
    },
    {
     "name": "stdout",
     "output_type": "stream",
     "text": [
      "Z=-1782.3(0.00%) | Like=-1773.93..-1763.27 [-1783.6816..-1773.8299] | it/evals=621/1252 eff=53.9062% N=100 \r"
     ]
    },
    {
     "name": "stderr",
     "output_type": "stream",
     "text": [
      "DEBUG:ultranest:iteration=621, ncalls=1252, regioncalls=52400, ndraw=40, logz=-1782.28, remainder_fraction=99.9976%, Lmin=-1773.93, Lmax=-1763.27\n"
     ]
    },
    {
     "name": "stdout",
     "output_type": "stream",
     "text": [
      "Z=-1781.6(0.00%) | Like=-1773.19..-1763.27 [-1773.7813..-1768.3750] | it/evals=630/1265 eff=54.0773% N=100 \r"
     ]
    },
    {
     "name": "stderr",
     "output_type": "stream",
     "text": [
      "DEBUG:ultranest:iteration=630, ncalls=1265, regioncalls=52960, ndraw=40, logz=-1781.62, remainder_fraction=99.9952%, Lmin=-1773.19, Lmax=-1763.27\n"
     ]
    },
    {
     "name": "stdout",
     "output_type": "stream",
     "text": [
      "Z=-1780.8(0.01%) | Like=-1772.57..-1763.27 [-1773.7813..-1768.3750] | it/evals=640/1281 eff=54.1914% N=100 \r"
     ]
    },
    {
     "name": "stderr",
     "output_type": "stream",
     "text": [
      "DEBUG:ultranest:iteration=640, ncalls=1281, regioncalls=53600, ndraw=40, logz=-1780.85, remainder_fraction=99.9893%, Lmin=-1772.57, Lmax=-1763.27\n"
     ]
    },
    {
     "name": "stdout",
     "output_type": "stream",
     "text": [
      "Z=-1780.1(0.02%) | Like=-1770.84..-1763.27 [-1773.7813..-1768.3750] | it/evals=650/1294 eff=54.4389% N=100 \r"
     ]
    },
    {
     "name": "stderr",
     "output_type": "stream",
     "text": [
      "DEBUG:ultranest:iteration=650, ncalls=1294, regioncalls=54120, ndraw=40, logz=-1780.11, remainder_fraction=99.9770%, Lmin=-1770.84, Lmax=-1763.27\n"
     ]
    },
    {
     "name": "stdout",
     "output_type": "stream",
     "text": [
      "Z=-1779.0(0.07%) | Like=-1770.25..-1763.27 [-1773.7813..-1768.3750] | it/evals=660/1315 eff=54.3210% N=100 \r"
     ]
    },
    {
     "name": "stderr",
     "output_type": "stream",
     "text": [
      "DEBUG:ultranest:iteration=660, ncalls=1315, regioncalls=54960, ndraw=40, logz=-1779.04, remainder_fraction=99.9336%, Lmin=-1770.25, Lmax=-1763.27\n"
     ]
    },
    {
     "name": "stdout",
     "output_type": "stream",
     "text": [
      "Z=-1778.5(0.11%) | Like=-1770.03..-1763.27 [-1773.7813..-1768.3750] | it/evals=667/1327 eff=54.3602% N=100 \r"
     ]
    },
    {
     "name": "stderr",
     "output_type": "stream",
     "text": [
      "DEBUG:ultranest:iteration=667, ncalls=1327, regioncalls=55520, ndraw=40, logz=-1778.52, remainder_fraction=99.8890%, Lmin=-1770.03, Lmax=-1763.27\n"
     ]
    },
    {
     "name": "stdout",
     "output_type": "stream",
     "text": [
      "Z=-1778.3(0.14%) | Like=-1769.82..-1763.27 [-1773.7813..-1768.3750] | it/evals=670/1332 eff=54.3831% N=100 \r"
     ]
    },
    {
     "name": "stderr",
     "output_type": "stream",
     "text": [
      "DEBUG:ultranest:iteration=670, ncalls=1332, regioncalls=55720, ndraw=40, logz=-1778.33, remainder_fraction=99.8631%, Lmin=-1769.82, Lmax=-1763.27\n"
     ]
    },
    {
     "name": "stdout",
     "output_type": "stream",
     "text": [
      "Z=-1777.7(0.27%) | Like=-1769.22..-1763.27 [-1773.7813..-1768.3750] | it/evals=680/1347 eff=54.5309% N=100 \r"
     ]
    },
    {
     "name": "stderr",
     "output_type": "stream",
     "text": [
      "DEBUG:ultranest:iteration=680, ncalls=1347, regioncalls=56320, ndraw=40, logz=-1777.70, remainder_fraction=99.7269%, Lmin=-1769.22, Lmax=-1763.27\n"
     ]
    },
    {
     "name": "stdout",
     "output_type": "stream",
     "text": [
      "Z=-1777.1(0.50%) | Like=-1768.56..-1763.27 [-1773.7813..-1768.3750] | it/evals=690/1358 eff=54.8490% N=100 \r"
     ]
    },
    {
     "name": "stderr",
     "output_type": "stream",
     "text": [
      "DEBUG:ultranest:iteration=690, ncalls=1358, regioncalls=56800, ndraw=40, logz=-1777.15, remainder_fraction=99.5006%, Lmin=-1768.56, Lmax=-1763.27\n"
     ]
    },
    {
     "name": "stdout",
     "output_type": "stream",
     "text": [
      "Z=-1776.7(0.84%) | Like=-1768.12..-1763.27 [-1768.3242..-1766.1686] | it/evals=700/1373 eff=54.9882% N=100 \r"
     ]
    },
    {
     "name": "stderr",
     "output_type": "stream",
     "text": [
      "DEBUG:ultranest:iteration=700, ncalls=1373, regioncalls=57440, ndraw=40, logz=-1776.66, remainder_fraction=99.1566%, Lmin=-1768.12, Lmax=-1763.27\n"
     ]
    },
    {
     "name": "stdout",
     "output_type": "stream",
     "text": [
      "Z=-1776.2(1.31%) | Like=-1767.57..-1763.27 [-1768.3242..-1766.1686] | it/evals=710/1391 eff=54.9961% N=100 \r"
     ]
    },
    {
     "name": "stderr",
     "output_type": "stream",
     "text": [
      "DEBUG:ultranest:iteration=710, ncalls=1391, regioncalls=58240, ndraw=40, logz=-1776.21, remainder_fraction=98.6879%, Lmin=-1767.57, Lmax=-1763.27\n"
     ]
    },
    {
     "name": "stdout",
     "output_type": "stream",
     "text": [
      "Z=-1776.1(1.51%) | Like=-1767.37..-1763.27 [-1768.3242..-1766.1686] | it/evals=713/1396 eff=55.0154% N=100 \r"
     ]
    },
    {
     "name": "stderr",
     "output_type": "stream",
     "text": [
      "DEBUG:ultranest:iteration=713, ncalls=1396, regioncalls=58480, ndraw=40, logz=-1776.07, remainder_fraction=98.4902%, Lmin=-1767.37, Lmax=-1763.27\n"
     ]
    },
    {
     "name": "stdout",
     "output_type": "stream",
     "text": [
      "Z=-1775.8(2.01%) | Like=-1767.20..-1763.27 [-1768.3242..-1766.1686] | it/evals=720/1403 eff=55.2571% N=100 \r"
     ]
    },
    {
     "name": "stderr",
     "output_type": "stream",
     "text": [
      "DEBUG:ultranest:iteration=720, ncalls=1403, regioncalls=58840, ndraw=40, logz=-1775.76, remainder_fraction=97.9942%, Lmin=-1767.20, Lmax=-1763.27\n"
     ]
    },
    {
     "name": "stdout",
     "output_type": "stream",
     "text": [
      "Z=-1775.4(2.99%) | Like=-1767.03..-1763.27 [-1768.3242..-1766.1686] | it/evals=730/1414 eff=55.5556% N=100 \r"
     ]
    },
    {
     "name": "stderr",
     "output_type": "stream",
     "text": [
      "DEBUG:ultranest:iteration=730, ncalls=1414, regioncalls=59320, ndraw=40, logz=-1775.42, remainder_fraction=97.0124%, Lmin=-1767.03, Lmax=-1763.27\n"
     ]
    },
    {
     "name": "stdout",
     "output_type": "stream",
     "text": [
      "Z=-1775.1(3.92%) | Like=-1766.72..-1763.27 [-1768.3242..-1766.1686] | it/evals=740/1429 eff=55.6810% N=100 \r"
     ]
    },
    {
     "name": "stderr",
     "output_type": "stream",
     "text": [
      "DEBUG:ultranest:iteration=740, ncalls=1429, regioncalls=60040, ndraw=40, logz=-1775.14, remainder_fraction=96.0802%, Lmin=-1766.72, Lmax=-1763.27\n"
     ]
    },
    {
     "name": "stdout",
     "output_type": "stream",
     "text": [
      "Z=-1774.9(4.92%) | Like=-1766.41..-1763.27 [-1768.3242..-1766.1686] | it/evals=750/1440 eff=55.9701% N=100 \r"
     ]
    },
    {
     "name": "stderr",
     "output_type": "stream",
     "text": [
      "DEBUG:ultranest:iteration=750, ncalls=1440, regioncalls=60480, ndraw=40, logz=-1774.88, remainder_fraction=95.0826%, Lmin=-1766.41, Lmax=-1763.27\n"
     ]
    },
    {
     "name": "stdout",
     "output_type": "stream",
     "text": [
      "Z=-1774.7(6.05%) | Like=-1766.15..-1763.27 [-1766.1535..-1764.5525] | it/evals=759/1454 eff=56.0561% N=100 \r"
     ]
    },
    {
     "name": "stderr",
     "output_type": "stream",
     "text": [
      "DEBUG:ultranest:iteration=759, ncalls=1454, regioncalls=61200, ndraw=40, logz=-1774.65, remainder_fraction=93.9455%, Lmin=-1766.15, Lmax=-1763.27\n"
     ]
    },
    {
     "name": "stdout",
     "output_type": "stream",
     "text": [
      "Z=-1774.6(6.22%) | Like=-1766.11..-1763.27 [-1766.1535..-1764.5525] | it/evals=760/1455 eff=56.0886% N=100 \r"
     ]
    },
    {
     "name": "stderr",
     "output_type": "stream",
     "text": [
      "DEBUG:ultranest:iteration=760, ncalls=1455, regioncalls=61240, ndraw=40, logz=-1774.63, remainder_fraction=93.7835%, Lmin=-1766.11, Lmax=-1763.27\n"
     ]
    },
    {
     "name": "stdout",
     "output_type": "stream",
     "text": [
      "Z=-1774.4(7.81%) | Like=-1765.86..-1763.27 [-1766.1535..-1764.5525] | it/evals=770/1473 eff=56.0816% N=100 \r"
     ]
    },
    {
     "name": "stderr",
     "output_type": "stream",
     "text": [
      "DEBUG:ultranest:iteration=770, ncalls=1473, regioncalls=61960, ndraw=40, logz=-1774.39, remainder_fraction=92.1911%, Lmin=-1765.86, Lmax=-1763.27\n"
     ]
    },
    {
     "name": "stdout",
     "output_type": "stream",
     "text": [
      "Z=-1774.2(9.86%) | Like=-1765.51..-1763.27 [-1766.1535..-1764.5525] | it/evals=780/1491 eff=56.0748% N=100 \r"
     ]
    },
    {
     "name": "stderr",
     "output_type": "stream",
     "text": [
      "DEBUG:ultranest:iteration=780, ncalls=1491, regioncalls=62680, ndraw=40, logz=-1774.16, remainder_fraction=90.1438%, Lmin=-1765.51, Lmax=-1763.27\n"
     ]
    },
    {
     "name": "stdout",
     "output_type": "stream",
     "text": [
      "Z=-1773.9(12.26%) | Like=-1765.26..-1763.27 [-1766.1535..-1764.5525] | it/evals=790/1502 eff=56.3481% N=100 \r"
     ]
    },
    {
     "name": "stderr",
     "output_type": "stream",
     "text": [
      "DEBUG:ultranest:iteration=790, ncalls=1502, regioncalls=63240, ndraw=40, logz=-1773.94, remainder_fraction=87.7403%, Lmin=-1765.26, Lmax=-1763.27\n"
     ]
    },
    {
     "name": "stdout",
     "output_type": "stream",
     "text": [
      "Z=-1773.7(15.02%) | Like=-1764.95..-1763.27 [-1766.1535..-1764.5525] | it/evals=800/1518 eff=56.4175% N=100 \r"
     ]
    },
    {
     "name": "stderr",
     "output_type": "stream",
     "text": [
      "DEBUG:ultranest:iteration=800, ncalls=1518, regioncalls=64000, ndraw=40, logz=-1773.74, remainder_fraction=84.9752%, Lmin=-1764.95, Lmax=-1763.27\n"
     ]
    },
    {
     "name": "stdout",
     "output_type": "stream",
     "text": [
      "Z=-1773.6(16.63%) | Like=-1764.90..-1763.27 [-1766.1535..-1764.5525] | it/evals=805/1523 eff=56.5706% N=100 \r"
     ]
    },
    {
     "name": "stderr",
     "output_type": "stream",
     "text": [
      "DEBUG:ultranest:iteration=805, ncalls=1523, regioncalls=64240, ndraw=40, logz=-1773.63, remainder_fraction=83.3699%, Lmin=-1764.90, Lmax=-1763.27\n"
     ]
    },
    {
     "name": "stdout",
     "output_type": "stream",
     "text": [
      "Z=-1773.5(18.70%) | Like=-1764.74..-1763.27 [-1766.1535..-1764.5525] | it/evals=810/1529 eff=56.6830% N=100 \r"
     ]
    },
    {
     "name": "stderr",
     "output_type": "stream",
     "text": [
      "DEBUG:ultranest:iteration=810, ncalls=1529, regioncalls=64480, ndraw=40, logz=-1773.53, remainder_fraction=81.3028%, Lmin=-1764.74, Lmax=-1763.27\n"
     ]
    },
    {
     "name": "stdout",
     "output_type": "stream",
     "text": [
      "Z=-1773.3(22.44%) | Like=-1764.58..-1763.27 [-1766.1535..-1764.5525] | it/evals=820/1541 eff=56.9049% N=100 \r"
     ]
    },
    {
     "name": "stderr",
     "output_type": "stream",
     "text": [
      "DEBUG:ultranest:iteration=820, ncalls=1541, regioncalls=65040, ndraw=40, logz=-1773.35, remainder_fraction=77.5583%, Lmin=-1764.58, Lmax=-1763.27\n"
     ]
    },
    {
     "name": "stdout",
     "output_type": "stream",
     "text": [
      "Z=-1773.2(25.58%) | Like=-1764.49..-1763.27 [-1764.5510..-1763.9789] | it/evals=828/1556 eff=56.8681% N=100 \r"
     ]
    },
    {
     "name": "stderr",
     "output_type": "stream",
     "text": [
      "DEBUG:ultranest:iteration=828, ncalls=1556, regioncalls=65680, ndraw=40, logz=-1773.21, remainder_fraction=74.4204%, Lmin=-1764.49, Lmax=-1763.27\n"
     ]
    },
    {
     "name": "stdout",
     "output_type": "stream",
     "text": [
      "Z=-1773.2(26.24%) | Like=-1764.46..-1763.27 [-1764.5510..-1763.9789] | it/evals=830/1559 eff=56.8883% N=100 \r"
     ]
    },
    {
     "name": "stderr",
     "output_type": "stream",
     "text": [
      "DEBUG:ultranest:iteration=830, ncalls=1559, regioncalls=65800, ndraw=40, logz=-1773.18, remainder_fraction=73.7590%, Lmin=-1764.46, Lmax=-1763.27\n"
     ]
    },
    {
     "name": "stdout",
     "output_type": "stream",
     "text": [
      "Z=-1773.0(29.70%) | Like=-1764.37..-1763.20 [-1764.5510..-1763.9789] | it/evals=840/1581 eff=56.7184% N=100 \r"
     ]
    },
    {
     "name": "stderr",
     "output_type": "stream",
     "text": [
      "DEBUG:ultranest:iteration=840, ncalls=1581, regioncalls=66720, ndraw=40, logz=-1773.04, remainder_fraction=70.3010%, Lmin=-1764.37, Lmax=-1763.20\n"
     ]
    },
    {
     "name": "stdout",
     "output_type": "stream",
     "text": [
      "Z=-1772.9(33.41%) | Like=-1764.27..-1763.20 [-1764.5510..-1763.9789] | it/evals=850/1601 eff=56.6289% N=100 \r"
     ]
    },
    {
     "name": "stderr",
     "output_type": "stream",
     "text": [
      "DEBUG:ultranest:iteration=850, ncalls=1601, regioncalls=67520, ndraw=40, logz=-1772.92, remainder_fraction=66.5886%, Lmin=-1764.27, Lmax=-1763.20\n"
     ]
    },
    {
     "name": "stdout",
     "output_type": "stream",
     "text": [
      "Z=-1772.9(33.80%) | Like=-1764.25..-1763.20 [-1764.5510..-1763.9789] | it/evals=851/1602 eff=56.6578% N=100 \r"
     ]
    },
    {
     "name": "stderr",
     "output_type": "stream",
     "text": [
      "DEBUG:ultranest:iteration=851, ncalls=1602, regioncalls=67640, ndraw=40, logz=-1772.91, remainder_fraction=66.2021%, Lmin=-1764.25, Lmax=-1763.20\n"
     ]
    },
    {
     "name": "stdout",
     "output_type": "stream",
     "text": [
      "Z=-1772.8(37.10%) | Like=-1764.15..-1763.20 [-1764.5510..-1763.9789] | it/evals=860/1617 eff=56.6908% N=100 \r"
     ]
    },
    {
     "name": "stderr",
     "output_type": "stream",
     "text": [
      "DEBUG:ultranest:iteration=860, ncalls=1617, regioncalls=68240, ndraw=40, logz=-1772.81, remainder_fraction=62.8958%, Lmin=-1764.15, Lmax=-1763.20\n"
     ]
    },
    {
     "name": "stdout",
     "output_type": "stream",
     "text": [
      "Z=-1772.7(41.23%) | Like=-1764.07..-1763.20 [-1764.5510..-1763.9789] | it/evals=870/1637 eff=56.6038% N=100 \r"
     ]
    },
    {
     "name": "stderr",
     "output_type": "stream",
     "text": [
      "DEBUG:ultranest:iteration=870, ncalls=1637, regioncalls=69080, ndraw=40, logz=-1772.71, remainder_fraction=58.7744%, Lmin=-1764.07, Lmax=-1763.20\n"
     ]
    },
    {
     "name": "stdout",
     "output_type": "stream",
     "text": [
      "Z=-1772.6(44.86%) | Like=-1764.00..-1763.20 [-1764.5510..-1763.9789] | it/evals=880/1653 eff=56.6645% N=100 \r"
     ]
    },
    {
     "name": "stderr",
     "output_type": "stream",
     "text": [
      "DEBUG:ultranest:iteration=880, ncalls=1653, regioncalls=69760, ndraw=40, logz=-1772.62, remainder_fraction=55.1361%, Lmin=-1764.00, Lmax=-1763.20\n"
     ]
    },
    {
     "name": "stdout",
     "output_type": "stream",
     "text": [
      "Z=-1772.5(48.36%) | Like=-1763.95..-1763.19 [-1763.9752..-1763.6411] | it/evals=890/1667 eff=56.7964% N=100 \r"
     ]
    },
    {
     "name": "stderr",
     "output_type": "stream",
     "text": [
      "DEBUG:ultranest:iteration=890, ncalls=1667, regioncalls=70360, ndraw=40, logz=-1772.55, remainder_fraction=51.6382%, Lmin=-1763.95, Lmax=-1763.19\n"
     ]
    },
    {
     "name": "stdout",
     "output_type": "stream",
     "text": [
      "Z=-1772.5(50.63%) | Like=-1763.91..-1763.19 [-1763.9752..-1763.6411] | it/evals=897/1678 eff=56.8441% N=100 \r"
     ]
    },
    {
     "name": "stderr",
     "output_type": "stream",
     "text": [
      "DEBUG:ultranest:iteration=897, ncalls=1678, regioncalls=70840, ndraw=40, logz=-1772.50, remainder_fraction=49.3653%, Lmin=-1763.91, Lmax=-1763.19\n"
     ]
    },
    {
     "name": "stdout",
     "output_type": "stream",
     "text": [
      "Z=-1772.5(51.53%) | Like=-1763.88..-1763.19 [-1763.9752..-1763.6411] | it/evals=900/1681 eff=56.9260% N=100 \r"
     ]
    },
    {
     "name": "stderr",
     "output_type": "stream",
     "text": [
      "DEBUG:ultranest:iteration=900, ncalls=1681, regioncalls=70960, ndraw=40, logz=-1772.48, remainder_fraction=48.4697%, Lmin=-1763.88, Lmax=-1763.19\n"
     ]
    },
    {
     "name": "stdout",
     "output_type": "stream",
     "text": [
      "Z=-1772.4(55.01%) | Like=-1763.82..-1763.19 [-1763.9752..-1763.6411] | it/evals=910/1698 eff=56.9462% N=100 \r"
     ]
    },
    {
     "name": "stderr",
     "output_type": "stream",
     "text": [
      "DEBUG:ultranest:iteration=910, ncalls=1698, regioncalls=71640, ndraw=40, logz=-1772.41, remainder_fraction=44.9909%, Lmin=-1763.82, Lmax=-1763.19\n"
     ]
    },
    {
     "name": "stdout",
     "output_type": "stream",
     "text": [
      "Z=-1772.4(58.14%) | Like=-1763.78..-1763.19 [-1763.9752..-1763.6411] | it/evals=920/1715 eff=56.9659% N=100 \r"
     ]
    },
    {
     "name": "stderr",
     "output_type": "stream",
     "text": [
      "DEBUG:ultranest:iteration=920, ncalls=1715, regioncalls=72400, ndraw=40, logz=-1772.36, remainder_fraction=41.8562%, Lmin=-1763.78, Lmax=-1763.19\n"
     ]
    },
    {
     "name": "stdout",
     "output_type": "stream",
     "text": [
      "Z=-1772.3(61.30%) | Like=-1763.73..-1763.19 [-1763.9752..-1763.6411] | it/evals=930/1736 eff=56.8460% N=100 \r"
     ]
    },
    {
     "name": "stderr",
     "output_type": "stream",
     "text": [
      "DEBUG:ultranest:iteration=930, ncalls=1736, regioncalls=73280, ndraw=40, logz=-1772.31, remainder_fraction=38.6999%, Lmin=-1763.73, Lmax=-1763.19\n"
     ]
    },
    {
     "name": "stdout",
     "output_type": "stream",
     "text": [
      "Z=-1772.3(63.99%) | Like=-1763.69..-1763.19 [-1763.9752..-1763.6411] | it/evals=940/1749 eff=57.0042% N=100 \r"
     ]
    },
    {
     "name": "stderr",
     "output_type": "stream",
     "text": [
      "DEBUG:ultranest:iteration=940, ncalls=1749, regioncalls=73840, ndraw=40, logz=-1772.26, remainder_fraction=36.0066%, Lmin=-1763.69, Lmax=-1763.19\n"
     ]
    },
    {
     "name": "stdout",
     "output_type": "stream",
     "text": [
      "Z=-1772.2(64.79%) | Like=-1763.67..-1763.19 [-1763.9752..-1763.6411] | it/evals=943/1752 eff=57.0823% N=100 \r"
     ]
    },
    {
     "name": "stderr",
     "output_type": "stream",
     "text": [
      "DEBUG:ultranest:iteration=943, ncalls=1752, regioncalls=74040, ndraw=40, logz=-1772.25, remainder_fraction=35.2127%, Lmin=-1763.67, Lmax=-1763.19\n"
     ]
    },
    {
     "name": "stdout",
     "output_type": "stream",
     "text": [
      "Z=-1772.2(66.64%) | Like=-1763.65..-1763.18 [-1763.9752..-1763.6411] | it/evals=950/1761 eff=57.1945% N=100 \r"
     ]
    },
    {
     "name": "stderr",
     "output_type": "stream",
     "text": [
      "DEBUG:ultranest:iteration=950, ncalls=1761, regioncalls=74440, ndraw=40, logz=-1772.22, remainder_fraction=33.3635%, Lmin=-1763.65, Lmax=-1763.18\n"
     ]
    },
    {
     "name": "stdout",
     "output_type": "stream",
     "text": [
      "Z=-1772.2(69.12%) | Like=-1763.60..-1763.18 [-1763.6398..-1763.4035] | it/evals=960/1774 eff=57.3477% N=100 \r"
     ]
    },
    {
     "name": "stderr",
     "output_type": "stream",
     "text": [
      "DEBUG:ultranest:iteration=960, ncalls=1774, regioncalls=74960, ndraw=40, logz=-1772.18, remainder_fraction=30.8812%, Lmin=-1763.60, Lmax=-1763.18\n"
     ]
    },
    {
     "name": "stdout",
     "output_type": "stream",
     "text": [
      "Z=-1772.2(70.61%) | Like=-1763.58..-1763.18 [-1763.6398..-1763.4035] | it/evals=966/1780 eff=57.5000% N=100 \r"
     ]
    },
    {
     "name": "stderr",
     "output_type": "stream",
     "text": [
      "DEBUG:ultranest:iteration=966, ncalls=1780, regioncalls=75240, ndraw=40, logz=-1772.16, remainder_fraction=29.3869%, Lmin=-1763.58, Lmax=-1763.18\n"
     ]
    },
    {
     "name": "stdout",
     "output_type": "stream",
     "text": [
      "Z=-1772.1(71.56%) | Like=-1763.57..-1763.18 [-1763.6398..-1763.4035] | it/evals=970/1785 eff=57.5668% N=100 \r"
     ]
    },
    {
     "name": "stderr",
     "output_type": "stream",
     "text": [
      "DEBUG:ultranest:iteration=970, ncalls=1785, regioncalls=75440, ndraw=40, logz=-1772.15, remainder_fraction=28.4403%, Lmin=-1763.57, Lmax=-1763.18\n"
     ]
    },
    {
     "name": "stdout",
     "output_type": "stream",
     "text": [
      "Z=-1772.1(73.79%) | Like=-1763.51..-1763.18 [-1763.6398..-1763.4035] | it/evals=980/1797 eff=57.7490% N=100 \r"
     ]
    },
    {
     "name": "stderr",
     "output_type": "stream",
     "text": [
      "DEBUG:ultranest:iteration=980, ncalls=1797, regioncalls=75920, ndraw=40, logz=-1772.11, remainder_fraction=26.2052%, Lmin=-1763.51, Lmax=-1763.18\n"
     ]
    },
    {
     "name": "stdout",
     "output_type": "stream",
     "text": [
      "Z=-1772.1(75.72%) | Like=-1763.47..-1763.18 [-1763.6398..-1763.4035] | it/evals=989/1808 eff=57.9040% N=100 \r"
     ]
    },
    {
     "name": "stderr",
     "output_type": "stream",
     "text": [
      "DEBUG:ultranest:iteration=989, ncalls=1808, regioncalls=76440, ndraw=40, logz=-1772.09, remainder_fraction=24.2817%, Lmin=-1763.47, Lmax=-1763.18\n"
     ]
    },
    {
     "name": "stdout",
     "output_type": "stream",
     "text": [
      "Z=-1772.1(75.91%) | Like=-1763.47..-1763.18 [-1763.6398..-1763.4035] | it/evals=990/1809 eff=57.9286% N=100 \r"
     ]
    },
    {
     "name": "stderr",
     "output_type": "stream",
     "text": [
      "DEBUG:ultranest:iteration=990, ncalls=1809, regioncalls=76480, ndraw=40, logz=-1772.09, remainder_fraction=24.0879%, Lmin=-1763.47, Lmax=-1763.18\n"
     ]
    },
    {
     "name": "stdout",
     "output_type": "stream",
     "text": [
      "Z=-1772.1(77.99%) | Like=-1763.45..-1763.18 [-1763.6398..-1763.4035] | it/evals=1000/1821 eff=58.1058% N=100 \r"
     ]
    },
    {
     "name": "stderr",
     "output_type": "stream",
     "text": [
      "DEBUG:ultranest:iteration=1000, ncalls=1821, regioncalls=76960, ndraw=40, logz=-1772.06, remainder_fraction=22.0142%, Lmin=-1763.45, Lmax=-1763.18\n"
     ]
    },
    {
     "name": "stdout",
     "output_type": "stream",
     "text": [
      "Z=-1772.0(79.80%) | Like=-1763.43..-1763.18 [-1763.6398..-1763.4035] | it/evals=1010/1833 eff=58.2804% N=100 \r"
     ]
    },
    {
     "name": "stderr",
     "output_type": "stream",
     "text": [
      "DEBUG:ultranest:iteration=1010, ncalls=1833, regioncalls=77440, ndraw=40, logz=-1772.04, remainder_fraction=20.2035%, Lmin=-1763.43, Lmax=-1763.18\n"
     ]
    },
    {
     "name": "stdout",
     "output_type": "stream",
     "text": [
      "Z=-1772.0(81.59%) | Like=-1763.41..-1763.18 [-1763.6398..-1763.4035] | it/evals=1020/1849 eff=58.3190% N=100 \r"
     ]
    },
    {
     "name": "stderr",
     "output_type": "stream",
     "text": [
      "DEBUG:ultranest:iteration=1020, ncalls=1849, regioncalls=78120, ndraw=40, logz=-1772.01, remainder_fraction=18.4138%, Lmin=-1763.41, Lmax=-1763.18\n"
     ]
    },
    {
     "name": "stdout",
     "output_type": "stream",
     "text": [
      "Z=-1772.0(83.18%) | Like=-1763.39..-1763.18 [-1763.4007..-1763.2980] | it/evals=1030/1866 eff=58.3239% N=100 \r"
     ]
    },
    {
     "name": "stderr",
     "output_type": "stream",
     "text": [
      "DEBUG:ultranest:iteration=1030, ncalls=1866, regioncalls=78920, ndraw=40, logz=-1772.00, remainder_fraction=16.8167%, Lmin=-1763.39, Lmax=-1763.18\n"
     ]
    },
    {
     "name": "stdout",
     "output_type": "stream",
     "text": [
      "Z=-1772.0(83.95%) | Like=-1763.39..-1763.18 [-1763.4007..-1763.2980] | it/evals=1035/1875 eff=58.3099% N=100 \r"
     ]
    },
    {
     "name": "stderr",
     "output_type": "stream",
     "text": [
      "DEBUG:ultranest:iteration=1035, ncalls=1875, regioncalls=79480, ndraw=40, logz=-1771.99, remainder_fraction=16.0521%, Lmin=-1763.39, Lmax=-1763.18\n"
     ]
    },
    {
     "name": "stdout",
     "output_type": "stream",
     "text": [
      "Z=-1772.0(84.67%) | Like=-1763.38..-1763.18 [-1763.4007..-1763.2980] | it/evals=1040/1880 eff=58.4270% N=100 \r"
     ]
    },
    {
     "name": "stderr",
     "output_type": "stream",
     "text": [
      "DEBUG:ultranest:iteration=1040, ncalls=1880, regioncalls=79680, ndraw=40, logz=-1771.98, remainder_fraction=15.3318%, Lmin=-1763.38, Lmax=-1763.18\n"
     ]
    },
    {
     "name": "stdout",
     "output_type": "stream",
     "text": [
      "Z=-1772.0(85.98%) | Like=-1763.37..-1763.18 [-1763.4007..-1763.2980] | it/evals=1050/1891 eff=58.6265% N=100 \r"
     ]
    },
    {
     "name": "stderr",
     "output_type": "stream",
     "text": [
      "DEBUG:ultranest:iteration=1050, ncalls=1891, regioncalls=80200, ndraw=40, logz=-1771.96, remainder_fraction=14.0224%, Lmin=-1763.37, Lmax=-1763.18\n"
     ]
    },
    {
     "name": "stdout",
     "output_type": "stream",
     "text": [
      "Z=-1771.9(87.18%) | Like=-1763.35..-1763.18 [-1763.4007..-1763.2980] | it/evals=1060/1905 eff=58.7258% N=100 \r"
     ]
    },
    {
     "name": "stderr",
     "output_type": "stream",
     "text": [
      "DEBUG:ultranest:iteration=1060, ncalls=1905, regioncalls=80840, ndraw=40, logz=-1771.95, remainder_fraction=12.8241%, Lmin=-1763.35, Lmax=-1763.18\n"
     ]
    },
    {
     "name": "stdout",
     "output_type": "stream",
     "text": [
      "Z=-1771.9(88.33%) | Like=-1763.33..-1763.18 [-1763.4007..-1763.2980] | it/evals=1070/1921 eff=58.7589% N=100 \r"
     ]
    },
    {
     "name": "stderr",
     "output_type": "stream",
     "text": [
      "DEBUG:ultranest:iteration=1070, ncalls=1921, regioncalls=81520, ndraw=40, logz=-1771.94, remainder_fraction=11.6729%, Lmin=-1763.33, Lmax=-1763.18\n"
     ]
    },
    {
     "name": "stdout",
     "output_type": "stream",
     "text": [
      "Z=-1771.9(89.37%) | Like=-1763.32..-1763.18 [-1763.4007..-1763.2980] | it/evals=1080/1939 eff=58.7276% N=100 \r"
     ]
    },
    {
     "name": "stderr",
     "output_type": "stream",
     "text": [
      "DEBUG:ultranest:iteration=1080, ncalls=1939, regioncalls=82280, ndraw=40, logz=-1771.92, remainder_fraction=10.6314%, Lmin=-1763.32, Lmax=-1763.18\n"
     ]
    },
    {
     "name": "stdout",
     "output_type": "stream",
     "text": [
      "Z=-1771.9(89.47%) | Like=-1763.32..-1763.18 [-1763.4007..-1763.2980] | it/evals=1081/1942 eff=58.6862% N=100 \r"
     ]
    },
    {
     "name": "stderr",
     "output_type": "stream",
     "text": [
      "DEBUG:ultranest:iteration=1081, ncalls=1942, regioncalls=82440, ndraw=40, logz=-1771.92, remainder_fraction=10.5288%, Lmin=-1763.32, Lmax=-1763.18\n"
     ]
    },
    {
     "name": "stdout",
     "output_type": "stream",
     "text": [
      "Z=-1771.9(90.31%) | Like=-1763.31..-1763.18 [-1763.4007..-1763.2980] | it/evals=1090/1955 eff=58.7601% N=100 \r"
     ]
    },
    {
     "name": "stderr",
     "output_type": "stream",
     "text": [
      "DEBUG:ultranest:iteration=1090, ncalls=1955, regioncalls=83000, ndraw=40, logz=-1771.91, remainder_fraction=9.6870%, Lmin=-1763.31, Lmax=-1763.18\n"
     ]
    },
    {
     "name": "stdout",
     "output_type": "stream",
     "text": [
      "Z=-1771.9(91.18%) | Like=-1763.30..-1763.18 [-1763.2973..-1763.2447] | it/evals=1100/1971 eff=58.7921% N=100 \r"
     ]
    },
    {
     "name": "stderr",
     "output_type": "stream",
     "text": [
      "DEBUG:ultranest:iteration=1100, ncalls=1971, regioncalls=83640, ndraw=40, logz=-1771.90, remainder_fraction=8.8223%, Lmin=-1763.30, Lmax=-1763.18\n"
     ]
    },
    {
     "name": "stdout",
     "output_type": "stream",
     "text": [
      "Z=-1771.9(91.50%) | Like=-1763.29..-1763.18 [-1763.2973..-1763.2447] | it/evals=1104/1979 eff=58.7547% N=100 \r"
     ]
    },
    {
     "name": "stderr",
     "output_type": "stream",
     "text": [
      "DEBUG:ultranest:iteration=1104, ncalls=1979, regioncalls=84000, ndraw=40, logz=-1771.90, remainder_fraction=8.5031%, Lmin=-1763.29, Lmax=-1763.18\n"
     ]
    },
    {
     "name": "stdout",
     "output_type": "stream",
     "text": [
      "Z=-1771.9(91.97%) | Like=-1763.28..-1763.18 [-1763.2973..-1763.2447] | it/evals=1110/1989 eff=58.7612% N=100 \r"
     ]
    },
    {
     "name": "stderr",
     "output_type": "stream",
     "text": [
      "DEBUG:ultranest:iteration=1110, ncalls=1989, regioncalls=84400, ndraw=40, logz=-1771.90, remainder_fraction=8.0266%, Lmin=-1763.28, Lmax=-1763.18\n"
     ]
    },
    {
     "name": "stdout",
     "output_type": "stream",
     "text": [
      "Z=-1771.9(92.71%) | Like=-1763.28..-1763.18 [-1763.2973..-1763.2447] | it/evals=1120/2005 eff=58.7927% N=100 \r"
     ]
    },
    {
     "name": "stderr",
     "output_type": "stream",
     "text": [
      "DEBUG:ultranest:iteration=1120, ncalls=2005, regioncalls=85040, ndraw=40, logz=-1771.89, remainder_fraction=7.2920%, Lmin=-1763.28, Lmax=-1763.18\n"
     ]
    },
    {
     "name": "stdout",
     "output_type": "stream",
     "text": [
      "Z=-1771.9(93.37%) | Like=-1763.27..-1763.18 [-1763.2973..-1763.2447] | it/evals=1130/2020 eff=58.8542% N=100 \r"
     ]
    },
    {
     "name": "stderr",
     "output_type": "stream",
     "text": [
      "DEBUG:ultranest:iteration=1130, ncalls=2020, regioncalls=85680, ndraw=40, logz=-1771.88, remainder_fraction=6.6264%, Lmin=-1763.27, Lmax=-1763.18\n"
     ]
    },
    {
     "name": "stdout",
     "output_type": "stream",
     "text": [
      "Z=-1771.9(93.98%) | Like=-1763.26..-1763.18 [-1763.2973..-1763.2447] | it/evals=1140/2032 eff=59.0062% N=100 \r"
     ]
    },
    {
     "name": "stderr",
     "output_type": "stream",
     "text": [
      "DEBUG:ultranest:iteration=1140, ncalls=2032, regioncalls=86160, ndraw=40, logz=-1771.87, remainder_fraction=6.0214%, Lmin=-1763.26, Lmax=-1763.18\n"
     ]
    },
    {
     "name": "stdout",
     "output_type": "stream",
     "text": [
      "Z=-1771.9(94.53%) | Like=-1763.25..-1763.18 [-1763.2973..-1763.2447] | it/evals=1150/2049 eff=59.0046% N=100 \r"
     ]
    },
    {
     "name": "stderr",
     "output_type": "stream",
     "text": [
      "DEBUG:ultranest:iteration=1150, ncalls=2049, regioncalls=86880, ndraw=40, logz=-1771.87, remainder_fraction=5.4711%, Lmin=-1763.25, Lmax=-1763.18\n"
     ]
    },
    {
     "name": "stdout",
     "output_type": "stream",
     "text": [
      "Z=-1771.9(95.03%) | Like=-1763.25..-1763.18 [-1763.2973..-1763.2447] | it/evals=1160/2069 eff=58.9132% N=100 \r"
     ]
    },
    {
     "name": "stderr",
     "output_type": "stream",
     "text": [
      "DEBUG:ultranest:iteration=1160, ncalls=2069, regioncalls=87720, ndraw=40, logz=-1771.86, remainder_fraction=4.9683%, Lmin=-1763.25, Lmax=-1763.18\n"
     ]
    },
    {
     "name": "stdout",
     "output_type": "stream",
     "text": [
      "Z=-1771.9(95.49%) | Like=-1763.24..-1763.18 [-1763.2444..-1763.2124] | it/evals=1170/2083 eff=59.0015% N=100 \r"
     ]
    },
    {
     "name": "stderr",
     "output_type": "stream",
     "text": [
      "DEBUG:ultranest:iteration=1170, ncalls=2083, regioncalls=88280, ndraw=40, logz=-1771.86, remainder_fraction=4.5099%, Lmin=-1763.24, Lmax=-1763.18\n"
     ]
    },
    {
     "name": "stdout",
     "output_type": "stream",
     "text": [
      "Z=-1771.9(95.62%) | Like=-1763.24..-1763.18 [-1763.2444..-1763.2124] | it/evals=1173/2088 eff=59.0040% N=100 \r"
     ]
    },
    {
     "name": "stderr",
     "output_type": "stream",
     "text": [
      "DEBUG:ultranest:iteration=1173, ncalls=2088, regioncalls=88520, ndraw=40, logz=-1771.86, remainder_fraction=4.3820%, Lmin=-1763.24, Lmax=-1763.18\n"
     ]
    },
    {
     "name": "stdout",
     "output_type": "stream",
     "text": [
      "Z=-1771.9(95.91%) | Like=-1763.23..-1763.18 [-1763.2444..-1763.2124] | it/evals=1180/2096 eff=59.1182% N=100 \r"
     ]
    },
    {
     "name": "stderr",
     "output_type": "stream",
     "text": [
      "DEBUG:ultranest:iteration=1180, ncalls=2096, regioncalls=88840, ndraw=40, logz=-1771.85, remainder_fraction=4.0936%, Lmin=-1763.23, Lmax=-1763.18\n"
     ]
    },
    {
     "name": "stdout",
     "output_type": "stream",
     "text": [
      "Z=-1771.8(96.29%) | Like=-1763.23..-1763.18 [-1763.2444..-1763.2124] | it/evals=1190/2110 eff=59.2040% N=100 \r"
     ]
    },
    {
     "name": "stderr",
     "output_type": "stream",
     "text": [
      "DEBUG:ultranest:iteration=1190, ncalls=2110, regioncalls=89400, ndraw=40, logz=-1771.85, remainder_fraction=3.7109%, Lmin=-1763.23, Lmax=-1763.18\n"
     ]
    },
    {
     "name": "stdout",
     "output_type": "stream",
     "text": [
      "Z=-1771.8(96.63%) | Like=-1763.22..-1763.18 [-1763.2444..-1763.2124] | it/evals=1200/2124 eff=59.2885% N=100 \r"
     ]
    },
    {
     "name": "stderr",
     "output_type": "stream",
     "text": [
      "DEBUG:ultranest:iteration=1200, ncalls=2124, regioncalls=90160, ndraw=40, logz=-1771.85, remainder_fraction=3.3662%, Lmin=-1763.22, Lmax=-1763.18\n"
     ]
    },
    {
     "name": "stdout",
     "output_type": "stream",
     "text": [
      "Z=-1771.8(96.95%) | Like=-1763.22..-1763.18 [-1763.2444..-1763.2124] | it/evals=1210/2143 eff=59.2266% N=100 \r"
     ]
    },
    {
     "name": "stderr",
     "output_type": "stream",
     "text": [
      "DEBUG:ultranest:iteration=1210, ncalls=2143, regioncalls=91000, ndraw=40, logz=-1771.84, remainder_fraction=3.0516%, Lmin=-1763.22, Lmax=-1763.18\n"
     ]
    },
    {
     "name": "stdout",
     "output_type": "stream",
     "text": [
      "Z=-1771.8(97.21%) | Like=-1763.22..-1763.18 [-1763.2444..-1763.2124] | it/evals=1219/2163 eff=59.0887% N=100 \r"
     ]
    },
    {
     "name": "stderr",
     "output_type": "stream",
     "text": [
      "DEBUG:ultranest:iteration=1219, ncalls=2163, regioncalls=91920, ndraw=40, logz=-1771.84, remainder_fraction=2.7924%, Lmin=-1763.22, Lmax=-1763.18\n"
     ]
    },
    {
     "name": "stdout",
     "output_type": "stream",
     "text": [
      "Z=-1771.8(97.23%) | Like=-1763.22..-1763.18 [-1763.2444..-1763.2124] | it/evals=1220/2164 eff=59.1085% N=100 \r"
     ]
    },
    {
     "name": "stderr",
     "output_type": "stream",
     "text": [
      "DEBUG:ultranest:iteration=1220, ncalls=2164, regioncalls=91960, ndraw=40, logz=-1771.84, remainder_fraction=2.7652%, Lmin=-1763.22, Lmax=-1763.18\n"
     ]
    },
    {
     "name": "stdout",
     "output_type": "stream",
     "text": [
      "Z=-1771.8(97.49%) | Like=-1763.21..-1763.18 [-1763.2444..-1763.2124] | it/evals=1230/2176 eff=59.2486% N=100 \r"
     ]
    },
    {
     "name": "stderr",
     "output_type": "stream",
     "text": [
      "DEBUG:ultranest:iteration=1230, ncalls=2176, regioncalls=92440, ndraw=40, logz=-1771.84, remainder_fraction=2.5057%, Lmin=-1763.21, Lmax=-1763.18\n"
     ]
    },
    {
     "name": "stdout",
     "output_type": "stream",
     "text": [
      "Z=-1771.8(97.73%) | Like=-1763.21..-1763.18 [-1763.2123..-1763.1975] | it/evals=1240/2187 eff=59.4154% N=100 \r"
     ]
    },
    {
     "name": "stderr",
     "output_type": "stream",
     "text": [
      "DEBUG:ultranest:iteration=1240, ncalls=2187, regioncalls=92920, ndraw=40, logz=-1771.83, remainder_fraction=2.2702%, Lmin=-1763.21, Lmax=-1763.18\n"
     ]
    },
    {
     "name": "stdout",
     "output_type": "stream",
     "text": [
      "Z=-1771.8(97.77%) | Like=-1763.21..-1763.18 [-1763.2123..-1763.1975] | it/evals=1242/2190 eff=59.4258% N=100 \r"
     ]
    },
    {
     "name": "stderr",
     "output_type": "stream",
     "text": [
      "DEBUG:ultranest:iteration=1242, ncalls=2190, regioncalls=93160, ndraw=40, logz=-1771.83, remainder_fraction=2.2259%, Lmin=-1763.21, Lmax=-1763.18\n"
     ]
    },
    {
     "name": "stdout",
     "output_type": "stream",
     "text": [
      "Z=-1771.8(97.94%) | Like=-1763.21..-1763.18 [-1763.2123..-1763.1975] | it/evals=1250/2204 eff=59.4106% N=100 \r"
     ]
    },
    {
     "name": "stderr",
     "output_type": "stream",
     "text": [
      "DEBUG:ultranest:iteration=1250, ncalls=2204, regioncalls=93720, ndraw=40, logz=-1771.83, remainder_fraction=2.0569%, Lmin=-1763.21, Lmax=-1763.18\n"
     ]
    },
    {
     "name": "stdout",
     "output_type": "stream",
     "text": [
      "Z=-1771.8(98.14%) | Like=-1763.21..-1763.18 [-1763.2123..-1763.1975] | it/evals=1260/2221 eff=59.4059% N=100 \r"
     ]
    },
    {
     "name": "stderr",
     "output_type": "stream",
     "text": [
      "DEBUG:ultranest:iteration=1260, ncalls=2221, regioncalls=94400, ndraw=40, logz=-1771.83, remainder_fraction=1.8627%, Lmin=-1763.21, Lmax=-1763.18\n"
     ]
    },
    {
     "name": "stdout",
     "output_type": "stream",
     "text": [
      "Z=-1771.8(98.31%) | Like=-1763.20..-1763.18 [-1763.2123..-1763.1975] | it/evals=1270/2245 eff=59.2075% N=100 \r"
     ]
    },
    {
     "name": "stderr",
     "output_type": "stream",
     "text": [
      "DEBUG:ultranest:iteration=1270, ncalls=2245, regioncalls=95440, ndraw=40, logz=-1771.83, remainder_fraction=1.6871%, Lmin=-1763.20, Lmax=-1763.18\n"
     ]
    },
    {
     "name": "stdout",
     "output_type": "stream",
     "text": [
      "Z=-1771.8(98.47%) | Like=-1763.20..-1763.18 [-1763.2123..-1763.1975] | it/evals=1280/2258 eff=59.3142% N=100 \r"
     ]
    },
    {
     "name": "stderr",
     "output_type": "stream",
     "text": [
      "DEBUG:ultranest:iteration=1280, ncalls=2258, regioncalls=95960, ndraw=40, logz=-1771.83, remainder_fraction=1.5282%, Lmin=-1763.20, Lmax=-1763.18\n"
     ]
    },
    {
     "name": "stdout",
     "output_type": "stream",
     "text": [
      "Z=-1771.8(98.62%) | Like=-1763.20..-1763.18 [-1763.2123..-1763.1975] | it/evals=1290/2273 eff=59.3649% N=100 \r"
     ]
    },
    {
     "name": "stderr",
     "output_type": "stream",
     "text": [
      "DEBUG:ultranest:iteration=1290, ncalls=2273, regioncalls=96600, ndraw=40, logz=-1771.83, remainder_fraction=1.3842%, Lmin=-1763.20, Lmax=-1763.18\n"
     ]
    },
    {
     "name": "stdout",
     "output_type": "stream",
     "text": [
      "Z=-1771.8(98.75%) | Like=-1763.20..-1763.18 [-1763.2123..-1763.1975] | it/evals=1300/2289 eff=59.3878% N=100 \r"
     ]
    },
    {
     "name": "stderr",
     "output_type": "stream",
     "text": [
      "DEBUG:ultranest:iteration=1300, ncalls=2289, regioncalls=97240, ndraw=40, logz=-1771.82, remainder_fraction=1.2538%, Lmin=-1763.20, Lmax=-1763.18\n"
     ]
    },
    {
     "name": "stdout",
     "output_type": "stream",
     "text": [
      "Z=-1771.8(98.86%) | Like=-1763.20..-1763.18 [-1763.1968..-1763.1895]*| it/evals=1310/2302 eff=59.4914% N=100 \r"
     ]
    },
    {
     "name": "stderr",
     "output_type": "stream",
     "text": [
      "DEBUG:ultranest:iteration=1310, ncalls=2302, regioncalls=97920, ndraw=40, logz=-1771.82, remainder_fraction=1.1355%, Lmin=-1763.20, Lmax=-1763.18\n"
     ]
    },
    {
     "name": "stdout",
     "output_type": "stream",
     "text": [
      "Z=-1771.8(98.88%) | Like=-1763.20..-1763.18 [-1763.1967..-1763.1894]*| it/evals=1311/2304 eff=59.4828% N=100 \r"
     ]
    },
    {
     "name": "stderr",
     "output_type": "stream",
     "text": [
      "DEBUG:ultranest:iteration=1311, ncalls=2304, regioncalls=98080, ndraw=40, logz=-1771.82, remainder_fraction=1.1243%, Lmin=-1763.20, Lmax=-1763.18\n"
     ]
    },
    {
     "name": "stdout",
     "output_type": "stream",
     "text": [
      "Z=-1771.8(98.97%) | Like=-1763.20..-1763.18 [-1763.1959..-1763.1889]*| it/evals=1320/2318 eff=59.5131% N=100 \r"
     ]
    },
    {
     "name": "stderr",
     "output_type": "stream",
     "text": [
      "DEBUG:ultranest:iteration=1320, ncalls=2318, regioncalls=98720, ndraw=40, logz=-1771.82, remainder_fraction=1.0281%, Lmin=-1763.20, Lmax=-1763.18\n"
     ]
    },
    {
     "name": "stdout",
     "output_type": "stream",
     "text": [
      "[ultranest] Explored until L=-2e+03  \n"
     ]
    },
    {
     "name": "stderr",
     "output_type": "stream",
     "text": [
      "INFO:ultranest:Explored until L=-2e+03  \n"
     ]
    },
    {
     "name": "stdout",
     "output_type": "stream",
     "text": [
      "[ultranest] Likelihood function evaluations: 2321\n"
     ]
    },
    {
     "name": "stderr",
     "output_type": "stream",
     "text": [
      "INFO:ultranest:Likelihood function evaluations: 2321\n"
     ]
    },
    {
     "name": "stdout",
     "output_type": "stream",
     "text": [
      "[ultranest] Writing samples and results to disk ...\n"
     ]
    },
    {
     "name": "stderr",
     "output_type": "stream",
     "text": [
      "INFO:ultranest:Writing samples and results to disk ...\n"
     ]
    },
    {
     "name": "stdout",
     "output_type": "stream",
     "text": [
      "[ultranest] Writing samples and results to disk ... done\n"
     ]
    },
    {
     "name": "stderr",
     "output_type": "stream",
     "text": [
      "INFO:ultranest:Writing samples and results to disk ... done\n",
      "DEBUG:ultranest:did a run_iter pass!\n"
     ]
    },
    {
     "name": "stdout",
     "output_type": "stream",
     "text": [
      "[ultranest]   logZ = -1772 +- 0.1732\n"
     ]
    },
    {
     "name": "stderr",
     "output_type": "stream",
     "text": [
      "INFO:ultranest:  logZ = -1772 +- 0.1732\n"
     ]
    },
    {
     "name": "stdout",
     "output_type": "stream",
     "text": [
      "[ultranest] Effective samples strategy wants to improve: -1770.19..-1763.18 (ESS = 391.9, need >1000)\n"
     ]
    },
    {
     "name": "stderr",
     "output_type": "stream",
     "text": [
      "INFO:ultranest:Effective samples strategy wants to improve: -1770.19..-1763.18 (ESS = 391.9, need >1000)\n"
     ]
    },
    {
     "name": "stdout",
     "output_type": "stream",
     "text": [
      "[ultranest] Posterior uncertainty strategy is satisfied (KL: 0.42+-0.14 nat, need <0.50 nat)\n"
     ]
    },
    {
     "name": "stderr",
     "output_type": "stream",
     "text": [
      "INFO:ultranest:Posterior uncertainty strategy is satisfied (KL: 0.42+-0.14 nat, need <0.50 nat)\n"
     ]
    },
    {
     "name": "stdout",
     "output_type": "stream",
     "text": [
      "[ultranest] Evidency uncertainty strategy is satisfied (dlogz=0.17, need <0.5)\n"
     ]
    },
    {
     "name": "stderr",
     "output_type": "stream",
     "text": [
      "INFO:ultranest:Evidency uncertainty strategy is satisfied (dlogz=0.17, need <0.5)\n"
     ]
    },
    {
     "name": "stdout",
     "output_type": "stream",
     "text": [
      "[ultranest]   logZ error budget: single: 0.28 bs:0.17 tail:0.01 total:0.17 required:<0.50\n"
     ]
    },
    {
     "name": "stderr",
     "output_type": "stream",
     "text": [
      "INFO:ultranest:  logZ error budget: single: 0.28 bs:0.17 tail:0.01 total:0.17 required:<0.50\n"
     ]
    },
    {
     "name": "stdout",
     "output_type": "stream",
     "text": [
      "[ultranest] Widening from 100 to 200 live points before L=-2e+03...\n"
     ]
    },
    {
     "name": "stderr",
     "output_type": "stream",
     "text": [
      "INFO:ultranest:Widening from 100 to 200 live points before L=-2e+03...\n"
     ]
    },
    {
     "name": "stdout",
     "output_type": "stream",
     "text": [
      "[ultranest] Will add 100 live points (x1) at L=-2e+03 ...\n"
     ]
    },
    {
     "name": "stderr",
     "output_type": "stream",
     "text": [
      "INFO:ultranest:Will add 100 live points (x1) at L=-2e+03 ...\n"
     ]
    },
    {
     "name": "stdout",
     "output_type": "stream",
     "text": [
      "[ultranest] Exploring (in particular: L=-2481.80..-1763.18) ...\n"
     ]
    },
    {
     "name": "stderr",
     "output_type": "stream",
     "text": [
      "INFO:ultranest:Exploring (in particular: L=-2481.80..-1763.18) ...\n",
      "DEBUG:ultranest:minimal_widths_sequence: [(-inf, 100.0), (-2481.7992434141465, 200.0), (-1763.1844685386445, 200.0), (inf, 100.0)]\n"
     ]
    },
    {
     "name": "stdout",
     "output_type": "stream",
     "text": [
      "Z=-2489.5(0.00%) | Like=-2481.80..-1763.18 [-2481.7992..-1763.1845] | it/evals=246/2326 eff=0.0000% N=100 \r"
     ]
    },
    {
     "name": "stderr",
     "output_type": "stream",
     "text": [
      "DEBUG:ultranest:iteration=246, ncalls=2326, regioncalls=99040, ndraw=40, logz=-2489.49, remainder_fraction=100.0000%, Lmin=-2481.80, Lmax=-1763.18\n"
     ]
    },
    {
     "name": "stdout",
     "output_type": "stream",
     "text": [
      "Z=-2140.7(0.00%) | Like=-2125.43..-1763.18 [-2481.7992..-1763.1845] | it/evals=289/2331 eff=20.0000% N=101 \r"
     ]
    },
    {
     "name": "stderr",
     "output_type": "stream",
     "text": [
      "DEBUG:ultranest:iteration=289, ncalls=2331, regioncalls=99280, ndraw=40, logz=-2140.69, remainder_fraction=100.0000%, Lmin=-2125.43, Lmax=-1763.18\n"
     ]
    },
    {
     "name": "stdout",
     "output_type": "stream",
     "text": [
      "Z=-1915.5(0.00%) | Like=-1906.78..-1763.18 [-2481.7992..-1763.1845] | it/evals=367/2332 eff=27.2727% N=102 \r"
     ]
    },
    {
     "name": "stderr",
     "output_type": "stream",
     "text": [
      "DEBUG:ultranest:iteration=367, ncalls=2332, regioncalls=99360, ndraw=40, logz=-1915.53, remainder_fraction=100.0000%, Lmin=-1906.78, Lmax=-1763.18\n"
     ]
    },
    {
     "name": "stdout",
     "output_type": "stream",
     "text": [
      "Z=-1894.9(0.00%) | Like=-1884.72..-1763.18 [-2481.7992..-1763.1845] | it/evals=380/2343 eff=27.2727% N=104 \r"
     ]
    },
    {
     "name": "stderr",
     "output_type": "stream",
     "text": [
      "DEBUG:ultranest:iteration=380, ncalls=2343, regioncalls=100040, ndraw=40, logz=-1894.89, remainder_fraction=100.0000%, Lmin=-1884.72, Lmax=-1763.18\n"
     ]
    },
    {
     "name": "stdout",
     "output_type": "stream",
     "text": [
      "Z=-1874.1(0.00%) | Like=-1865.34..-1763.18 [-2481.7992..-1763.1845] | it/evals=400/2346 eff=28.0000% N=105 \r"
     ]
    },
    {
     "name": "stderr",
     "output_type": "stream",
     "text": [
      "DEBUG:ultranest:iteration=400, ncalls=2346, regioncalls=100240, ndraw=40, logz=-1874.11, remainder_fraction=100.0000%, Lmin=-1865.34, Lmax=-1763.18\n"
     ]
    },
    {
     "name": "stdout",
     "output_type": "stream",
     "text": [
      "Z=-1850.7(0.00%) | Like=-1842.66..-1763.18 [-2481.7992..-1763.1845] | it/evals=429/2348 eff=33.3333% N=106 \r"
     ]
    },
    {
     "name": "stderr",
     "output_type": "stream",
     "text": [
      "DEBUG:ultranest:iteration=429, ncalls=2348, regioncalls=100320, ndraw=40, logz=-1850.74, remainder_fraction=100.0000%, Lmin=-1842.66, Lmax=-1763.18\n"
     ]
    },
    {
     "name": "stdout",
     "output_type": "stream",
     "text": [
      "Z=-1826.8(0.00%) | Like=-1816.24..-1763.18 [-2481.7992..-1763.1845] | it/evals=466/2349 eff=35.7143% N=106 \r"
     ]
    },
    {
     "name": "stderr",
     "output_type": "stream",
     "text": [
      "DEBUG:ultranest:iteration=466, ncalls=2349, regioncalls=100400, ndraw=40, logz=-1826.79, remainder_fraction=100.0000%, Lmin=-1816.24, Lmax=-1763.18\n"
     ]
    },
    {
     "name": "stdout",
     "output_type": "stream",
     "text": [
      "Z=-1816.5(0.00%) | Like=-1808.62..-1763.18 [-2481.7992..-1763.1845] | it/evals=490/2360 eff=43.5897% N=111 \r"
     ]
    },
    {
     "name": "stderr",
     "output_type": "stream",
     "text": [
      "DEBUG:ultranest:iteration=490, ncalls=2360, regioncalls=100840, ndraw=40, logz=-1816.49, remainder_fraction=100.0000%, Lmin=-1808.62, Lmax=-1763.18\n"
     ]
    },
    {
     "name": "stdout",
     "output_type": "stream",
     "text": [
      "Z=-1816.3(0.00%) | Like=-1807.84..-1763.18 [-2481.7992..-1763.1845] | it/evals=491/2361 eff=45.0000% N=111 \r"
     ]
    },
    {
     "name": "stderr",
     "output_type": "stream",
     "text": [
      "DEBUG:ultranest:iteration=491, ncalls=2361, regioncalls=100920, ndraw=40, logz=-1816.32, remainder_fraction=100.0000%, Lmin=-1807.84, Lmax=-1763.18\n"
     ]
    },
    {
     "name": "stdout",
     "output_type": "stream",
     "text": [
      "Z=-1806.6(0.00%) | Like=-1797.24..-1763.18 [-2481.7992..-1763.1845] | it/evals=520/2377 eff=53.5714% N=120 \r"
     ]
    },
    {
     "name": "stderr",
     "output_type": "stream",
     "text": [
      "DEBUG:ultranest:iteration=520, ncalls=2377, regioncalls=101720, ndraw=40, logz=-1806.64, remainder_fraction=100.0000%, Lmin=-1797.24, Lmax=-1763.18\n"
     ]
    },
    {
     "name": "stdout",
     "output_type": "stream",
     "text": [
      "Z=-1803.4(0.00%) | Like=-1795.04..-1763.18 [-2481.7992..-1763.1845] | it/evals=530/2384 eff=53.9683% N=123 \r"
     ]
    },
    {
     "name": "stderr",
     "output_type": "stream",
     "text": [
      "DEBUG:ultranest:iteration=530, ncalls=2384, regioncalls=102080, ndraw=40, logz=-1803.39, remainder_fraction=100.0000%, Lmin=-1795.04, Lmax=-1763.18\n"
     ]
    },
    {
     "name": "stdout",
     "output_type": "stream",
     "text": [
      "Z=-1800.1(0.00%) | Like=-1791.13..-1763.18 [-2481.7992..-1763.1845] | it/evals=545/2398 eff=54.5455% N=126 \r"
     ]
    },
    {
     "name": "stderr",
     "output_type": "stream",
     "text": [
      "DEBUG:ultranest:iteration=545, ncalls=2398, regioncalls=102880, ndraw=40, logz=-1800.05, remainder_fraction=100.0000%, Lmin=-1791.13, Lmax=-1763.18\n"
     ]
    },
    {
     "name": "stdout",
     "output_type": "stream",
     "text": [
      "Z=-1798.9(0.00%) | Like=-1790.41..-1763.18 [-2481.7992..-1763.1845] | it/evals=550/2401 eff=55.0000% N=127 \r"
     ]
    },
    {
     "name": "stderr",
     "output_type": "stream",
     "text": [
      "DEBUG:ultranest:iteration=550, ncalls=2401, regioncalls=103040, ndraw=40, logz=-1798.91, remainder_fraction=100.0000%, Lmin=-1790.41, Lmax=-1763.18\n"
     ]
    },
    {
     "name": "stdout",
     "output_type": "stream",
     "text": [
      "Z=-1792.4(0.00%) | Like=-1783.82..-1763.18 [-2481.7992..-1763.1845] | it/evals=575/2425 eff=54.8077% N=131 \r"
     ]
    },
    {
     "name": "stderr",
     "output_type": "stream",
     "text": [
      "DEBUG:ultranest:iteration=575, ncalls=2425, regioncalls=104320, ndraw=40, logz=-1792.45, remainder_fraction=100.0000%, Lmin=-1783.82, Lmax=-1763.18\n"
     ]
    },
    {
     "name": "stdout",
     "output_type": "stream",
     "text": [
      "Z=-1791.6(0.00%) | Like=-1782.99..-1763.18 [-2481.7992..-1763.1845] | it/evals=580/2429 eff=56.4815% N=133 \r"
     ]
    },
    {
     "name": "stderr",
     "output_type": "stream",
     "text": [
      "DEBUG:ultranest:iteration=580, ncalls=2429, regioncalls=104480, ndraw=40, logz=-1791.63, remainder_fraction=100.0000%, Lmin=-1782.99, Lmax=-1763.18\n"
     ]
    },
    {
     "name": "stdout",
     "output_type": "stream",
     "text": [
      "Z=-1788.5(0.00%) | Like=-1780.06..-1763.18 [-2481.7992..-1763.1845] | it/evals=600/2443 eff=56.5574% N=138 \r"
     ]
    },
    {
     "name": "stderr",
     "output_type": "stream",
     "text": [
      "DEBUG:ultranest:iteration=600, ncalls=2443, regioncalls=105040, ndraw=40, logz=-1788.47, remainder_fraction=100.0000%, Lmin=-1780.06, Lmax=-1763.18\n"
     ]
    },
    {
     "name": "stdout",
     "output_type": "stream",
     "text": [
      "Z=-1787.5(0.00%) | Like=-1779.11..-1763.18 [-2481.7992..-1763.1845] | it/evals=610/2448 eff=56.6929% N=140 \r"
     ]
    },
    {
     "name": "stderr",
     "output_type": "stream",
     "text": [
      "DEBUG:ultranest:iteration=610, ncalls=2448, regioncalls=105280, ndraw=40, logz=-1787.46, remainder_fraction=100.0000%, Lmin=-1779.11, Lmax=-1763.18\n"
     ]
    },
    {
     "name": "stdout",
     "output_type": "stream",
     "text": [
      "Z=-1785.7(0.00%) | Like=-1776.90..-1763.18 [-2481.7992..-1763.1845] | it/evals=630/2466 eff=57.9310% N=148 \r"
     ]
    },
    {
     "name": "stderr",
     "output_type": "stream",
     "text": [
      "DEBUG:ultranest:iteration=630, ncalls=2466, regioncalls=106080, ndraw=40, logz=-1785.70, remainder_fraction=99.9999%, Lmin=-1776.90, Lmax=-1763.18\n"
     ]
    },
    {
     "name": "stdout",
     "output_type": "stream",
     "text": [
      "Z=-1784.2(0.00%) | Like=-1775.56..-1763.18 [-2481.7992..-1763.1845] | it/evals=643/2478 eff=59.2357% N=153 \r"
     ]
    },
    {
     "name": "stderr",
     "output_type": "stream",
     "text": [
      "DEBUG:ultranest:iteration=643, ncalls=2478, regioncalls=106640, ndraw=40, logz=-1784.21, remainder_fraction=99.9997%, Lmin=-1775.56, Lmax=-1763.18\n"
     ]
    },
    {
     "name": "stdout",
     "output_type": "stream",
     "text": [
      "Z=-1783.6(0.00%) | Like=-1775.21..-1763.18 [-2481.7992..-1763.1845] | it/evals=650/2486 eff=59.3939% N=156 \r"
     ]
    },
    {
     "name": "stderr",
     "output_type": "stream",
     "text": [
      "DEBUG:ultranest:iteration=650, ncalls=2486, regioncalls=107040, ndraw=40, logz=-1783.62, remainder_fraction=99.9994%, Lmin=-1775.21, Lmax=-1763.18\n"
     ]
    },
    {
     "name": "stdout",
     "output_type": "stream",
     "text": [
      "Z=-1782.8(0.00%) | Like=-1774.32..-1763.18 [-2481.7992..-1763.1845] | it/evals=660/2496 eff=60.5714% N=162 \r"
     ]
    },
    {
     "name": "stderr",
     "output_type": "stream",
     "text": [
      "DEBUG:ultranest:iteration=660, ncalls=2496, regioncalls=107440, ndraw=40, logz=-1782.83, remainder_fraction=99.9987%, Lmin=-1774.32, Lmax=-1763.18\n"
     ]
    },
    {
     "name": "stdout",
     "output_type": "stream",
     "text": [
      "Z=-1782.2(0.00%) | Like=-1773.78..-1763.18 [-2481.7992..-1763.1845] | it/evals=670/2503 eff=62.0879% N=166 \r"
     ]
    },
    {
     "name": "stderr",
     "output_type": "stream",
     "text": [
      "DEBUG:ultranest:iteration=670, ncalls=2503, regioncalls=107720, ndraw=40, logz=-1782.19, remainder_fraction=99.9973%, Lmin=-1773.78, Lmax=-1763.18\n"
     ]
    },
    {
     "name": "stdout",
     "output_type": "stream",
     "text": [
      "Z=-1781.7(0.00%) | Like=-1773.29..-1763.18 [-2481.7992..-1763.1845] | it/evals=680/2517 eff=62.7551% N=173 \r"
     ]
    },
    {
     "name": "stderr",
     "output_type": "stream",
     "text": [
      "DEBUG:ultranest:iteration=680, ncalls=2517, regioncalls=108280, ndraw=40, logz=-1781.68, remainder_fraction=99.9958%, Lmin=-1773.29, Lmax=-1763.18\n"
     ]
    },
    {
     "name": "stdout",
     "output_type": "stream",
     "text": [
      "Z=-1781.2(0.01%) | Like=-1772.82..-1763.18 [-2481.7992..-1763.1845] | it/evals=690/2527 eff=64.0777% N=177 \r"
     ]
    },
    {
     "name": "stderr",
     "output_type": "stream",
     "text": [
      "DEBUG:ultranest:iteration=690, ncalls=2527, regioncalls=108800, ndraw=40, logz=-1781.18, remainder_fraction=99.9927%, Lmin=-1772.82, Lmax=-1763.18\n"
     ]
    },
    {
     "name": "stdout",
     "output_type": "stream",
     "text": [
      "Z=-1780.7(0.01%) | Like=-1772.34..-1763.18 [-2481.7992..-1763.1845] | it/evals=700/2536 eff=65.1163% N=184 \r"
     ]
    },
    {
     "name": "stderr",
     "output_type": "stream",
     "text": [
      "DEBUG:ultranest:iteration=700, ncalls=2536, regioncalls=109200, ndraw=40, logz=-1780.74, remainder_fraction=99.9884%, Lmin=-1772.34, Lmax=-1763.18\n"
     ]
    },
    {
     "name": "stdout",
     "output_type": "stream",
     "text": [
      "Z=-1780.3(0.02%) | Like=-1771.67..-1763.18 [-2481.7992..-1763.1845] | it/evals=710/2552 eff=64.9351% N=188 \r"
     ]
    },
    {
     "name": "stderr",
     "output_type": "stream",
     "text": [
      "DEBUG:ultranest:iteration=710, ncalls=2552, regioncalls=110080, ndraw=40, logz=-1780.27, remainder_fraction=99.9809%, Lmin=-1771.67, Lmax=-1763.18\n"
     ]
    },
    {
     "name": "stdout",
     "output_type": "stream",
     "text": [
      "Z=-1779.7(0.03%) | Like=-1770.83..-1763.18 [-2481.7992..-1763.1845] | it/evals=720/2565 eff=65.1639% N=190 \r"
     ]
    },
    {
     "name": "stderr",
     "output_type": "stream",
     "text": [
      "DEBUG:ultranest:iteration=720, ncalls=2565, regioncalls=110600, ndraw=40, logz=-1779.71, remainder_fraction=99.9661%, Lmin=-1770.83, Lmax=-1763.18\n"
     ]
    },
    {
     "name": "stdout",
     "output_type": "stream",
     "text": [
      "Z=-1779.6(0.04%) | Like=-1770.82..-1763.18 [-2481.7992..-1763.1845] | it/evals=721/2566 eff=65.3061% N=190 \r"
     ]
    },
    {
     "name": "stderr",
     "output_type": "stream",
     "text": [
      "DEBUG:ultranest:iteration=721, ncalls=2566, regioncalls=110680, ndraw=40, logz=-1779.65, remainder_fraction=99.9639%, Lmin=-1770.82, Lmax=-1763.18\n"
     ]
    },
    {
     "name": "stdout",
     "output_type": "stream",
     "text": [
      "Z=-1779.2(0.05%) | Like=-1770.46..-1763.18 [-2481.7992..-1763.1845] | it/evals=730/2576 eff=66.2745% N=195 \r"
     ]
    },
    {
     "name": "stderr",
     "output_type": "stream",
     "text": [
      "DEBUG:ultranest:iteration=730, ncalls=2576, regioncalls=111080, ndraw=40, logz=-1779.21, remainder_fraction=99.9473%, Lmin=-1770.46, Lmax=-1763.18\n"
     ]
    },
    {
     "name": "stdout",
     "output_type": "stream",
     "text": [
      "Z=-1778.8(0.08%) | Like=-1770.10..-1763.18 [-2481.7992..-1763.1845] | it/evals=740/2585 eff=67.0455% N=200 \r"
     ]
    },
    {
     "name": "stderr",
     "output_type": "stream",
     "text": [
      "DEBUG:ultranest:iteration=740, ncalls=2585, regioncalls=111440, ndraw=40, logz=-1778.77, remainder_fraction=99.9151%, Lmin=-1770.10, Lmax=-1763.18\n"
     ]
    },
    {
     "name": "stdout",
     "output_type": "stream",
     "text": [
      "Z=-1778.4(0.12%) | Like=-1769.84..-1763.18 [-2481.7992..-1763.1845] | it/evals=750/2591 eff=67.0370% N=200 \r"
     ]
    },
    {
     "name": "stderr",
     "output_type": "stream",
     "text": [
      "DEBUG:ultranest:iteration=750, ncalls=2591, regioncalls=111680, ndraw=40, logz=-1778.40, remainder_fraction=99.8781%, Lmin=-1769.84, Lmax=-1763.18\n"
     ]
    },
    {
     "name": "stdout",
     "output_type": "stream",
     "text": [
      "Z=-1777.7(0.26%) | Like=-1769.20..-1763.18 [-2481.7992..-1763.1845] | it/evals=770/2601 eff=67.5000% N=200 \r"
     ]
    },
    {
     "name": "stderr",
     "output_type": "stream",
     "text": [
      "DEBUG:ultranest:iteration=770, ncalls=2601, regioncalls=112080, ndraw=40, logz=-1777.69, remainder_fraction=99.7407%, Lmin=-1769.20, Lmax=-1763.18\n"
     ]
    },
    {
     "name": "stdout",
     "output_type": "stream",
     "text": [
      "Z=-1777.4(0.36%) | Like=-1768.79..-1763.18 [-2481.7992..-1763.1845] | it/evals=780/2607 eff=67.4825% N=200 \r"
     ]
    },
    {
     "name": "stderr",
     "output_type": "stream",
     "text": [
      "DEBUG:ultranest:iteration=780, ncalls=2607, regioncalls=112360, ndraw=40, logz=-1777.38, remainder_fraction=99.6399%, Lmin=-1768.79, Lmax=-1763.18\n"
     ]
    },
    {
     "name": "stdout",
     "output_type": "stream",
     "text": [
      "Z=-1776.8(0.67%) | Like=-1768.28..-1763.18 [-2481.7992..-1763.1845] | it/evals=800/2623 eff=66.8874% N=200 \r"
     ]
    },
    {
     "name": "stderr",
     "output_type": "stream",
     "text": [
      "DEBUG:ultranest:iteration=800, ncalls=2623, regioncalls=113080, ndraw=40, logz=-1776.80, remainder_fraction=99.3268%, Lmin=-1768.28, Lmax=-1763.18\n"
     ]
    },
    {
     "name": "stdout",
     "output_type": "stream",
     "text": [
      "Z=-1776.5(0.89%) | Like=-1768.05..-1763.18 [-2481.7992..-1763.1845] | it/evals=811/2632 eff=66.5595% N=200 \r"
     ]
    },
    {
     "name": "stderr",
     "output_type": "stream",
     "text": [
      "DEBUG:ultranest:iteration=811, ncalls=2632, regioncalls=113600, ndraw=40, logz=-1776.51, remainder_fraction=99.1079%, Lmin=-1768.05, Lmax=-1763.18\n"
     ]
    },
    {
     "name": "stdout",
     "output_type": "stream",
     "text": [
      "Z=-1776.1(1.36%) | Like=-1767.65..-1763.18 [-2481.7992..-1763.1845] | it/evals=830/2651 eff=66.9697% N=200 \r"
     ]
    },
    {
     "name": "stderr",
     "output_type": "stream",
     "text": [
      "DEBUG:ultranest:iteration=830, ncalls=2651, regioncalls=114400, ndraw=40, logz=-1776.07, remainder_fraction=98.6379%, Lmin=-1767.65, Lmax=-1763.18\n"
     ]
    },
    {
     "name": "stdout",
     "output_type": "stream",
     "text": [
      "Z=-1775.7(2.04%) | Like=-1767.28..-1763.18 [-2481.7992..-1763.1845] | it/evals=850/2668 eff=67.1470% N=200 \r"
     ]
    },
    {
     "name": "stderr",
     "output_type": "stream",
     "text": [
      "DEBUG:ultranest:iteration=850, ncalls=2668, regioncalls=115080, ndraw=40, logz=-1775.67, remainder_fraction=97.9641%, Lmin=-1767.28, Lmax=-1763.18\n"
     ]
    },
    {
     "name": "stdout",
     "output_type": "stream",
     "text": [
      "Z=-1775.6(2.24%) | Like=-1767.16..-1763.18 [-2481.7992..-1763.1845] | it/evals=856/2671 eff=67.1429% N=200 \r"
     ]
    },
    {
     "name": "stderr",
     "output_type": "stream",
     "text": [
      "DEBUG:ultranest:iteration=856, ncalls=2671, regioncalls=115240, ndraw=40, logz=-1775.56, remainder_fraction=97.7610%, Lmin=-1767.16, Lmax=-1763.18\n"
     ]
    },
    {
     "name": "stdout",
     "output_type": "stream",
     "text": [
      "Z=-1775.5(2.40%) | Like=-1767.13..-1763.18 [-2481.7992..-1763.1845] | it/evals=860/2673 eff=67.3295% N=200 \r"
     ]
    },
    {
     "name": "stderr",
     "output_type": "stream",
     "text": [
      "DEBUG:ultranest:iteration=860, ncalls=2673, regioncalls=115320, ndraw=40, logz=-1775.49, remainder_fraction=97.6019%, Lmin=-1767.13, Lmax=-1763.18\n"
     ]
    },
    {
     "name": "stdout",
     "output_type": "stream",
     "text": [
      "Z=-1775.3(2.86%) | Like=-1767.02..-1763.18 [-2481.7992..-1763.1845] | it/evals=870/2676 eff=67.3239% N=200 \r"
     ]
    },
    {
     "name": "stderr",
     "output_type": "stream",
     "text": [
      "DEBUG:ultranest:iteration=870, ncalls=2676, regioncalls=115440, ndraw=40, logz=-1775.33, remainder_fraction=97.1375%, Lmin=-1767.02, Lmax=-1763.18\n"
     ]
    },
    {
     "name": "stdout",
     "output_type": "stream",
     "text": [
      "Z=-1775.2(3.25%) | Like=-1766.89..-1763.18 [-2481.7992..-1763.1845] | it/evals=880/2687 eff=66.6667% N=200 \r"
     ]
    },
    {
     "name": "stderr",
     "output_type": "stream",
     "text": [
      "DEBUG:ultranest:iteration=880, ncalls=2687, regioncalls=115960, ndraw=40, logz=-1775.18, remainder_fraction=96.7497%, Lmin=-1766.89, Lmax=-1763.18\n"
     ]
    },
    {
     "name": "stdout",
     "output_type": "stream",
     "text": [
      "Z=-1774.8(4.94%) | Like=-1766.39..-1763.18 [-2481.7992..-1763.1845] | it/evals=910/2704 eff=67.3629% N=200 \r"
     ]
    },
    {
     "name": "stderr",
     "output_type": "stream",
     "text": [
      "DEBUG:ultranest:iteration=910, ncalls=2704, regioncalls=116680, ndraw=40, logz=-1774.77, remainder_fraction=95.0644%, Lmin=-1766.39, Lmax=-1763.18\n"
     ]
    },
    {
     "name": "stdout",
     "output_type": "stream",
     "text": [
      "Z=-1774.4(7.25%) | Like=-1765.83..-1763.18 [-2481.7992..-1763.1845] | it/evals=940/2721 eff=67.2500% N=200 \r"
     ]
    },
    {
     "name": "stderr",
     "output_type": "stream",
     "text": [
      "DEBUG:ultranest:iteration=940, ncalls=2721, regioncalls=117440, ndraw=40, logz=-1774.36, remainder_fraction=92.7495%, Lmin=-1765.83, Lmax=-1763.18\n"
     ]
    },
    {
     "name": "stdout",
     "output_type": "stream",
     "text": [
      "Z=-1774.2(8.17%) | Like=-1765.70..-1763.18 [-2481.7992..-1763.1845] | it/evals=950/2743 eff=65.4028% N=200 \r"
     ]
    },
    {
     "name": "stderr",
     "output_type": "stream",
     "text": [
      "DEBUG:ultranest:iteration=950, ncalls=2743, regioncalls=118360, ndraw=40, logz=-1774.23, remainder_fraction=91.8262%, Lmin=-1765.70, Lmax=-1763.18\n"
     ]
    },
    {
     "name": "stdout",
     "output_type": "stream",
     "text": [
      "Z=-1774.1(9.21%) | Like=-1765.64..-1763.18 [-2481.7992..-1763.1845] | it/evals=960/2750 eff=65.7343% N=200 \r"
     ]
    },
    {
     "name": "stderr",
     "output_type": "stream",
     "text": [
      "DEBUG:ultranest:iteration=960, ncalls=2750, regioncalls=118720, ndraw=40, logz=-1774.11, remainder_fraction=90.7897%, Lmin=-1765.64, Lmax=-1763.18\n"
     ]
    },
    {
     "name": "stdout",
     "output_type": "stream",
     "text": [
      "Z=-1774.0(10.15%) | Like=-1765.51..-1763.18 [-2481.7992..-1763.1845] | it/evals=970/2759 eff=65.9817% N=200 \r"
     ]
    },
    {
     "name": "stderr",
     "output_type": "stream",
     "text": [
      "DEBUG:ultranest:iteration=970, ncalls=2759, regioncalls=119360, ndraw=40, logz=-1773.99, remainder_fraction=89.8518%, Lmin=-1765.51, Lmax=-1763.18\n"
     ]
    },
    {
     "name": "stdout",
     "output_type": "stream",
     "text": [
      "Z=-1773.9(11.54%) | Like=-1765.42..-1763.18 [-2481.7992..-1763.1845] | it/evals=980/2765 eff=66.2162% N=200 \r"
     ]
    },
    {
     "name": "stderr",
     "output_type": "stream",
     "text": [
      "DEBUG:ultranest:iteration=980, ncalls=2765, regioncalls=119760, ndraw=40, logz=-1773.89, remainder_fraction=88.4613%, Lmin=-1765.42, Lmax=-1763.18\n"
     ]
    },
    {
     "name": "stdout",
     "output_type": "stream",
     "text": [
      "Z=-1773.8(12.66%) | Like=-1765.29..-1763.18 [-2481.7992..-1763.1845] | it/evals=990/2776 eff=65.9341% N=200 \r"
     ]
    },
    {
     "name": "stderr",
     "output_type": "stream",
     "text": [
      "DEBUG:ultranest:iteration=990, ncalls=2776, regioncalls=120360, ndraw=40, logz=-1773.79, remainder_fraction=87.3370%, Lmin=-1765.29, Lmax=-1763.18\n"
     ]
    },
    {
     "name": "stdout",
     "output_type": "stream",
     "text": [
      "Z=-1773.8(12.95%) | Like=-1765.29..-1763.18 [-2481.7992..-1763.1845] | it/evals=992/2778 eff=66.0832% N=200 \r"
     ]
    },
    {
     "name": "stderr",
     "output_type": "stream",
     "text": [
      "DEBUG:ultranest:iteration=992, ncalls=2778, regioncalls=120480, ndraw=40, logz=-1773.77, remainder_fraction=87.0494%, Lmin=-1765.29, Lmax=-1763.18\n"
     ]
    },
    {
     "name": "stdout",
     "output_type": "stream",
     "text": [
      "Z=-1773.6(15.52%) | Like=-1765.11..-1763.18 [-2481.7992..-1763.1845] | it/evals=1010/2791 eff=66.1702% N=200 \r"
     ]
    },
    {
     "name": "stderr",
     "output_type": "stream",
     "text": [
      "DEBUG:ultranest:iteration=1010, ncalls=2791, regioncalls=121080, ndraw=40, logz=-1773.59, remainder_fraction=84.4822%, Lmin=-1765.11, Lmax=-1763.18\n"
     ]
    },
    {
     "name": "stdout",
     "output_type": "stream",
     "text": [
      "Z=-1773.5(17.01%) | Like=-1764.96..-1763.18 [-2481.7992..-1763.1845] | it/evals=1020/2804 eff=66.2526% N=200 \r"
     ]
    },
    {
     "name": "stderr",
     "output_type": "stream",
     "text": [
      "DEBUG:ultranest:iteration=1020, ncalls=2804, regioncalls=121680, ndraw=40, logz=-1773.50, remainder_fraction=82.9917%, Lmin=-1764.96, Lmax=-1763.18\n"
     ]
    },
    {
     "name": "stdout",
     "output_type": "stream",
     "text": [
      "Z=-1773.4(19.48%) | Like=-1764.88..-1763.18 [-2481.7992..-1763.1845] | it/evals=1037/2818 eff=66.5996% N=200 \r"
     ]
    },
    {
     "name": "stderr",
     "output_type": "stream",
     "text": [
      "DEBUG:ultranest:iteration=1037, ncalls=2818, regioncalls=122400, ndraw=40, logz=-1773.36, remainder_fraction=80.5248%, Lmin=-1764.88, Lmax=-1763.18\n"
     ]
    },
    {
     "name": "stdout",
     "output_type": "stream",
     "text": [
      "Z=-1773.3(19.82%) | Like=-1764.85..-1763.18 [-2481.7992..-1763.1845] | it/evals=1040/2821 eff=66.8000% N=200 \r"
     ]
    },
    {
     "name": "stderr",
     "output_type": "stream",
     "text": [
      "DEBUG:ultranest:iteration=1040, ncalls=2821, regioncalls=122520, ndraw=40, logz=-1773.34, remainder_fraction=80.1847%, Lmin=-1764.85, Lmax=-1763.18\n"
     ]
    },
    {
     "name": "stdout",
     "output_type": "stream",
     "text": [
      "Z=-1773.1(25.04%) | Like=-1764.58..-1763.18 [-2481.7992..-1763.1845] | it/evals=1070/2840 eff=67.4374% N=200 \r"
     ]
    },
    {
     "name": "stderr",
     "output_type": "stream",
     "text": [
      "DEBUG:ultranest:iteration=1070, ncalls=2840, regioncalls=123280, ndraw=40, logz=-1773.11, remainder_fraction=74.9608%, Lmin=-1764.58, Lmax=-1763.18\n"
     ]
    },
    {
     "name": "stdout",
     "output_type": "stream",
     "text": [
      "Z=-1773.0(26.85%) | Like=-1764.54..-1763.18 [-2481.7992..-1763.1845] | it/evals=1080/2845 eff=67.5573% N=200 \r"
     ]
    },
    {
     "name": "stderr",
     "output_type": "stream",
     "text": [
      "DEBUG:ultranest:iteration=1080, ncalls=2845, regioncalls=123480, ndraw=40, logz=-1773.04, remainder_fraction=73.1498%, Lmin=-1764.54, Lmax=-1763.18\n"
     ]
    },
    {
     "name": "stdout",
     "output_type": "stream",
     "text": [
      "Z=-1773.0(28.66%) | Like=-1764.47..-1763.18 [-2481.7992..-1763.1845] | it/evals=1090/2856 eff=67.2897% N=200 \r"
     ]
    },
    {
     "name": "stderr",
     "output_type": "stream",
     "text": [
      "DEBUG:ultranest:iteration=1090, ncalls=2856, regioncalls=123960, ndraw=40, logz=-1772.98, remainder_fraction=71.3440%, Lmin=-1764.47, Lmax=-1763.18\n"
     ]
    },
    {
     "name": "stdout",
     "output_type": "stream",
     "text": [
      "Z=-1772.9(31.86%) | Like=-1764.35..-1763.18 [-2481.7992..-1763.1845] | it/evals=1110/2865 eff=67.4632% N=200 \r"
     ]
    },
    {
     "name": "stderr",
     "output_type": "stream",
     "text": [
      "DEBUG:ultranest:iteration=1110, ncalls=2865, regioncalls=124360, ndraw=40, logz=-1772.86, remainder_fraction=68.1385%, Lmin=-1764.35, Lmax=-1763.18\n"
     ]
    },
    {
     "name": "stdout",
     "output_type": "stream",
     "text": [
      "Z=-1772.8(33.63%) | Like=-1764.31..-1763.18 [-2481.7992..-1763.1845] | it/evals=1120/2879 eff=66.6667% N=200 \r"
     ]
    },
    {
     "name": "stderr",
     "output_type": "stream",
     "text": [
      "DEBUG:ultranest:iteration=1120, ncalls=2879, regioncalls=125040, ndraw=40, logz=-1772.81, remainder_fraction=66.3671%, Lmin=-1764.31, Lmax=-1763.18\n"
     ]
    },
    {
     "name": "stdout",
     "output_type": "stream",
     "text": [
      "Z=-1772.7(37.08%) | Like=-1764.20..-1763.18 [-2481.7992..-1763.1845] | it/evals=1140/2894 eff=66.6667% N=200 \r"
     ]
    },
    {
     "name": "stderr",
     "output_type": "stream",
     "text": [
      "DEBUG:ultranest:iteration=1140, ncalls=2894, regioncalls=125880, ndraw=40, logz=-1772.71, remainder_fraction=62.9236%, Lmin=-1764.20, Lmax=-1763.18\n"
     ]
    },
    {
     "name": "stdout",
     "output_type": "stream",
     "text": [
      "Z=-1772.6(41.06%) | Like=-1764.10..-1763.18 [-2481.7992..-1763.1845] | it/evals=1160/2913 eff=66.5541% N=200 \r"
     ]
    },
    {
     "name": "stderr",
     "output_type": "stream",
     "text": [
      "DEBUG:ultranest:iteration=1160, ncalls=2913, regioncalls=126720, ndraw=40, logz=-1772.61, remainder_fraction=58.9408%, Lmin=-1764.10, Lmax=-1763.18\n"
     ]
    },
    {
     "name": "stdout",
     "output_type": "stream",
     "text": [
      "Z=-1772.5(44.10%) | Like=-1764.04..-1763.18 [-2481.7992..-1763.1845] | it/evals=1176/2923 eff=66.2791% N=200 \r"
     ]
    },
    {
     "name": "stderr",
     "output_type": "stream",
     "text": [
      "DEBUG:ultranest:iteration=1176, ncalls=2923, regioncalls=127240, ndraw=40, logz=-1772.54, remainder_fraction=55.8953%, Lmin=-1764.04, Lmax=-1763.18\n"
     ]
    },
    {
     "name": "stdout",
     "output_type": "stream",
     "text": [
      "Z=-1772.5(44.75%) | Like=-1764.02..-1763.18 [-2481.7992..-1763.1845] | it/evals=1180/2925 eff=66.3907% N=200 \r"
     ]
    },
    {
     "name": "stderr",
     "output_type": "stream",
     "text": [
      "DEBUG:ultranest:iteration=1180, ncalls=2925, regioncalls=127320, ndraw=40, logz=-1772.53, remainder_fraction=55.2458%, Lmin=-1764.02, Lmax=-1763.18\n"
     ]
    },
    {
     "name": "stdout",
     "output_type": "stream",
     "text": [
      "Z=-1772.4(52.25%) | Like=-1763.87..-1763.18 [-2481.7992..-1763.1845] | it/evals=1224/2956 eff=66.1417% N=200 \r"
     ]
    },
    {
     "name": "stderr",
     "output_type": "stream",
     "text": [
      "DEBUG:ultranest:iteration=1224, ncalls=2956, regioncalls=128720, ndraw=40, logz=-1772.37, remainder_fraction=47.7452%, Lmin=-1763.87, Lmax=-1763.18\n"
     ]
    },
    {
     "name": "stdout",
     "output_type": "stream",
     "text": [
      "Z=-1772.3(54.85%) | Like=-1763.81..-1763.18 [-2481.7992..-1763.1845] | it/evals=1240/2964 eff=66.2519% N=200 \r"
     ]
    },
    {
     "name": "stderr",
     "output_type": "stream",
     "text": [
      "DEBUG:ultranest:iteration=1240, ncalls=2964, regioncalls=129040, ndraw=40, logz=-1772.33, remainder_fraction=45.1473%, Lmin=-1763.81, Lmax=-1763.18\n"
     ]
    },
    {
     "name": "stdout",
     "output_type": "stream",
     "text": [
      "Z=-1772.3(56.37%) | Like=-1763.78..-1763.18 [-2481.7992..-1763.1845] | it/evals=1250/2972 eff=66.3594% N=200 \r"
     ]
    },
    {
     "name": "stderr",
     "output_type": "stream",
     "text": [
      "DEBUG:ultranest:iteration=1250, ncalls=2972, regioncalls=129360, ndraw=40, logz=-1772.30, remainder_fraction=43.6274%, Lmin=-1763.78, Lmax=-1763.18\n"
     ]
    },
    {
     "name": "stdout",
     "output_type": "stream",
     "text": [
      "Z=-1772.2(59.76%) | Like=-1763.73..-1763.18 [-2481.7992..-1763.1845] | it/evals=1271/2981 eff=66.6667% N=200 \r"
     ]
    },
    {
     "name": "stderr",
     "output_type": "stream",
     "text": [
      "DEBUG:ultranest:iteration=1271, ncalls=2981, regioncalls=129800, ndraw=40, logz=-1772.24, remainder_fraction=40.2397%, Lmin=-1763.73, Lmax=-1763.18\n"
     ]
    },
    {
     "name": "stdout",
     "output_type": "stream",
     "text": [
      "Z=-1772.2(61.11%) | Like=-1763.70..-1763.18 [-2481.7992..-1763.1845] | it/evals=1280/2986 eff=66.9173% N=200 \r"
     ]
    },
    {
     "name": "stderr",
     "output_type": "stream",
     "text": [
      "DEBUG:ultranest:iteration=1280, ncalls=2986, regioncalls=130000, ndraw=40, logz=-1772.22, remainder_fraction=38.8865%, Lmin=-1763.70, Lmax=-1763.18\n"
     ]
    },
    {
     "name": "stdout",
     "output_type": "stream",
     "text": [
      "Z=-1772.2(63.99%) | Like=-1763.66..-1763.18 [-2481.7992..-1763.1845] | it/evals=1300/2996 eff=67.1111% N=200 \r"
     ]
    },
    {
     "name": "stderr",
     "output_type": "stream",
     "text": [
      "DEBUG:ultranest:iteration=1300, ncalls=2996, regioncalls=130400, ndraw=40, logz=-1772.17, remainder_fraction=36.0060%, Lmin=-1763.66, Lmax=-1763.18\n"
     ]
    },
    {
     "name": "stdout",
     "output_type": "stream",
     "text": [
      "Z=-1772.1(66.34%) | Like=-1763.63..-1763.18 [-2481.7992..-1763.1845] | it/evals=1318/3006 eff=67.2993% N=200 \r"
     ]
    },
    {
     "name": "stderr",
     "output_type": "stream",
     "text": [
      "DEBUG:ultranest:iteration=1318, ncalls=3006, regioncalls=130880, ndraw=40, logz=-1772.13, remainder_fraction=33.6649%, Lmin=-1763.63, Lmax=-1763.18\n"
     ]
    },
    {
     "name": "stdout",
     "output_type": "stream",
     "text": [
      "Z=-1772.1(66.59%) | Like=-1763.61..-1763.18 [-2481.7992..-1763.1845] | it/evals=1320/3008 eff=67.3945% N=200 \r"
     ]
    },
    {
     "name": "stderr",
     "output_type": "stream",
     "text": [
      "DEBUG:ultranest:iteration=1320, ncalls=3008, regioncalls=130960, ndraw=40, logz=-1772.13, remainder_fraction=33.4147%, Lmin=-1763.61, Lmax=-1763.18\n"
     ]
    },
    {
     "name": "stdout",
     "output_type": "stream",
     "text": [
      "Z=-1772.1(69.17%) | Like=-1763.57..-1763.18 [-2481.7992..-1763.1845] | it/evals=1340/3017 eff=67.6724% N=200 \r"
     ]
    },
    {
     "name": "stderr",
     "output_type": "stream",
     "text": [
      "DEBUG:ultranest:iteration=1340, ncalls=3017, regioncalls=131320, ndraw=40, logz=-1772.09, remainder_fraction=30.8287%, Lmin=-1763.57, Lmax=-1763.18\n"
     ]
    },
    {
     "name": "stdout",
     "output_type": "stream",
     "text": [
      "Z=-1772.1(70.37%) | Like=-1763.54..-1763.18 [-2481.7992..-1763.1845] | it/evals=1350/3030 eff=67.2779% N=200 \r"
     ]
    },
    {
     "name": "stderr",
     "output_type": "stream",
     "text": [
      "DEBUG:ultranest:iteration=1350, ncalls=3030, regioncalls=131920, ndraw=40, logz=-1772.07, remainder_fraction=29.6286%, Lmin=-1763.54, Lmax=-1763.18\n"
     ]
    },
    {
     "name": "stdout",
     "output_type": "stream",
     "text": [
      "Z=-1772.1(72.06%) | Like=-1763.51..-1763.18 [-2481.7992..-1763.1845] | it/evals=1364/3038 eff=67.5035% N=200 \r"
     ]
    },
    {
     "name": "stderr",
     "output_type": "stream",
     "text": [
      "DEBUG:ultranest:iteration=1364, ncalls=3038, regioncalls=132280, ndraw=40, logz=-1772.05, remainder_fraction=27.9441%, Lmin=-1763.51, Lmax=-1763.18\n"
     ]
    },
    {
     "name": "stdout",
     "output_type": "stream",
     "text": [
      "Z=-1772.0(76.11%) | Like=-1763.45..-1763.18 [-2481.7992..-1763.1845] | it/evals=1400/3058 eff=67.4355% N=200 \r"
     ]
    },
    {
     "name": "stderr",
     "output_type": "stream",
     "text": [
      "DEBUG:ultranest:iteration=1400, ncalls=3058, regioncalls=133080, ndraw=40, logz=-1772.00, remainder_fraction=23.8874%, Lmin=-1763.45, Lmax=-1763.18\n"
     ]
    },
    {
     "name": "stdout",
     "output_type": "stream",
     "text": [
      "Z=-1772.0(77.00%) | Like=-1763.44..-1763.18 [-2481.7992..-1763.1845] | it/evals=1409/3064 eff=67.4293% N=200 \r"
     ]
    },
    {
     "name": "stderr",
     "output_type": "stream",
     "text": [
      "DEBUG:ultranest:iteration=1409, ncalls=3064, regioncalls=133360, ndraw=40, logz=-1771.98, remainder_fraction=23.0022%, Lmin=-1763.44, Lmax=-1763.18\n"
     ]
    },
    {
     "name": "stdout",
     "output_type": "stream",
     "text": [
      "Z=-1772.0(78.08%) | Like=-1763.43..-1763.18 [-2481.7992..-1763.1845] | it/evals=1420/3073 eff=67.5532% N=200 \r"
     ]
    },
    {
     "name": "stderr",
     "output_type": "stream",
     "text": [
      "DEBUG:ultranest:iteration=1420, ncalls=3073, regioncalls=133720, ndraw=40, logz=-1771.97, remainder_fraction=21.9238%, Lmin=-1763.43, Lmax=-1763.18\n"
     ]
    },
    {
     "name": "stdout",
     "output_type": "stream",
     "text": [
      "Z=-1771.9(81.38%) | Like=-1763.39..-1763.18 [-2481.7992..-1763.1845] | it/evals=1456/3102 eff=67.0935% N=200 \r"
     ]
    },
    {
     "name": "stderr",
     "output_type": "stream",
     "text": [
      "DEBUG:ultranest:iteration=1456, ncalls=3102, regioncalls=135000, ndraw=40, logz=-1771.93, remainder_fraction=18.6206%, Lmin=-1763.39, Lmax=-1763.18\n"
     ]
    },
    {
     "name": "stdout",
     "output_type": "stream",
     "text": [
      "Z=-1771.9(81.71%) | Like=-1763.39..-1763.18 [-2481.7992..-1763.1845] | it/evals=1460/3105 eff=67.2194% N=200 \r"
     ]
    },
    {
     "name": "stderr",
     "output_type": "stream",
     "text": [
      "DEBUG:ultranest:iteration=1460, ncalls=3105, regioncalls=135160, ndraw=40, logz=-1771.93, remainder_fraction=18.2882%, Lmin=-1763.39, Lmax=-1763.18\n"
     ]
    },
    {
     "name": "stdout",
     "output_type": "stream",
     "text": [
      "Z=-1771.9(82.53%) | Like=-1763.38..-1763.18 [-2481.7992..-1763.1845] | it/evals=1470/3108 eff=67.2173% N=200 \r"
     ]
    },
    {
     "name": "stderr",
     "output_type": "stream",
     "text": [
      "DEBUG:ultranest:iteration=1470, ncalls=3108, regioncalls=135400, ndraw=40, logz=-1771.92, remainder_fraction=17.4701%, Lmin=-1763.38, Lmax=-1763.18\n"
     ]
    },
    {
     "name": "stdout",
     "output_type": "stream",
     "text": [
      "Z=-1771.9(84.73%) | Like=-1763.36..-1763.18 [-2481.7992..-1763.1845] | it/evals=1500/3129 eff=67.0792% N=200 \r"
     ]
    },
    {
     "name": "stderr",
     "output_type": "stream",
     "text": [
      "DEBUG:ultranest:iteration=1500, ncalls=3129, regioncalls=136400, ndraw=40, logz=-1771.89, remainder_fraction=15.2658%, Lmin=-1763.36, Lmax=-1763.18\n"
     ]
    },
    {
     "name": "stdout",
     "output_type": "stream",
     "text": [
      "Z=-1771.9(84.81%) | Like=-1763.36..-1763.18 [-2481.7992..-1763.1845] | it/evals=1501/3130 eff=67.1199% N=200 \r"
     ]
    },
    {
     "name": "stderr",
     "output_type": "stream",
     "text": [
      "DEBUG:ultranest:iteration=1501, ncalls=3130, regioncalls=136480, ndraw=40, logz=-1771.89, remainder_fraction=15.1929%, Lmin=-1763.36, Lmax=-1763.18\n"
     ]
    },
    {
     "name": "stdout",
     "output_type": "stream",
     "text": [
      "Z=-1771.9(85.43%) | Like=-1763.34..-1763.18 [-2481.7992..-1763.1845] | it/evals=1510/3136 eff=67.2393% N=200 \r"
     ]
    },
    {
     "name": "stderr",
     "output_type": "stream",
     "text": [
      "DEBUG:ultranest:iteration=1510, ncalls=3136, regioncalls=136720, ndraw=40, logz=-1771.88, remainder_fraction=14.5662%, Lmin=-1763.34, Lmax=-1763.18\n"
     ]
    },
    {
     "name": "stdout",
     "output_type": "stream",
     "text": [
      "Z=-1771.9(86.09%) | Like=-1763.34..-1763.18 [-2481.7992..-1763.1845] | it/evals=1520/3146 eff=67.1515% N=200 \r"
     ]
    },
    {
     "name": "stderr",
     "output_type": "stream",
     "text": [
      "DEBUG:ultranest:iteration=1520, ncalls=3146, regioncalls=137120, ndraw=40, logz=-1771.87, remainder_fraction=13.9111%, Lmin=-1763.34, Lmax=-1763.18\n"
     ]
    },
    {
     "name": "stdout",
     "output_type": "stream",
     "text": [
      "Z=-1771.9(86.72%) | Like=-1763.33..-1763.18 [-2481.7992..-1763.1845] | it/evals=1530/3148 eff=67.2310% N=200 \r"
     ]
    },
    {
     "name": "stderr",
     "output_type": "stream",
     "text": [
      "DEBUG:ultranest:iteration=1530, ncalls=3148, regioncalls=137200, ndraw=40, logz=-1771.87, remainder_fraction=13.2788%, Lmin=-1763.33, Lmax=-1763.18\n"
     ]
    },
    {
     "name": "stdout",
     "output_type": "stream",
     "text": [
      "Z=-1771.9(87.68%) | Like=-1763.32..-1763.18 [-2481.7992..-1763.1845] | it/evals=1546/3162 eff=66.9441% N=200 \r"
     ]
    },
    {
     "name": "stderr",
     "output_type": "stream",
     "text": [
      "DEBUG:ultranest:iteration=1546, ncalls=3162, regioncalls=137880, ndraw=40, logz=-1771.86, remainder_fraction=12.3216%, Lmin=-1763.32, Lmax=-1763.18\n"
     ]
    },
    {
     "name": "stdout",
     "output_type": "stream",
     "text": [
      "Z=-1771.8(88.98%) | Like=-1763.31..-1763.18 [-2481.7992..-1763.1845] | it/evals=1570/3181 eff=66.9767% N=200 \r"
     ]
    },
    {
     "name": "stderr",
     "output_type": "stream",
     "text": [
      "DEBUG:ultranest:iteration=1570, ncalls=3181, regioncalls=138720, ndraw=40, logz=-1771.84, remainder_fraction=11.0202%, Lmin=-1763.31, Lmax=-1763.18\n"
     ]
    },
    {
     "name": "stdout",
     "output_type": "stream",
     "text": [
      "Z=-1771.8(89.50%) | Like=-1763.30..-1763.18 [-2481.7992..-1763.1845] | it/evals=1580/3194 eff=66.7812% N=200 \r"
     ]
    },
    {
     "name": "stderr",
     "output_type": "stream",
     "text": [
      "DEBUG:ultranest:iteration=1580, ncalls=3194, regioncalls=139320, ndraw=40, logz=-1771.84, remainder_fraction=10.5000%, Lmin=-1763.30, Lmax=-1763.18\n"
     ]
    },
    {
     "name": "stdout",
     "output_type": "stream",
     "text": [
      "Z=-1771.8(89.97%) | Like=-1763.30..-1763.18 [-2481.7992..-1763.1845] | it/evals=1590/3202 eff=66.8558% N=200 \r"
     ]
    },
    {
     "name": "stderr",
     "output_type": "stream",
     "text": [
      "DEBUG:ultranest:iteration=1590, ncalls=3202, regioncalls=139640, ndraw=40, logz=-1771.83, remainder_fraction=10.0268%, Lmin=-1763.30, Lmax=-1763.18\n"
     ]
    },
    {
     "name": "stdout",
     "output_type": "stream",
     "text": [
      "Z=-1771.8(90.88%) | Like=-1763.28..-1763.18 [-2481.7992..-1763.1845] | it/evals=1610/3213 eff=67.0404% N=200 \r"
     ]
    },
    {
     "name": "stderr",
     "output_type": "stream",
     "text": [
      "DEBUG:ultranest:iteration=1610, ncalls=3213, regioncalls=140200, ndraw=40, logz=-1771.82, remainder_fraction=9.1151%, Lmin=-1763.28, Lmax=-1763.18\n"
     ]
    },
    {
     "name": "stdout",
     "output_type": "stream",
     "text": [
      "Z=-1771.8(91.31%) | Like=-1763.28..-1763.18 [-2481.7992..-1763.1845] | it/evals=1620/3219 eff=67.2606% N=200 \r"
     ]
    },
    {
     "name": "stderr",
     "output_type": "stream",
     "text": [
      "DEBUG:ultranest:iteration=1620, ncalls=3219, regioncalls=140440, ndraw=40, logz=-1771.81, remainder_fraction=8.6871%, Lmin=-1763.28, Lmax=-1763.18\n"
     ]
    },
    {
     "name": "stdout",
     "output_type": "stream",
     "text": [
      "Z=-1771.8(91.95%) | Like=-1763.27..-1763.18 [-2481.7992..-1763.1845] | it/evals=1636/3232 eff=67.3985% N=200 \r"
     ]
    },
    {
     "name": "stderr",
     "output_type": "stream",
     "text": [
      "DEBUG:ultranest:iteration=1636, ncalls=3232, regioncalls=141040, ndraw=40, logz=-1771.81, remainder_fraction=8.0495%, Lmin=-1763.27, Lmax=-1763.18\n"
     ]
    },
    {
     "name": "stdout",
     "output_type": "stream",
     "text": [
      "Z=-1771.8(92.10%) | Like=-1763.27..-1763.18 [-2481.7992..-1763.1845] | it/evals=1640/3235 eff=67.3961% N=200 \r"
     ]
    },
    {
     "name": "stderr",
     "output_type": "stream",
     "text": [
      "DEBUG:ultranest:iteration=1640, ncalls=3235, regioncalls=141160, ndraw=40, logz=-1771.81, remainder_fraction=7.8998%, Lmin=-1763.27, Lmax=-1763.18\n"
     ]
    },
    {
     "name": "stdout",
     "output_type": "stream",
     "text": [
      "Z=-1771.8(92.47%) | Like=-1763.27..-1763.18 [-2481.7992..-1763.1845] | it/evals=1650/3242 eff=67.4267% N=200 \r"
     ]
    },
    {
     "name": "stderr",
     "output_type": "stream",
     "text": [
      "DEBUG:ultranest:iteration=1650, ncalls=3242, regioncalls=141440, ndraw=40, logz=-1771.80, remainder_fraction=7.5310%, Lmin=-1763.27, Lmax=-1763.18\n"
     ]
    },
    {
     "name": "stdout",
     "output_type": "stream",
     "text": [
      "Z=-1771.8(93.16%) | Like=-1763.26..-1763.18 [-2481.7992..-1763.1845] | it/evals=1670/3246 eff=67.5676% N=200 \r"
     ]
    },
    {
     "name": "stderr",
     "output_type": "stream",
     "text": [
      "DEBUG:ultranest:iteration=1670, ncalls=3246, regioncalls=141640, ndraw=40, logz=-1771.79, remainder_fraction=6.8422%, Lmin=-1763.26, Lmax=-1763.18\n"
     ]
    },
    {
     "name": "stdout",
     "output_type": "stream",
     "text": [
      "Z=-1771.8(93.48%) | Like=-1763.25..-1763.18 [-2481.7992..-1763.1845] | it/evals=1680/3254 eff=67.6313% N=200 \r"
     ]
    },
    {
     "name": "stderr",
     "output_type": "stream",
     "text": [
      "DEBUG:ultranest:iteration=1680, ncalls=3254, regioncalls=141960, ndraw=40, logz=-1771.79, remainder_fraction=6.5210%, Lmin=-1763.25, Lmax=-1763.18\n"
     ]
    },
    {
     "name": "stdout",
     "output_type": "stream",
     "text": [
      "Z=-1771.8(93.51%) | Like=-1763.25..-1763.18 [-2481.7992..-1763.1845] | it/evals=1681/3256 eff=67.5936% N=200 \r"
     ]
    },
    {
     "name": "stderr",
     "output_type": "stream",
     "text": [
      "DEBUG:ultranest:iteration=1681, ncalls=3256, regioncalls=142080, ndraw=40, logz=-1771.79, remainder_fraction=6.4897%, Lmin=-1763.25, Lmax=-1763.18\n"
     ]
    },
    {
     "name": "stdout",
     "output_type": "stream",
     "text": [
      "Z=-1771.8(93.79%) | Like=-1763.25..-1763.18 [-2481.7992..-1763.1845] | it/evals=1690/3262 eff=67.6939% N=200 \r"
     ]
    },
    {
     "name": "stderr",
     "output_type": "stream",
     "text": [
      "DEBUG:ultranest:iteration=1690, ncalls=3262, regioncalls=142320, ndraw=40, logz=-1771.79, remainder_fraction=6.2139%, Lmin=-1763.25, Lmax=-1763.18\n"
     ]
    },
    {
     "name": "stdout",
     "output_type": "stream",
     "text": [
      "Z=-1771.8(94.08%) | Like=-1763.25..-1763.18 [-2481.7992..-1763.1845] | it/evals=1700/3270 eff=67.6502% N=200 \r"
     ]
    },
    {
     "name": "stderr",
     "output_type": "stream",
     "text": [
      "DEBUG:ultranest:iteration=1700, ncalls=3270, regioncalls=142640, ndraw=40, logz=-1771.79, remainder_fraction=5.9232%, Lmin=-1763.25, Lmax=-1763.18\n"
     ]
    },
    {
     "name": "stdout",
     "output_type": "stream",
     "text": [
      "Z=-1771.8(94.88%) | Like=-1763.24..-1763.18 [-2481.7992..-1763.1845] | it/evals=1730/3296 eff=67.4872% N=200 \r"
     ]
    },
    {
     "name": "stderr",
     "output_type": "stream",
     "text": [
      "DEBUG:ultranest:iteration=1730, ncalls=3296, regioncalls=143680, ndraw=40, logz=-1771.78, remainder_fraction=5.1210%, Lmin=-1763.24, Lmax=-1763.18\n"
     ]
    },
    {
     "name": "stdout",
     "output_type": "stream",
     "text": [
      "Z=-1771.8(95.58%) | Like=-1763.23..-1763.18 [-2481.7992..-1763.1845] | it/evals=1760/3315 eff=67.6056% N=200 \r"
     ]
    },
    {
     "name": "stderr",
     "output_type": "stream",
     "text": [
      "DEBUG:ultranest:iteration=1760, ncalls=3315, regioncalls=144600, ndraw=40, logz=-1771.77, remainder_fraction=4.4228%, Lmin=-1763.23, Lmax=-1763.18\n"
     ]
    },
    {
     "name": "stdout",
     "output_type": "stream",
     "text": [
      "Z=-1771.8(95.83%) | Like=-1763.23..-1763.18 [-2481.7992..-1763.1845] | it/evals=1772/3329 eff=67.3611% N=200 \r"
     ]
    },
    {
     "name": "stderr",
     "output_type": "stream",
     "text": [
      "DEBUG:ultranest:iteration=1772, ncalls=3329, regioncalls=145240, ndraw=40, logz=-1771.77, remainder_fraction=4.1707%, Lmin=-1763.23, Lmax=-1763.18\n"
     ]
    },
    {
     "name": "stdout",
     "output_type": "stream",
     "text": [
      "Z=-1771.8(95.99%) | Like=-1763.22..-1763.18 [-2481.7992..-1763.1845] | it/evals=1780/3332 eff=67.4580% N=200 \r"
     ]
    },
    {
     "name": "stderr",
     "output_type": "stream",
     "text": [
      "DEBUG:ultranest:iteration=1780, ncalls=3332, regioncalls=145360, ndraw=40, logz=-1771.77, remainder_fraction=4.0105%, Lmin=-1763.22, Lmax=-1763.18\n"
     ]
    },
    {
     "name": "stdout",
     "output_type": "stream",
     "text": [
      "Z=-1771.8(96.18%) | Like=-1763.22..-1763.18 [-2481.7992..-1763.1845] | it/evals=1790/3337 eff=67.5197% N=200 \r"
     ]
    },
    {
     "name": "stderr",
     "output_type": "stream",
     "text": [
      "DEBUG:ultranest:iteration=1790, ncalls=3337, regioncalls=145560, ndraw=40, logz=-1771.76, remainder_fraction=3.8187%, Lmin=-1763.22, Lmax=-1763.18\n"
     ]
    },
    {
     "name": "stdout",
     "output_type": "stream",
     "text": [
      "Z=-1771.8(96.66%) | Like=-1763.22..-1763.18 [-2481.7992..-1763.1845] | it/evals=1817/3352 eff=67.8952% N=200 \r"
     ]
    },
    {
     "name": "stderr",
     "output_type": "stream",
     "text": [
      "DEBUG:ultranest:iteration=1817, ncalls=3352, regioncalls=146200, ndraw=40, logz=-1771.76, remainder_fraction=3.3449%, Lmin=-1763.22, Lmax=-1763.18\n"
     ]
    },
    {
     "name": "stdout",
     "output_type": "stream",
     "text": [
      "Z=-1771.8(96.70%) | Like=-1763.22..-1763.18 [-2481.7992..-1763.1845] | it/evals=1820/3355 eff=67.8917% N=200 \r"
     ]
    },
    {
     "name": "stderr",
     "output_type": "stream",
     "text": [
      "DEBUG:ultranest:iteration=1820, ncalls=3355, regioncalls=146320, ndraw=40, logz=-1771.76, remainder_fraction=3.2964%, Lmin=-1763.22, Lmax=-1763.18\n"
     ]
    },
    {
     "name": "stdout",
     "output_type": "stream",
     "text": [
      "Z=-1771.8(97.16%) | Like=-1763.21..-1763.18 [-2481.7992..-1763.1845] | it/evals=1850/3372 eff=68.0304% N=200 \r"
     ]
    },
    {
     "name": "stderr",
     "output_type": "stream",
     "text": [
      "DEBUG:ultranest:iteration=1850, ncalls=3372, regioncalls=147000, ndraw=40, logz=-1771.75, remainder_fraction=2.8443%, Lmin=-1763.21, Lmax=-1763.18\n"
     ]
    },
    {
     "name": "stdout",
     "output_type": "stream",
     "text": [
      "Z=-1771.8(97.29%) | Like=-1763.21..-1763.18 [-2481.7992..-1763.1845] | it/evals=1860/3375 eff=68.1214% N=200 \r"
     ]
    },
    {
     "name": "stderr",
     "output_type": "stream",
     "text": [
      "DEBUG:ultranest:iteration=1860, ncalls=3375, regioncalls=147120, ndraw=40, logz=-1771.75, remainder_fraction=2.7075%, Lmin=-1763.21, Lmax=-1763.18\n"
     ]
    },
    {
     "name": "stdout",
     "output_type": "stream",
     "text": [
      "Z=-1771.8(97.33%) | Like=-1763.21..-1763.18 [-2481.7992..-1763.1845] | it/evals=1863/3376 eff=68.1517% N=200 \r"
     ]
    },
    {
     "name": "stderr",
     "output_type": "stream",
     "text": [
      "DEBUG:ultranest:iteration=1863, ncalls=3376, regioncalls=147200, ndraw=40, logz=-1771.75, remainder_fraction=2.6678%, Lmin=-1763.21, Lmax=-1763.18\n"
     ]
    },
    {
     "name": "stdout",
     "output_type": "stream",
     "text": [
      "Z=-1771.8(97.42%) | Like=-1763.21..-1763.18 [-2481.7992..-1763.1845] | it/evals=1870/3383 eff=68.1733% N=200 \r"
     ]
    },
    {
     "name": "stderr",
     "output_type": "stream",
     "text": [
      "DEBUG:ultranest:iteration=1870, ncalls=3383, regioncalls=147480, ndraw=40, logz=-1771.75, remainder_fraction=2.5770%, Lmin=-1763.21, Lmax=-1763.18\n"
     ]
    },
    {
     "name": "stdout",
     "output_type": "stream",
     "text": [
      "Z=-1771.7(97.78%) | Like=-1763.21..-1763.18 [-2481.7992..-1763.1845] | it/evals=1900/3403 eff=68.2994% N=200 \r"
     ]
    },
    {
     "name": "stderr",
     "output_type": "stream",
     "text": [
      "DEBUG:ultranest:iteration=1900, ncalls=3403, regioncalls=148320, ndraw=40, logz=-1771.75, remainder_fraction=2.2214%, Lmin=-1763.21, Lmax=-1763.18\n"
     ]
    },
    {
     "name": "stdout",
     "output_type": "stream",
     "text": [
      "Z=-1771.7(97.99%) | Like=-1763.20..-1763.18 [-2481.7992..-1763.1845] | it/evals=1920/3419 eff=68.3971% N=200 \r"
     ]
    },
    {
     "name": "stderr",
     "output_type": "stream",
     "text": [
      "DEBUG:ultranest:iteration=1920, ncalls=3419, regioncalls=148960, ndraw=40, logz=-1771.74, remainder_fraction=2.0122%, Lmin=-1763.20, Lmax=-1763.18\n"
     ]
    },
    {
     "name": "stdout",
     "output_type": "stream",
     "text": [
      "Z=-1771.7(98.08%) | Like=-1763.20..-1763.18 [-2481.7992..-1763.1845] | it/evals=1930/3427 eff=68.3544% N=200 \r"
     ]
    },
    {
     "name": "stderr",
     "output_type": "stream",
     "text": [
      "DEBUG:ultranest:iteration=1930, ncalls=3427, regioncalls=149280, ndraw=40, logz=-1771.74, remainder_fraction=1.9151%, Lmin=-1763.20, Lmax=-1763.18\n"
     ]
    },
    {
     "name": "stdout",
     "output_type": "stream",
     "text": [
      "Z=-1771.7(98.18%) | Like=-1763.20..-1763.18 [-2481.7992..-1763.1845] | it/evals=1940/3435 eff=68.2226% N=200 \r"
     ]
    },
    {
     "name": "stderr",
     "output_type": "stream",
     "text": [
      "DEBUG:ultranest:iteration=1940, ncalls=3435, regioncalls=149640, ndraw=40, logz=-1771.74, remainder_fraction=1.8225%, Lmin=-1763.20, Lmax=-1763.18\n"
     ]
    },
    {
     "name": "stdout",
     "output_type": "stream",
     "text": [
      "Z=-1771.7(98.29%) | Like=-1763.20..-1763.18 [-2481.7992..-1763.1845] | it/evals=1953/3443 eff=68.2709% N=200 \r"
     ]
    },
    {
     "name": "stderr",
     "output_type": "stream",
     "text": [
      "DEBUG:ultranest:iteration=1953, ncalls=3443, regioncalls=150080, ndraw=40, logz=-1771.74, remainder_fraction=1.7090%, Lmin=-1763.20, Lmax=-1763.18\n"
     ]
    },
    {
     "name": "stdout",
     "output_type": "stream",
     "text": [
      "Z=-1771.7(98.43%) | Like=-1763.20..-1763.18 [-2481.7992..-1763.1845] | it/evals=1970/3450 eff=68.3791% N=200 \r"
     ]
    },
    {
     "name": "stderr",
     "output_type": "stream",
     "text": [
      "DEBUG:ultranest:iteration=1970, ncalls=3450, regioncalls=150360, ndraw=40, logz=-1771.74, remainder_fraction=1.5712%, Lmin=-1763.20, Lmax=-1763.18\n"
     ]
    },
    {
     "name": "stdout",
     "output_type": "stream",
     "text": [
      "Z=-1771.7(98.50%) | Like=-1763.20..-1763.18 [-2481.7992..-1763.1845] | it/evals=1980/3456 eff=68.5463% N=200 \r"
     ]
    },
    {
     "name": "stderr",
     "output_type": "stream",
     "text": [
      "DEBUG:ultranest:iteration=1980, ncalls=3456, regioncalls=150600, ndraw=40, logz=-1771.74, remainder_fraction=1.4954%, Lmin=-1763.20, Lmax=-1763.18\n"
     ]
    },
    {
     "name": "stdout",
     "output_type": "stream",
     "text": [
      "Z=-1771.7(98.58%) | Like=-1763.20..-1763.18 [-2481.7992..-1763.1845] | it/evals=1990/3466 eff=68.5590% N=200 \r"
     ]
    },
    {
     "name": "stderr",
     "output_type": "stream",
     "text": [
      "DEBUG:ultranest:iteration=1990, ncalls=3466, regioncalls=151000, ndraw=40, logz=-1771.74, remainder_fraction=1.4231%, Lmin=-1763.20, Lmax=-1763.18\n"
     ]
    },
    {
     "name": "stdout",
     "output_type": "stream",
     "text": [
      "Z=-1771.7(98.63%) | Like=-1763.20..-1763.18 [-2481.7992..-1763.1845] | it/evals=1998/3474 eff=68.5169% N=200 \r"
     ]
    },
    {
     "name": "stderr",
     "output_type": "stream",
     "text": [
      "DEBUG:ultranest:iteration=1998, ncalls=3474, regioncalls=151360, ndraw=40, logz=-1771.74, remainder_fraction=1.3678%, Lmin=-1763.20, Lmax=-1763.18\n"
     ]
    },
    {
     "name": "stdout",
     "output_type": "stream",
     "text": [
      "Z=-1771.7(98.83%) | Like=-1763.20..-1763.18 [-2481.7992..-1763.1845] | it/evals=2030/3500 eff=68.4478% N=200 \r"
     ]
    },
    {
     "name": "stderr",
     "output_type": "stream",
     "text": [
      "DEBUG:ultranest:iteration=2030, ncalls=3500, regioncalls=152400, ndraw=40, logz=-1771.74, remainder_fraction=1.1667%, Lmin=-1763.20, Lmax=-1763.18\n"
     ]
    },
    {
     "name": "stdout",
     "output_type": "stream",
     "text": [
      "Z=-1771.7(98.89%) | Like=-1763.19..-1763.18 [-2481.7992..-1763.1845] | it/evals=2040/3511 eff=68.6555% N=200 \r"
     ]
    },
    {
     "name": "stderr",
     "output_type": "stream",
     "text": [
      "DEBUG:ultranest:iteration=2040, ncalls=3511, regioncalls=152880, ndraw=40, logz=-1771.74, remainder_fraction=1.1103%, Lmin=-1763.19, Lmax=-1763.18\n"
     ]
    },
    {
     "name": "stdout",
     "output_type": "stream",
     "text": [
      "Z=-1771.7(98.91%) | Like=-1763.19..-1763.18 [-2481.7992..-1763.1845] | it/evals=2043/3515 eff=68.6767% N=200 \r"
     ]
    },
    {
     "name": "stderr",
     "output_type": "stream",
     "text": [
      "DEBUG:ultranest:iteration=2043, ncalls=3515, regioncalls=153120, ndraw=40, logz=-1771.74, remainder_fraction=1.0939%, Lmin=-1763.19, Lmax=-1763.18\n"
     ]
    },
    {
     "name": "stdout",
     "output_type": "stream",
     "text": [
      "Z=-1771.7(98.94%) | Like=-1763.19..-1763.18 [-2481.7992..-1763.1845] | it/evals=2050/3523 eff=68.8020% N=200 \r"
     ]
    },
    {
     "name": "stderr",
     "output_type": "stream",
     "text": [
      "DEBUG:ultranest:iteration=2050, ncalls=3523, regioncalls=153480, ndraw=40, logz=-1771.73, remainder_fraction=1.0566%, Lmin=-1763.19, Lmax=-1763.18\n"
     ]
    },
    {
     "name": "stdout",
     "output_type": "stream",
     "text": [
      "Z=-1771.7(98.99%) | Like=-1763.19..-1763.18 [-2481.7992..-1763.1845] | it/evals=2060/3539 eff=68.7192% N=200 \r"
     ]
    },
    {
     "name": "stderr",
     "output_type": "stream",
     "text": [
      "DEBUG:ultranest:iteration=2060, ncalls=3539, regioncalls=154160, ndraw=40, logz=-1771.73, remainder_fraction=1.0054%, Lmin=-1763.19, Lmax=-1763.18\n"
     ]
    },
    {
     "name": "stdout",
     "output_type": "stream",
     "text": [
      "Z=-1771.7(99.04%) | Like=-1763.19..-1763.18 [-2481.7992..-1763.1845] | it/evals=2070/3553 eff=68.7500% N=200 \r"
     ]
    },
    {
     "name": "stderr",
     "output_type": "stream",
     "text": [
      "DEBUG:ultranest:iteration=2070, ncalls=3553, regioncalls=154720, ndraw=40, logz=-1771.73, remainder_fraction=0.9566%, Lmin=-1763.19, Lmax=-1763.18\n"
     ]
    },
    {
     "name": "stdout",
     "output_type": "stream",
     "text": [
      "Z=-1771.7(99.09%) | Like=-1763.19..-1763.18 [-2481.7992..-1763.1845] | it/evals=2080/3570 eff=68.6149% N=200 \r"
     ]
    },
    {
     "name": "stderr",
     "output_type": "stream",
     "text": [
      "DEBUG:ultranest:iteration=2080, ncalls=3570, regioncalls=155400, ndraw=40, logz=-1771.73, remainder_fraction=0.9102%, Lmin=-1763.19, Lmax=-1763.18\n"
     ]
    },
    {
     "name": "stdout",
     "output_type": "stream",
     "text": [
      "Z=-1771.7(99.13%) | Like=-1763.19..-1763.18 [-2481.7992..-1763.1845] | it/evals=2088/3585 eff=68.4335% N=200 \r"
     ]
    },
    {
     "name": "stderr",
     "output_type": "stream",
     "text": [
      "DEBUG:ultranest:iteration=2088, ncalls=3585, regioncalls=156040, ndraw=40, logz=-1771.73, remainder_fraction=0.8747%, Lmin=-1763.19, Lmax=-1763.18\n"
     ]
    },
    {
     "name": "stdout",
     "output_type": "stream",
     "text": [
      "Z=-1771.7(99.13%) | Like=-1763.19..-1763.18 [-2481.7992..-1763.1845] | it/evals=2090/3588 eff=68.4294% N=200 \r"
     ]
    },
    {
     "name": "stderr",
     "output_type": "stream",
     "text": [
      "DEBUG:ultranest:iteration=2090, ncalls=3588, regioncalls=156160, ndraw=40, logz=-1771.73, remainder_fraction=0.8660%, Lmin=-1763.19, Lmax=-1763.18\n"
     ]
    },
    {
     "name": "stdout",
     "output_type": "stream",
     "text": [
      "Z=-1771.7(99.18%) | Like=-1763.19..-1763.18 [-2481.7992..-1763.1845] | it/evals=2100/3601 eff=68.5156% N=200 \r"
     ]
    },
    {
     "name": "stderr",
     "output_type": "stream",
     "text": [
      "DEBUG:ultranest:iteration=2100, ncalls=3601, regioncalls=156680, ndraw=40, logz=-1771.73, remainder_fraction=0.8240%, Lmin=-1763.19, Lmax=-1763.18\n"
     ]
    },
    {
     "name": "stdout",
     "output_type": "stream",
     "text": [
      "Z=-1771.7(99.22%) | Like=-1763.19..-1763.18 [-2481.7992..-1763.1845] | it/evals=2110/3615 eff=68.5471% N=200 \r"
     ]
    },
    {
     "name": "stderr",
     "output_type": "stream",
     "text": [
      "DEBUG:ultranest:iteration=2110, ncalls=3615, regioncalls=157240, ndraw=40, logz=-1771.73, remainder_fraction=0.7840%, Lmin=-1763.19, Lmax=-1763.18\n"
     ]
    },
    {
     "name": "stdout",
     "output_type": "stream",
     "text": [
      "Z=-1771.7(99.25%) | Like=-1763.19..-1763.18 [-2481.7992..-1763.1845] | it/evals=2120/3633 eff=68.3689% N=200 \r"
     ]
    },
    {
     "name": "stderr",
     "output_type": "stream",
     "text": [
      "DEBUG:ultranest:iteration=2120, ncalls=3633, regioncalls=157960, ndraw=40, logz=-1771.73, remainder_fraction=0.7459%, Lmin=-1763.19, Lmax=-1763.18\n"
     ]
    },
    {
     "name": "stdout",
     "output_type": "stream",
     "text": [
      "Z=-1771.7(99.29%) | Like=-1763.19..-1763.18 [-2481.7992..-1763.1845] | it/evals=2130/3649 eff=68.2982% N=200 \r"
     ]
    },
    {
     "name": "stderr",
     "output_type": "stream",
     "text": [
      "DEBUG:ultranest:iteration=2130, ncalls=3649, regioncalls=158600, ndraw=40, logz=-1771.73, remainder_fraction=0.7097%, Lmin=-1763.19, Lmax=-1763.18\n"
     ]
    },
    {
     "name": "stdout",
     "output_type": "stream",
     "text": [
      "Z=-1771.7(99.30%) | Like=-1763.19..-1763.18 [-2481.7992..-1763.1845] | it/evals=2133/3652 eff=68.3696% N=200 \r"
     ]
    },
    {
     "name": "stderr",
     "output_type": "stream",
     "text": [
      "DEBUG:ultranest:iteration=2133, ncalls=3652, regioncalls=158760, ndraw=40, logz=-1771.73, remainder_fraction=0.6991%, Lmin=-1763.19, Lmax=-1763.18\n"
     ]
    },
    {
     "name": "stdout",
     "output_type": "stream",
     "text": [
      "Z=-1771.7(99.32%) | Like=-1763.19..-1763.18 [-2481.7992..-1763.1845] | it/evals=2140/3662 eff=68.3818% N=200 \r"
     ]
    },
    {
     "name": "stderr",
     "output_type": "stream",
     "text": [
      "DEBUG:ultranest:iteration=2140, ncalls=3662, regioncalls=159160, ndraw=40, logz=-1771.73, remainder_fraction=0.6752%, Lmin=-1763.19, Lmax=-1763.18\n"
     ]
    },
    {
     "name": "stdout",
     "output_type": "stream",
     "text": [
      "Z=-1771.7(99.36%) | Like=-1763.19..-1763.18 [-2481.7992..-1763.1845] | it/evals=2150/3675 eff=68.4638% N=200 \r"
     ]
    },
    {
     "name": "stderr",
     "output_type": "stream",
     "text": [
      "DEBUG:ultranest:iteration=2150, ncalls=3675, regioncalls=159680, ndraw=40, logz=-1771.73, remainder_fraction=0.6424%, Lmin=-1763.19, Lmax=-1763.18\n"
     ]
    },
    {
     "name": "stdout",
     "output_type": "stream",
     "text": [
      "Z=-1771.7(99.39%) | Like=-1763.19..-1763.18 [-2481.7992..-1763.1845] | it/evals=2160/3687 eff=68.5944% N=200 \r"
     ]
    },
    {
     "name": "stderr",
     "output_type": "stream",
     "text": [
      "DEBUG:ultranest:iteration=2160, ncalls=3687, regioncalls=160160, ndraw=40, logz=-1771.73, remainder_fraction=0.6112%, Lmin=-1763.19, Lmax=-1763.18\n"
     ]
    },
    {
     "name": "stdout",
     "output_type": "stream",
     "text": [
      "Z=-1771.7(99.42%) | Like=-1763.19..-1763.18 [-2481.7992..-1763.1845] | it/evals=2170/3702 eff=68.5735% N=200 \r"
     ]
    },
    {
     "name": "stderr",
     "output_type": "stream",
     "text": [
      "DEBUG:ultranest:iteration=2170, ncalls=3702, regioncalls=160760, ndraw=40, logz=-1771.73, remainder_fraction=0.5814%, Lmin=-1763.19, Lmax=-1763.18\n"
     ]
    },
    {
     "name": "stdout",
     "output_type": "stream",
     "text": [
      "Z=-1771.7(99.44%) | Like=-1763.19..-1763.18 [-2481.7992..-1763.1845] | it/evals=2178/3712 eff=68.6556% N=200 \r"
     ]
    },
    {
     "name": "stderr",
     "output_type": "stream",
     "text": [
      "DEBUG:ultranest:iteration=2178, ncalls=3712, regioncalls=161200, ndraw=40, logz=-1771.73, remainder_fraction=0.5587%, Lmin=-1763.19, Lmax=-1763.18\n"
     ]
    },
    {
     "name": "stdout",
     "output_type": "stream",
     "text": [
      "Z=-1771.7(99.45%) | Like=-1763.19..-1763.18 [-2481.7992..-1763.1845] | it/evals=2180/3714 eff=68.7006% N=200 \r"
     ]
    },
    {
     "name": "stderr",
     "output_type": "stream",
     "text": [
      "DEBUG:ultranest:iteration=2180, ncalls=3714, regioncalls=161280, ndraw=40, logz=-1771.73, remainder_fraction=0.5532%, Lmin=-1763.19, Lmax=-1763.18\n"
     ]
    },
    {
     "name": "stdout",
     "output_type": "stream",
     "text": [
      "Z=-1771.7(99.47%) | Like=-1763.19..-1763.18 [-2481.7992..-1763.1845] | it/evals=2190/3725 eff=68.8746% N=200 \r"
     ]
    },
    {
     "name": "stderr",
     "output_type": "stream",
     "text": [
      "DEBUG:ultranest:iteration=2190, ncalls=3725, regioncalls=161720, ndraw=40, logz=-1771.73, remainder_fraction=0.5263%, Lmin=-1763.19, Lmax=-1763.18\n"
     ]
    },
    {
     "name": "stdout",
     "output_type": "stream",
     "text": [
      "Z=-1771.7(99.50%) | Like=-1763.19..-1763.18 [-2481.7992..-1763.1845] | it/evals=2200/3739 eff=68.8999% N=200 \r"
     ]
    },
    {
     "name": "stderr",
     "output_type": "stream",
     "text": [
      "DEBUG:ultranest:iteration=2200, ncalls=3739, regioncalls=162320, ndraw=40, logz=-1771.73, remainder_fraction=0.5007%, Lmin=-1763.19, Lmax=-1763.18\n"
     ]
    },
    {
     "name": "stdout",
     "output_type": "stream",
     "text": [
      "Z=-1771.7(99.52%) | Like=-1763.19..-1763.18 [-2481.7992..-1763.1845] | it/evals=2210/3754 eff=68.8765% N=200 \r"
     ]
    },
    {
     "name": "stderr",
     "output_type": "stream",
     "text": [
      "DEBUG:ultranest:iteration=2210, ncalls=3754, regioncalls=163000, ndraw=40, logz=-1771.73, remainder_fraction=0.4763%, Lmin=-1763.19, Lmax=-1763.18\n"
     ]
    },
    {
     "name": "stdout",
     "output_type": "stream",
     "text": [
      "Z=-1771.7(99.55%) | Like=-1763.19..-1763.18 [-2481.7992..-1763.1845] | it/evals=2220/3770 eff=68.8061% N=200 \r"
     ]
    },
    {
     "name": "stderr",
     "output_type": "stream",
     "text": [
      "DEBUG:ultranest:iteration=2220, ncalls=3770, regioncalls=163720, ndraw=40, logz=-1771.73, remainder_fraction=0.4531%, Lmin=-1763.19, Lmax=-1763.18\n"
     ]
    },
    {
     "name": "stdout",
     "output_type": "stream",
     "text": [
      "Z=-1771.7(99.57%) | Like=-1763.19..-1763.18 [-2481.7992..-1763.1845] | it/evals=2230/3784 eff=68.8312% N=200 \r"
     ]
    },
    {
     "name": "stderr",
     "output_type": "stream",
     "text": [
      "DEBUG:ultranest:iteration=2230, ncalls=3784, regioncalls=164480, ndraw=40, logz=-1771.73, remainder_fraction=0.4311%, Lmin=-1763.19, Lmax=-1763.18\n"
     ]
    },
    {
     "name": "stdout",
     "output_type": "stream",
     "text": [
      "Z=-1771.7(99.59%) | Like=-1763.19..-1763.18 [-2481.7992..-1763.1845] | it/evals=2240/3801 eff=68.7162% N=200 \r"
     ]
    },
    {
     "name": "stderr",
     "output_type": "stream",
     "text": [
      "DEBUG:ultranest:iteration=2240, ncalls=3801, regioncalls=165240, ndraw=40, logz=-1771.73, remainder_fraction=0.4101%, Lmin=-1763.19, Lmax=-1763.18\n"
     ]
    },
    {
     "name": "stdout",
     "output_type": "stream",
     "text": [
      "Z=-1771.7(99.61%) | Like=-1763.19..-1763.18 [-2481.7992..-1763.1845] | it/evals=2250/3816 eff=68.6957% N=200 \r"
     ]
    },
    {
     "name": "stderr",
     "output_type": "stream",
     "text": [
      "DEBUG:ultranest:iteration=2250, ncalls=3816, regioncalls=165840, ndraw=40, logz=-1771.73, remainder_fraction=0.3902%, Lmin=-1763.19, Lmax=-1763.18\n"
     ]
    },
    {
     "name": "stdout",
     "output_type": "stream",
     "text": [
      "Z=-1771.7(99.63%) | Like=-1763.19..-1763.18 [-2481.7992..-1763.1845] | it/evals=2260/3828 eff=68.8122% N=200 \r"
     ]
    },
    {
     "name": "stderr",
     "output_type": "stream",
     "text": [
      "DEBUG:ultranest:iteration=2260, ncalls=3828, regioncalls=166360, ndraw=40, logz=-1771.73, remainder_fraction=0.3712%, Lmin=-1763.19, Lmax=-1763.18\n"
     ]
    },
    {
     "name": "stdout",
     "output_type": "stream",
     "text": [
      "Z=-1771.7(99.64%) | Like=-1763.19..-1763.18 [-2481.7992..-1763.1845] | it/evals=2268/3837 eff=68.9314% N=200 \r"
     ]
    },
    {
     "name": "stderr",
     "output_type": "stream",
     "text": [
      "DEBUG:ultranest:iteration=2268, ncalls=3837, regioncalls=166760, ndraw=40, logz=-1771.73, remainder_fraction=0.3567%, Lmin=-1763.19, Lmax=-1763.18\n"
     ]
    },
    {
     "name": "stdout",
     "output_type": "stream",
     "text": [
      "Z=-1771.7(99.65%) | Like=-1763.19..-1763.18 [-2481.7992..-1763.1845] | it/evals=2270/3840 eff=68.9269% N=200 \r"
     ]
    },
    {
     "name": "stderr",
     "output_type": "stream",
     "text": [
      "DEBUG:ultranest:iteration=2270, ncalls=3840, regioncalls=167000, ndraw=40, logz=-1771.73, remainder_fraction=0.3531%, Lmin=-1763.19, Lmax=-1763.18\n"
     ]
    },
    {
     "name": "stdout",
     "output_type": "stream",
     "text": [
      "Z=-1771.7(99.66%) | Like=-1763.19..-1763.18 [-2481.7992..-1763.1845] | it/evals=2280/3857 eff=68.8151% N=200 \r"
     ]
    },
    {
     "name": "stderr",
     "output_type": "stream",
     "text": [
      "DEBUG:ultranest:iteration=2280, ncalls=3857, regioncalls=167720, ndraw=40, logz=-1771.73, remainder_fraction=0.3359%, Lmin=-1763.19, Lmax=-1763.18\n"
     ]
    },
    {
     "name": "stdout",
     "output_type": "stream",
     "text": [
      "Z=-1771.7(99.68%) | Like=-1763.18..-1763.18 [-2481.7992..-1763.1845] | it/evals=2290/3873 eff=68.7500% N=200 \r"
     ]
    },
    {
     "name": "stderr",
     "output_type": "stream",
     "text": [
      "DEBUG:ultranest:iteration=2290, ncalls=3873, regioncalls=168360, ndraw=40, logz=-1771.73, remainder_fraction=0.3196%, Lmin=-1763.18, Lmax=-1763.18\n"
     ]
    },
    {
     "name": "stdout",
     "output_type": "stream",
     "text": [
      "Z=-1771.7(99.70%) | Like=-1763.18..-1763.18 [-2481.7992..-1763.1845] | it/evals=2300/3884 eff=68.9060% N=200 \r"
     ]
    },
    {
     "name": "stderr",
     "output_type": "stream",
     "text": [
      "DEBUG:ultranest:iteration=2300, ncalls=3884, regioncalls=168880, ndraw=40, logz=-1771.73, remainder_fraction=0.3040%, Lmin=-1763.18, Lmax=-1763.18\n"
     ]
    },
    {
     "name": "stdout",
     "output_type": "stream",
     "text": [
      "Z=-1771.7(99.71%) | Like=-1763.18..-1763.18 [-2481.7992..-1763.1845] | it/evals=2310/3899 eff=68.8847% N=200 \r"
     ]
    },
    {
     "name": "stderr",
     "output_type": "stream",
     "text": [
      "DEBUG:ultranest:iteration=2310, ncalls=3899, regioncalls=169480, ndraw=40, logz=-1771.73, remainder_fraction=0.2892%, Lmin=-1763.18, Lmax=-1763.18\n"
     ]
    },
    {
     "name": "stdout",
     "output_type": "stream",
     "text": [
      "Z=-1771.7(99.72%) | Like=-1763.18..-1763.18 [-2481.7992..-1763.1845] | it/evals=2313/3905 eff=68.8131% N=200 \r"
     ]
    },
    {
     "name": "stderr",
     "output_type": "stream",
     "text": [
      "DEBUG:ultranest:iteration=2313, ncalls=3905, regioncalls=169800, ndraw=40, logz=-1771.73, remainder_fraction=0.2849%, Lmin=-1763.18, Lmax=-1763.18\n"
     ]
    },
    {
     "name": "stdout",
     "output_type": "stream",
     "text": [
      "Z=-1771.7(99.72%) | Like=-1763.18..-1763.18 [-2481.7992..-1763.1845] | it/evals=2320/3912 eff=68.9503% N=200 \r"
     ]
    },
    {
     "name": "stderr",
     "output_type": "stream",
     "text": [
      "DEBUG:ultranest:iteration=2320, ncalls=3912, regioncalls=170080, ndraw=40, logz=-1771.73, remainder_fraction=0.2751%, Lmin=-1763.18, Lmax=-1763.18\n"
     ]
    },
    {
     "name": "stdout",
     "output_type": "stream",
     "text": [
      "[ultranest] Explored until L=-2e+03  \n"
     ]
    },
    {
     "name": "stderr",
     "output_type": "stream",
     "text": [
      "INFO:ultranest:Explored until L=-2e+03  \n"
     ]
    },
    {
     "name": "stdout",
     "output_type": "stream",
     "text": [
      "[ultranest] Likelihood function evaluations: 3915\n"
     ]
    },
    {
     "name": "stderr",
     "output_type": "stream",
     "text": [
      "INFO:ultranest:Likelihood function evaluations: 3915\n"
     ]
    },
    {
     "name": "stdout",
     "output_type": "stream",
     "text": [
      "[ultranest] Writing samples and results to disk ...\n"
     ]
    },
    {
     "name": "stderr",
     "output_type": "stream",
     "text": [
      "INFO:ultranest:Writing samples and results to disk ...\n"
     ]
    },
    {
     "name": "stdout",
     "output_type": "stream",
     "text": [
      "[ultranest] Writing samples and results to disk ... done\n"
     ]
    },
    {
     "name": "stderr",
     "output_type": "stream",
     "text": [
      "INFO:ultranest:Writing samples and results to disk ... done\n",
      "DEBUG:ultranest:did a run_iter pass!\n"
     ]
    },
    {
     "name": "stdout",
     "output_type": "stream",
     "text": [
      "[ultranest]   logZ = -1772 +- 0.2144\n"
     ]
    },
    {
     "name": "stderr",
     "output_type": "stream",
     "text": [
      "INFO:ultranest:  logZ = -1772 +- 0.2144\n"
     ]
    },
    {
     "name": "stdout",
     "output_type": "stream",
     "text": [
      "[ultranest] Effective samples strategy wants to improve: -1770.74..-1763.18 (ESS = 811.9, need >1000)\n"
     ]
    },
    {
     "name": "stderr",
     "output_type": "stream",
     "text": [
      "INFO:ultranest:Effective samples strategy wants to improve: -1770.74..-1763.18 (ESS = 811.9, need >1000)\n"
     ]
    },
    {
     "name": "stdout",
     "output_type": "stream",
     "text": [
      "[ultranest] Posterior uncertainty strategy is satisfied (KL: 0.45+-0.10 nat, need <0.50 nat)\n"
     ]
    },
    {
     "name": "stderr",
     "output_type": "stream",
     "text": [
      "INFO:ultranest:Posterior uncertainty strategy is satisfied (KL: 0.45+-0.10 nat, need <0.50 nat)\n",
      "DEBUG:ultranest:  conservative estimate says at least 101 live points are needed to reach dlogz goal\n",
      "DEBUG:ultranest:  number of live points vary between 49 and 199, most (1312/2049 iterations) have 198\n",
      "DEBUG:ultranest:  at least 49 live points are needed to reach dlogz goal\n"
     ]
    },
    {
     "name": "stdout",
     "output_type": "stream",
     "text": [
      "[ultranest] Evidency uncertainty strategy wants 49 minimum live points (dlogz from 0.18 to 0.51, need <0.5)\n"
     ]
    },
    {
     "name": "stderr",
     "output_type": "stream",
     "text": [
      "INFO:ultranest:Evidency uncertainty strategy wants 49 minimum live points (dlogz from 0.18 to 0.51, need <0.5)\n"
     ]
    },
    {
     "name": "stdout",
     "output_type": "stream",
     "text": [
      "[ultranest]   logZ error budget: single: 0.19 bs:0.21 tail:0.00 total:0.21 required:<0.50\n"
     ]
    },
    {
     "name": "stderr",
     "output_type": "stream",
     "text": [
      "INFO:ultranest:  logZ error budget: single: 0.19 bs:0.21 tail:0.00 total:0.21 required:<0.50\n"
     ]
    },
    {
     "name": "stdout",
     "output_type": "stream",
     "text": [
      "[ultranest] Widening from 100 to 400 live points before L=-2e+03...\n"
     ]
    },
    {
     "name": "stderr",
     "output_type": "stream",
     "text": [
      "INFO:ultranest:Widening from 100 to 400 live points before L=-2e+03...\n"
     ]
    },
    {
     "name": "stdout",
     "output_type": "stream",
     "text": [
      "[ultranest] Will add 300 live points (x3) at L=-7e+04 ...\n"
     ]
    },
    {
     "name": "stderr",
     "output_type": "stream",
     "text": [
      "INFO:ultranest:Will add 300 live points (x3) at L=-7e+04 ...\n"
     ]
    },
    {
     "name": "stdout",
     "output_type": "stream",
     "text": [
      "[ultranest] Exploring (in particular: L=-66277.22..-1763.18) ...\n"
     ]
    },
    {
     "name": "stderr",
     "output_type": "stream",
     "text": [
      "INFO:ultranest:Exploring (in particular: L=-66277.22..-1763.18) ...\n",
      "DEBUG:ultranest:minimal_widths_sequence: [(-inf, 100.0), (-66277.21573609045, 400.0), (-2481.7992434141465, 400.0), (-1763.1844685386445, 400.0), (-1763.1822596833042, 400.0), (inf, 100.0)]\n"
     ]
    },
    {
     "name": "stdout",
     "output_type": "stream",
     "text": [
      "Z=-67591.9(0.00%) | Like=-66277.22..-1763.18 [-66277.2157..-1763.1823] | it/evals=48/3916 eff=0.0000% N=100 \r"
     ]
    },
    {
     "name": "stderr",
     "output_type": "stream",
     "text": [
      "DEBUG:ultranest:iteration=48, ncalls=3916, regioncalls=170240, ndraw=40, logz=-67591.88, remainder_fraction=100.0000%, Lmin=-66277.22, Lmax=-1763.18\n"
     ]
    },
    {
     "name": "stdout",
     "output_type": "stream",
     "text": [
      "Z=-7443.1(0.00%) | Like=-7416.92..-1763.18 [-66277.2157..-1763.1823] | it/evals=92/3917 eff=50.0000% N=101 \r"
     ]
    },
    {
     "name": "stderr",
     "output_type": "stream",
     "text": [
      "DEBUG:ultranest:iteration=92, ncalls=3917, regioncalls=170280, ndraw=40, logz=-7443.08, remainder_fraction=100.0000%, Lmin=-7416.92, Lmax=-1763.18\n"
     ]
    },
    {
     "name": "stdout",
     "output_type": "stream",
     "text": [
      "Z=-5933.1(0.00%) | Like=-5918.05..-1763.18 [-66277.2157..-1763.1823] | it/evals=126/3922 eff=57.1429% N=101 \r"
     ]
    },
    {
     "name": "stderr",
     "output_type": "stream",
     "text": [
      "DEBUG:ultranest:iteration=126, ncalls=3922, regioncalls=170480, ndraw=40, logz=-5933.07, remainder_fraction=100.0000%, Lmin=-5918.05, Lmax=-1763.18\n"
     ]
    },
    {
     "name": "stdout",
     "output_type": "stream",
     "text": [
      "Z=-2251.5(0.00%) | Like=-2232.55..-1763.18 [-66277.2157..-1763.1823] | it/evals=283/3936 eff=38.0952% N=103 \r"
     ]
    },
    {
     "name": "stderr",
     "output_type": "stream",
     "text": [
      "DEBUG:ultranest:iteration=283, ncalls=3936, regioncalls=171720, ndraw=40, logz=-2251.50, remainder_fraction=100.0000%, Lmin=-2232.55, Lmax=-1763.18\n"
     ]
    },
    {
     "name": "stdout",
     "output_type": "stream",
     "text": [
      "Z=-2018.2(0.00%) | Like=-2004.40..-1763.18 [-66277.2157..-1763.1823] | it/evals=330/3951 eff=30.5556% N=105 \r"
     ]
    },
    {
     "name": "stderr",
     "output_type": "stream",
     "text": [
      "DEBUG:ultranest:iteration=330, ncalls=3951, regioncalls=173240, ndraw=40, logz=-2018.25, remainder_fraction=100.0000%, Lmin=-2004.40, Lmax=-1763.18\n"
     ]
    },
    {
     "name": "stdout",
     "output_type": "stream",
     "text": [
      "Z=-1919.9(0.00%) | Like=-1907.72..-1763.18 [-66277.2157..-1763.1823] | it/evals=375/3953 eff=31.5789% N=105 \r"
     ]
    },
    {
     "name": "stderr",
     "output_type": "stream",
     "text": [
      "DEBUG:ultranest:iteration=375, ncalls=3953, regioncalls=173360, ndraw=40, logz=-1919.86, remainder_fraction=100.0000%, Lmin=-1907.72, Lmax=-1763.18\n"
     ]
    },
    {
     "name": "stdout",
     "output_type": "stream",
     "text": [
      "Z=-1874.2(0.00%) | Like=-1865.34..-1763.18 [-66277.2157..-1763.1823] | it/evals=411/3960 eff=37.7778% N=111 \r"
     ]
    },
    {
     "name": "stderr",
     "output_type": "stream",
     "text": [
      "DEBUG:ultranest:iteration=411, ncalls=3960, regioncalls=173800, ndraw=40, logz=-1874.20, remainder_fraction=100.0000%, Lmin=-1865.34, Lmax=-1763.18\n"
     ]
    },
    {
     "name": "stdout",
     "output_type": "stream",
     "text": [
      "Z=-1856.2(0.00%) | Like=-1846.41..-1763.18 [-66277.2157..-1763.1823] | it/evals=437/3970 eff=40.0000% N=114 \r"
     ]
    },
    {
     "name": "stderr",
     "output_type": "stream",
     "text": [
      "DEBUG:ultranest:iteration=437, ncalls=3970, regioncalls=174360, ndraw=40, logz=-1856.23, remainder_fraction=100.0000%, Lmin=-1846.41, Lmax=-1763.18\n"
     ]
    },
    {
     "name": "stdout",
     "output_type": "stream",
     "text": [
      "Z=-1836.5(0.00%) | Like=-1828.48..-1763.18 [-66277.2157..-1763.1823] | it/evals=464/3975 eff=43.3333% N=114 \r"
     ]
    },
    {
     "name": "stderr",
     "output_type": "stream",
     "text": [
      "DEBUG:ultranest:iteration=464, ncalls=3975, regioncalls=174600, ndraw=40, logz=-1836.47, remainder_fraction=100.0000%, Lmin=-1828.48, Lmax=-1763.18\n"
     ]
    },
    {
     "name": "stdout",
     "output_type": "stream",
     "text": [
      "Z=-1822.8(0.00%) | Like=-1814.18..-1763.18 [-66277.2157..-1763.1823] | it/evals=491/3981 eff=45.4545% N=119 \r"
     ]
    },
    {
     "name": "stderr",
     "output_type": "stream",
     "text": [
      "DEBUG:ultranest:iteration=491, ncalls=3981, regioncalls=174840, ndraw=40, logz=-1822.83, remainder_fraction=100.0000%, Lmin=-1814.18, Lmax=-1763.18\n"
     ]
    },
    {
     "name": "stdout",
     "output_type": "stream",
     "text": [
      "Z=-1816.5(0.00%) | Like=-1808.13..-1763.18 [-66277.2157..-1763.1823] | it/evals=510/3985 eff=48.5714% N=126 \r"
     ]
    },
    {
     "name": "stderr",
     "output_type": "stream",
     "text": [
      "DEBUG:ultranest:iteration=510, ncalls=3985, regioncalls=175080, ndraw=40, logz=-1816.49, remainder_fraction=100.0000%, Lmin=-1808.13, Lmax=-1763.18\n"
     ]
    },
    {
     "name": "stdout",
     "output_type": "stream",
     "text": [
      "Z=-1808.8(0.00%) | Like=-1799.30..-1763.18 [-66277.2157..-1763.1823] | it/evals=540/4010 eff=50.5263% N=141 \r"
     ]
    },
    {
     "name": "stderr",
     "output_type": "stream",
     "text": [
      "DEBUG:ultranest:iteration=540, ncalls=4010, regioncalls=176160, ndraw=40, logz=-1808.80, remainder_fraction=100.0000%, Lmin=-1799.30, Lmax=-1763.18\n"
     ]
    },
    {
     "name": "stdout",
     "output_type": "stream",
     "text": [
      "Z=-1806.2(0.00%) | Like=-1797.24..-1763.18 [-66277.2157..-1763.1823] | it/evals=550/4023 eff=50.9259% N=145 \r"
     ]
    },
    {
     "name": "stderr",
     "output_type": "stream",
     "text": [
      "DEBUG:ultranest:iteration=550, ncalls=4023, regioncalls=176720, ndraw=40, logz=-1806.20, remainder_fraction=100.0000%, Lmin=-1797.24, Lmax=-1763.18\n"
     ]
    },
    {
     "name": "stdout",
     "output_type": "stream",
     "text": [
      "Z=-1803.8(0.00%) | Like=-1795.52..-1763.18 [-66277.2157..-1763.1823] | it/evals=560/4030 eff=52.1739% N=149 \r"
     ]
    },
    {
     "name": "stderr",
     "output_type": "stream",
     "text": [
      "DEBUG:ultranest:iteration=560, ncalls=4030, regioncalls=177080, ndraw=40, logz=-1803.84, remainder_fraction=100.0000%, Lmin=-1795.52, Lmax=-1763.18\n"
     ]
    },
    {
     "name": "stdout",
     "output_type": "stream",
     "text": [
      "Z=-1799.0(0.00%) | Like=-1790.25..-1763.18 [-66277.2157..-1763.1823] | it/evals=587/4044 eff=52.7132% N=159 \r"
     ]
    },
    {
     "name": "stderr",
     "output_type": "stream",
     "text": [
      "DEBUG:ultranest:iteration=587, ncalls=4044, regioncalls=177680, ndraw=40, logz=-1799.03, remainder_fraction=100.0000%, Lmin=-1790.25, Lmax=-1763.18\n"
     ]
    },
    {
     "name": "stdout",
     "output_type": "stream",
     "text": [
      "Z=-1796.4(0.00%) | Like=-1787.57..-1763.18 [-66277.2157..-1763.1823] | it/evals=600/4048 eff=53.3835% N=159 \r"
     ]
    },
    {
     "name": "stderr",
     "output_type": "stream",
     "text": [
      "DEBUG:ultranest:iteration=600, ncalls=4048, regioncalls=177840, ndraw=40, logz=-1796.38, remainder_fraction=100.0000%, Lmin=-1787.57, Lmax=-1763.18\n"
     ]
    },
    {
     "name": "stdout",
     "output_type": "stream",
     "text": [
      "Z=-1792.9(0.00%) | Like=-1783.93..-1763.18 [-66277.2157..-1763.1823] | it/evals=620/4064 eff=55.0336% N=165 \r"
     ]
    },
    {
     "name": "stderr",
     "output_type": "stream",
     "text": [
      "DEBUG:ultranest:iteration=620, ncalls=4064, regioncalls=178480, ndraw=40, logz=-1792.94, remainder_fraction=100.0000%, Lmin=-1783.93, Lmax=-1763.18\n"
     ]
    },
    {
     "name": "stdout",
     "output_type": "stream",
     "text": [
      "Z=-1792.5(0.00%) | Like=-1783.68..-1763.18 [-66277.2157..-1763.1823] | it/evals=623/4065 eff=55.3333% N=167 \r"
     ]
    },
    {
     "name": "stderr",
     "output_type": "stream",
     "text": [
      "DEBUG:ultranest:iteration=623, ncalls=4065, regioncalls=178560, ndraw=40, logz=-1792.49, remainder_fraction=100.0000%, Lmin=-1783.68, Lmax=-1763.18\n"
     ]
    },
    {
     "name": "stdout",
     "output_type": "stream",
     "text": [
      "Z=-1791.6(0.00%) | Like=-1782.92..-1763.18 [-66277.2157..-1763.1823] | it/evals=630/4072 eff=56.0510% N=173 \r"
     ]
    },
    {
     "name": "stderr",
     "output_type": "stream",
     "text": [
      "DEBUG:ultranest:iteration=630, ncalls=4072, regioncalls=178840, ndraw=40, logz=-1791.59, remainder_fraction=100.0000%, Lmin=-1782.92, Lmax=-1763.18\n"
     ]
    },
    {
     "name": "stdout",
     "output_type": "stream",
     "text": [
      "Z=-1789.5(0.00%) | Like=-1780.75..-1763.18 [-66277.2157..-1763.1823] | it/evals=650/4085 eff=58.8235% N=177 \r"
     ]
    },
    {
     "name": "stderr",
     "output_type": "stream",
     "text": [
      "DEBUG:ultranest:iteration=650, ncalls=4085, regioncalls=179440, ndraw=40, logz=-1789.46, remainder_fraction=100.0000%, Lmin=-1780.75, Lmax=-1763.18\n"
     ]
    },
    {
     "name": "stdout",
     "output_type": "stream",
     "text": [
      "Z=-1788.6(0.00%) | Like=-1780.06..-1763.18 [-66277.2157..-1763.1823] | it/evals=660/4090 eff=58.8571% N=181 \r"
     ]
    },
    {
     "name": "stderr",
     "output_type": "stream",
     "text": [
      "DEBUG:ultranest:iteration=660, ncalls=4090, regioncalls=179680, ndraw=40, logz=-1788.61, remainder_fraction=100.0000%, Lmin=-1780.06, Lmax=-1763.18\n"
     ]
    },
    {
     "name": "stdout",
     "output_type": "stream",
     "text": [
      "Z=-1788.4(0.00%) | Like=-1779.78..-1763.18 [-66277.2157..-1763.1823] | it/evals=663/4091 eff=59.0909% N=183 \r"
     ]
    },
    {
     "name": "stderr",
     "output_type": "stream",
     "text": [
      "DEBUG:ultranest:iteration=663, ncalls=4091, regioncalls=179760, ndraw=40, logz=-1788.37, remainder_fraction=100.0000%, Lmin=-1779.78, Lmax=-1763.18\n"
     ]
    },
    {
     "name": "stdout",
     "output_type": "stream",
     "text": [
      "Z=-1787.2(0.00%) | Like=-1778.87..-1763.18 [-66277.2157..-1763.1823] | it/evals=680/4102 eff=60.4278% N=190 \r"
     ]
    },
    {
     "name": "stderr",
     "output_type": "stream",
     "text": [
      "DEBUG:ultranest:iteration=680, ncalls=4102, regioncalls=180280, ndraw=40, logz=-1787.20, remainder_fraction=100.0000%, Lmin=-1778.87, Lmax=-1763.18\n"
     ]
    },
    {
     "name": "stdout",
     "output_type": "stream",
     "text": [
      "Z=-1785.9(0.00%) | Like=-1777.08..-1763.18 [-66277.2157..-1763.1823] | it/evals=700/4115 eff=62.0000% N=202 \r"
     ]
    },
    {
     "name": "stderr",
     "output_type": "stream",
     "text": [
      "DEBUG:ultranest:iteration=700, ncalls=4115, regioncalls=180800, ndraw=40, logz=-1785.89, remainder_fraction=99.9999%, Lmin=-1777.08, Lmax=-1763.18\n"
     ]
    },
    {
     "name": "stdout",
     "output_type": "stream",
     "text": [
      "Z=-1785.4(0.00%) | Like=-1776.78..-1763.18 [-66277.2157..-1763.1823] | it/evals=707/4123 eff=62.0192% N=204 \r"
     ]
    },
    {
     "name": "stderr",
     "output_type": "stream",
     "text": [
      "DEBUG:ultranest:iteration=707, ncalls=4123, regioncalls=181160, ndraw=40, logz=-1785.41, remainder_fraction=99.9999%, Lmin=-1776.78, Lmax=-1763.18\n"
     ]
    },
    {
     "name": "stdout",
     "output_type": "stream",
     "text": [
      "Z=-1785.2(0.00%) | Like=-1776.45..-1763.18 [-66277.2157..-1763.1823] | it/evals=710/4126 eff=62.5592% N=206 \r"
     ]
    },
    {
     "name": "stderr",
     "output_type": "stream",
     "text": [
      "DEBUG:ultranest:iteration=710, ncalls=4126, regioncalls=181280, ndraw=40, logz=-1785.20, remainder_fraction=99.9999%, Lmin=-1776.45, Lmax=-1763.18\n"
     ]
    },
    {
     "name": "stdout",
     "output_type": "stream",
     "text": [
      "Z=-1783.8(0.00%) | Like=-1775.21..-1763.18 [-66277.2157..-1763.1823] | it/evals=730/4139 eff=63.8393% N=219 \r"
     ]
    },
    {
     "name": "stderr",
     "output_type": "stream",
     "text": [
      "DEBUG:ultranest:iteration=730, ncalls=4139, regioncalls=181840, ndraw=40, logz=-1783.83, remainder_fraction=99.9994%, Lmin=-1775.21, Lmax=-1763.18\n"
     ]
    },
    {
     "name": "stdout",
     "output_type": "stream",
     "text": [
      "Z=-1782.8(0.00%) | Like=-1774.09..-1763.18 [-66277.2157..-1763.1823] | it/evals=750/4159 eff=65.1639% N=235 \r"
     ]
    },
    {
     "name": "stderr",
     "output_type": "stream",
     "text": [
      "DEBUG:ultranest:iteration=750, ncalls=4159, regioncalls=182640, ndraw=40, logz=-1782.78, remainder_fraction=99.9981%, Lmin=-1774.09, Lmax=-1763.18\n"
     ]
    },
    {
     "name": "stdout",
     "output_type": "stream",
     "text": [
      "Z=-1782.5(0.00%) | Like=-1773.90..-1763.18 [-66277.2157..-1763.1823] | it/evals=757/4162 eff=65.5870% N=239 \r"
     ]
    },
    {
     "name": "stderr",
     "output_type": "stream",
     "text": [
      "DEBUG:ultranest:iteration=757, ncalls=4162, regioncalls=182800, ndraw=40, logz=-1782.47, remainder_fraction=99.9974%, Lmin=-1773.90, Lmax=-1763.18\n"
     ]
    },
    {
     "name": "stdout",
     "output_type": "stream",
     "text": [
      "Z=-1782.4(0.00%) | Like=-1773.78..-1763.18 [-66277.2157..-1763.1823] | it/evals=760/4163 eff=65.7258% N=239 \r"
     ]
    },
    {
     "name": "stderr",
     "output_type": "stream",
     "text": [
      "DEBUG:ultranest:iteration=760, ncalls=4163, regioncalls=182840, ndraw=40, logz=-1782.35, remainder_fraction=99.9970%, Lmin=-1773.78, Lmax=-1763.18\n"
     ]
    },
    {
     "name": "stdout",
     "output_type": "stream",
     "text": [
      "Z=-1781.7(0.01%) | Like=-1773.12..-1763.18 [-66277.2157..-1763.1823] | it/evals=780/4179 eff=67.4242% N=255 \r"
     ]
    },
    {
     "name": "stderr",
     "output_type": "stream",
     "text": [
      "DEBUG:ultranest:iteration=780, ncalls=4179, regioncalls=183560, ndraw=40, logz=-1781.66, remainder_fraction=99.9942%, Lmin=-1773.12, Lmax=-1763.18\n"
     ]
    },
    {
     "name": "stdout",
     "output_type": "stream",
     "text": [
      "Z=-1780.7(0.02%) | Like=-1772.34..-1763.18 [-66277.2157..-1763.1823] | it/evals=815/4219 eff=67.7632% N=275 \r"
     ]
    },
    {
     "name": "stderr",
     "output_type": "stream",
     "text": [
      "DEBUG:ultranest:iteration=815, ncalls=4219, regioncalls=185240, ndraw=40, logz=-1780.71, remainder_fraction=99.9846%, Lmin=-1772.34, Lmax=-1763.18\n"
     ]
    },
    {
     "name": "stdout",
     "output_type": "stream",
     "text": [
      "Z=-1780.3(0.02%) | Like=-1771.63..-1763.18 [-66277.2157..-1763.1823] | it/evals=830/4230 eff=67.9365% N=283 \r"
     ]
    },
    {
     "name": "stderr",
     "output_type": "stream",
     "text": [
      "DEBUG:ultranest:iteration=830, ncalls=4230, regioncalls=185760, ndraw=40, logz=-1780.30, remainder_fraction=99.9761%, Lmin=-1771.63, Lmax=-1763.18\n"
     ]
    },
    {
     "name": "stdout",
     "output_type": "stream",
     "text": [
      "Z=-1779.4(0.06%) | Like=-1770.54..-1763.18 [-66277.2157..-1763.1823] | it/evals=860/4258 eff=67.0554% N=295 \r"
     ]
    },
    {
     "name": "stderr",
     "output_type": "stream",
     "text": [
      "DEBUG:ultranest:iteration=860, ncalls=4258, regioncalls=187080, ndraw=40, logz=-1779.39, remainder_fraction=99.9439%, Lmin=-1770.54, Lmax=-1763.18\n"
     ]
    },
    {
     "name": "stdout",
     "output_type": "stream",
     "text": [
      "Z=-1778.8(0.10%) | Like=-1769.95..-1763.18 [-66277.2157..-1763.1823] | it/evals=880/4263 eff=66.9540% N=300 \r"
     ]
    },
    {
     "name": "stderr",
     "output_type": "stream",
     "text": [
      "DEBUG:ultranest:iteration=880, ncalls=4263, regioncalls=187320, ndraw=40, logz=-1778.81, remainder_fraction=99.8984%, Lmin=-1769.95, Lmax=-1763.18\n"
     ]
    },
    {
     "name": "stdout",
     "output_type": "stream",
     "text": [
      "Z=-1778.6(0.13%) | Like=-1769.80..-1763.18 [-66277.2157..-1763.1823] | it/evals=890/4268 eff=67.1388% N=300 \r"
     ]
    },
    {
     "name": "stderr",
     "output_type": "stream",
     "text": [
      "DEBUG:ultranest:iteration=890, ncalls=4268, regioncalls=187520, ndraw=40, logz=-1778.56, remainder_fraction=99.8679%, Lmin=-1769.80, Lmax=-1763.18\n"
     ]
    },
    {
     "name": "stdout",
     "output_type": "stream",
     "text": [
      "Z=-1778.3(0.17%) | Like=-1769.48..-1763.18 [-66277.2157..-1763.1823] | it/evals=900/4280 eff=66.8493% N=300 \r"
     ]
    },
    {
     "name": "stderr",
     "output_type": "stream",
     "text": [
      "DEBUG:ultranest:iteration=900, ncalls=4280, regioncalls=188000, ndraw=40, logz=-1778.30, remainder_fraction=99.8301%, Lmin=-1769.48, Lmax=-1763.18\n"
     ]
    },
    {
     "name": "stdout",
     "output_type": "stream",
     "text": [
      "Z=-1778.1(0.22%) | Like=-1769.29..-1763.18 [-66277.2157..-1763.1823] | it/evals=910/4281 eff=66.9399% N=300 \r"
     ]
    },
    {
     "name": "stderr",
     "output_type": "stream",
     "text": [
      "DEBUG:ultranest:iteration=910, ncalls=4281, regioncalls=188040, ndraw=40, logz=-1778.06, remainder_fraction=99.7811%, Lmin=-1769.29, Lmax=-1763.18\n"
     ]
    },
    {
     "name": "stdout",
     "output_type": "stream",
     "text": [
      "Z=-1777.4(0.44%) | Like=-1768.66..-1763.18 [-66277.2157..-1763.1823] | it/evals=942/4308 eff=65.6489% N=300 \r"
     ]
    },
    {
     "name": "stderr",
     "output_type": "stream",
     "text": [
      "DEBUG:ultranest:iteration=942, ncalls=4308, regioncalls=189400, ndraw=40, logz=-1777.40, remainder_fraction=99.5643%, Lmin=-1768.66, Lmax=-1763.18\n"
     ]
    },
    {
     "name": "stdout",
     "output_type": "stream",
     "text": [
      "Z=-1777.3(0.50%) | Like=-1768.56..-1763.18 [-66277.2157..-1763.1823] | it/evals=949/4309 eff=65.7360% N=300 \r"
     ]
    },
    {
     "name": "stderr",
     "output_type": "stream",
     "text": [
      "DEBUG:ultranest:iteration=949, ncalls=4309, regioncalls=189480, ndraw=40, logz=-1777.27, remainder_fraction=99.4983%, Lmin=-1768.56, Lmax=-1763.18\n"
     ]
    },
    {
     "name": "stdout",
     "output_type": "stream",
     "text": [
      "Z=-1776.7(0.89%) | Like=-1768.02..-1763.18 [-66277.2157..-1763.1823] | it/evals=980/4317 eff=66.4179% N=300 \r"
     ]
    },
    {
     "name": "stderr",
     "output_type": "stream",
     "text": [
      "DEBUG:ultranest:iteration=980, ncalls=4317, regioncalls=189800, ndraw=40, logz=-1776.72, remainder_fraction=99.1058%, Lmin=-1768.02, Lmax=-1763.18\n"
     ]
    },
    {
     "name": "stdout",
     "output_type": "stream",
     "text": [
      "Z=-1776.4(1.20%) | Like=-1767.72..-1763.18 [-66277.2157..-1763.1823] | it/evals=1000/4334 eff=65.1551% N=300 \r"
     ]
    },
    {
     "name": "stderr",
     "output_type": "stream",
     "text": [
      "DEBUG:ultranest:iteration=1000, ncalls=4334, regioncalls=190480, ndraw=40, logz=-1776.39, remainder_fraction=98.7991%, Lmin=-1767.72, Lmax=-1763.18\n"
     ]
    },
    {
     "name": "stdout",
     "output_type": "stream",
     "text": [
      "Z=-1776.1(1.55%) | Like=-1767.39..-1763.18 [-66277.2157..-1763.1823] | it/evals=1018/4341 eff=65.0235% N=300 \r"
     ]
    },
    {
     "name": "stderr",
     "output_type": "stream",
     "text": [
      "DEBUG:ultranest:iteration=1018, ncalls=4341, regioncalls=190760, ndraw=40, logz=-1776.12, remainder_fraction=98.4532%, Lmin=-1767.39, Lmax=-1763.18\n"
     ]
    },
    {
     "name": "stdout",
     "output_type": "stream",
     "text": [
      "Z=-1776.1(1.59%) | Like=-1767.37..-1763.18 [-66277.2157..-1763.1823] | it/evals=1020/4343 eff=64.9533% N=300 \r"
     ]
    },
    {
     "name": "stderr",
     "output_type": "stream",
     "text": [
      "DEBUG:ultranest:iteration=1020, ncalls=4343, regioncalls=190880, ndraw=40, logz=-1776.09, remainder_fraction=98.4143%, Lmin=-1767.37, Lmax=-1763.18\n"
     ]
    },
    {
     "name": "stdout",
     "output_type": "stream",
     "text": [
      "Z=-1775.7(2.34%) | Like=-1767.08..-1763.18 [-66277.2157..-1763.1823] | it/evals=1050/4355 eff=65.0000% N=300 \r"
     ]
    },
    {
     "name": "stderr",
     "output_type": "stream",
     "text": [
      "DEBUG:ultranest:iteration=1050, ncalls=4355, regioncalls=191400, ndraw=40, logz=-1775.69, remainder_fraction=97.6573%, Lmin=-1767.08, Lmax=-1763.18\n"
     ]
    },
    {
     "name": "stdout",
     "output_type": "stream",
     "text": [
      "Z=-1775.5(2.90%) | Like=-1766.91..-1763.18 [-66277.2157..-1763.1823] | it/evals=1070/4362 eff=65.3244% N=300 \r"
     ]
    },
    {
     "name": "stderr",
     "output_type": "stream",
     "text": [
      "DEBUG:ultranest:iteration=1070, ncalls=4362, regioncalls=191840, ndraw=40, logz=-1775.47, remainder_fraction=97.1020%, Lmin=-1766.91, Lmax=-1763.18\n"
     ]
    },
    {
     "name": "stdout",
     "output_type": "stream",
     "text": [
      "Z=-1775.2(3.69%) | Like=-1766.64..-1763.18 [-66277.2157..-1763.1823] | it/evals=1094/4368 eff=65.5629% N=300 \r"
     ]
    },
    {
     "name": "stderr",
     "output_type": "stream",
     "text": [
      "DEBUG:ultranest:iteration=1094, ncalls=4368, regioncalls=192160, ndraw=40, logz=-1775.22, remainder_fraction=96.3145%, Lmin=-1766.64, Lmax=-1763.18\n"
     ]
    },
    {
     "name": "stdout",
     "output_type": "stream",
     "text": [
      "Z=-1774.9(5.19%) | Like=-1766.21..-1763.18 [-66277.2157..-1763.1823] | it/evals=1130/4387 eff=66.1017% N=300 \r"
     ]
    },
    {
     "name": "stderr",
     "output_type": "stream",
     "text": [
      "DEBUG:ultranest:iteration=1130, ncalls=4387, regioncalls=192920, ndraw=40, logz=-1774.86, remainder_fraction=94.8136%, Lmin=-1766.21, Lmax=-1763.18\n"
     ]
    },
    {
     "name": "stdout",
     "output_type": "stream",
     "text": [
      "Z=-1774.6(6.83%) | Like=-1765.88..-1763.18 [-66277.2157..-1763.1823] | it/evals=1160/4401 eff=66.0494% N=300 \r"
     ]
    },
    {
     "name": "stderr",
     "output_type": "stream",
     "text": [
      "DEBUG:ultranest:iteration=1160, ncalls=4401, regioncalls=193560, ndraw=40, logz=-1774.59, remainder_fraction=93.1743%, Lmin=-1765.88, Lmax=-1763.18\n"
     ]
    },
    {
     "name": "stdout",
     "output_type": "stream",
     "text": [
      "Z=-1774.6(6.86%) | Like=-1765.87..-1763.18 [-66277.2157..-1763.1823] | it/evals=1161/4402 eff=66.1191% N=300 \r"
     ]
    },
    {
     "name": "stderr",
     "output_type": "stream",
     "text": [
      "DEBUG:ultranest:iteration=1161, ncalls=4402, regioncalls=193640, ndraw=40, logz=-1774.58, remainder_fraction=93.1402%, Lmin=-1765.87, Lmax=-1763.18\n"
     ]
    },
    {
     "name": "stdout",
     "output_type": "stream",
     "text": [
      "Z=-1774.0(11.86%) | Like=-1765.40..-1763.18 [-66277.2157..-1763.1823] | it/evals=1230/4431 eff=67.2481% N=300 \r"
     ]
    },
    {
     "name": "stderr",
     "output_type": "stream",
     "text": [
      "DEBUG:ultranest:iteration=1230, ncalls=4431, regioncalls=194840, ndraw=40, logz=-1774.03, remainder_fraction=88.1433%, Lmin=-1765.40, Lmax=-1763.18\n"
     ]
    },
    {
     "name": "stdout",
     "output_type": "stream",
     "text": [
      "Z=-1773.9(13.55%) | Like=-1765.22..-1763.18 [-66277.2157..-1763.1823] | it/evals=1250/4437 eff=67.6245% N=300 \r"
     ]
    },
    {
     "name": "stderr",
     "output_type": "stream",
     "text": [
      "DEBUG:ultranest:iteration=1250, ncalls=4437, regioncalls=195120, ndraw=40, logz=-1773.89, remainder_fraction=86.4488%, Lmin=-1765.22, Lmax=-1763.18\n"
     ]
    },
    {
     "name": "stdout",
     "output_type": "stream",
     "text": [
      "Z=-1773.8(15.39%) | Like=-1765.12..-1763.18 [-66277.2157..-1763.1823] | it/evals=1270/4450 eff=67.6636% N=300 \r"
     ]
    },
    {
     "name": "stderr",
     "output_type": "stream",
     "text": [
      "DEBUG:ultranest:iteration=1270, ncalls=4450, regioncalls=195720, ndraw=40, logz=-1773.77, remainder_fraction=84.6129%, Lmin=-1765.12, Lmax=-1763.18\n"
     ]
    },
    {
     "name": "stdout",
     "output_type": "stream",
     "text": [
      "Z=-1773.7(16.36%) | Like=-1765.08..-1763.18 [-66277.2157..-1763.1823] | it/evals=1280/4461 eff=67.3993% N=300 \r"
     ]
    },
    {
     "name": "stderr",
     "output_type": "stream",
     "text": [
      "DEBUG:ultranest:iteration=1280, ncalls=4461, regioncalls=196160, ndraw=40, logz=-1773.71, remainder_fraction=83.6444%, Lmin=-1765.08, Lmax=-1763.18\n"
     ]
    },
    {
     "name": "stdout",
     "output_type": "stream",
     "text": [
      "Z=-1773.6(18.04%) | Like=-1764.97..-1763.18 [-66277.2157..-1763.1823] | it/evals=1298/4473 eff=67.7419% N=300 \r"
     ]
    },
    {
     "name": "stderr",
     "output_type": "stream",
     "text": [
      "DEBUG:ultranest:iteration=1298, ncalls=4473, regioncalls=196760, ndraw=40, logz=-1773.61, remainder_fraction=81.9608%, Lmin=-1764.97, Lmax=-1763.18\n"
     ]
    },
    {
     "name": "stdout",
     "output_type": "stream",
     "text": [
      "Z=-1773.3(23.48%) | Like=-1764.65..-1763.18 [-66277.2157..-1763.1823] | it/evals=1350/4490 eff=68.0000% N=300 \r"
     ]
    },
    {
     "name": "stderr",
     "output_type": "stream",
     "text": [
      "DEBUG:ultranest:iteration=1350, ncalls=4490, regioncalls=197520, ndraw=40, logz=-1773.35, remainder_fraction=76.5237%, Lmin=-1764.65, Lmax=-1763.18\n"
     ]
    },
    {
     "name": "stdout",
     "output_type": "stream",
     "text": [
      "Z=-1773.3(24.55%) | Like=-1764.62..-1763.18 [-66277.2157..-1763.1823] | it/evals=1360/4497 eff=67.6976% N=300 \r"
     ]
    },
    {
     "name": "stderr",
     "output_type": "stream",
     "text": [
      "DEBUG:ultranest:iteration=1360, ncalls=4497, regioncalls=197840, ndraw=40, logz=-1773.30, remainder_fraction=75.4463%, Lmin=-1764.62, Lmax=-1763.18\n"
     ]
    },
    {
     "name": "stdout",
     "output_type": "stream",
     "text": [
      "Z=-1773.2(26.28%) | Like=-1764.56..-1763.18 [-66277.2157..-1763.1823] | it/evals=1373/4499 eff=67.8082% N=300 \r"
     ]
    },
    {
     "name": "stderr",
     "output_type": "stream",
     "text": [
      "DEBUG:ultranest:iteration=1373, ncalls=4499, regioncalls=198000, ndraw=40, logz=-1773.24, remainder_fraction=73.7179%, Lmin=-1764.56, Lmax=-1763.18\n"
     ]
    },
    {
     "name": "stdout",
     "output_type": "stream",
     "text": [
      "Z=-1773.2(28.22%) | Like=-1764.49..-1763.18 [-66277.2157..-1763.1823] | it/evals=1390/4506 eff=68.1895% N=300 \r"
     ]
    },
    {
     "name": "stderr",
     "output_type": "stream",
     "text": [
      "DEBUG:ultranest:iteration=1390, ncalls=4506, regioncalls=198280, ndraw=40, logz=-1773.17, remainder_fraction=71.7779%, Lmin=-1764.49, Lmax=-1763.18\n"
     ]
    },
    {
     "name": "stdout",
     "output_type": "stream",
     "text": [
      "Z=-1773.0(32.69%) | Like=-1764.35..-1763.18 [-66277.2157..-1763.1823] | it/evals=1430/4528 eff=68.1892% N=300 \r"
     ]
    },
    {
     "name": "stderr",
     "output_type": "stream",
     "text": [
      "DEBUG:ultranest:iteration=1430, ncalls=4528, regioncalls=199160, ndraw=40, logz=-1773.01, remainder_fraction=67.3109%, Lmin=-1764.35, Lmax=-1763.18\n"
     ]
    },
    {
     "name": "stdout",
     "output_type": "stream",
     "text": [
      "Z=-1773.0(34.11%) | Like=-1764.33..-1763.18 [-66277.2157..-1763.1823] | it/evals=1441/4534 eff=68.3360% N=300 \r"
     ]
    },
    {
     "name": "stderr",
     "output_type": "stream",
     "text": [
      "DEBUG:ultranest:iteration=1441, ncalls=4534, regioncalls=199440, ndraw=40, logz=-1772.98, remainder_fraction=65.8940%, Lmin=-1764.33, Lmax=-1763.18\n"
     ]
    },
    {
     "name": "stdout",
     "output_type": "stream",
     "text": [
      "Z=-1772.9(35.14%) | Like=-1764.30..-1763.18 [-66277.2157..-1763.1823] | it/evals=1450/4540 eff=68.4800% N=300 \r"
     ]
    },
    {
     "name": "stderr",
     "output_type": "stream",
     "text": [
      "DEBUG:ultranest:iteration=1450, ncalls=4540, regioncalls=199680, ndraw=40, logz=-1772.95, remainder_fraction=64.8556%, Lmin=-1764.30, Lmax=-1763.18\n"
     ]
    },
    {
     "name": "stdout",
     "output_type": "stream",
     "text": [
      "Z=-1772.9(37.46%) | Like=-1764.23..-1763.18 [-66277.2157..-1763.1823] | it/evals=1470/4549 eff=68.7697% N=300 \r"
     ]
    },
    {
     "name": "stderr",
     "output_type": "stream",
     "text": [
      "DEBUG:ultranest:iteration=1470, ncalls=4549, regioncalls=200040, ndraw=40, logz=-1772.88, remainder_fraction=62.5411%, Lmin=-1764.23, Lmax=-1763.18\n"
     ]
    },
    {
     "name": "stdout",
     "output_type": "stream",
     "text": [
      "Z=-1772.8(42.23%) | Like=-1764.09..-1763.18 [-66277.2157..-1763.1823] | it/evals=1508/4561 eff=68.7307% N=300 \r"
     ]
    },
    {
     "name": "stderr",
     "output_type": "stream",
     "text": [
      "DEBUG:ultranest:iteration=1508, ncalls=4561, regioncalls=200600, ndraw=40, logz=-1772.77, remainder_fraction=57.7726%, Lmin=-1764.09, Lmax=-1763.18\n"
     ]
    },
    {
     "name": "stdout",
     "output_type": "stream",
     "text": [
      "Z=-1772.7(44.91%) | Like=-1764.03..-1763.18 [-66277.2157..-1763.1823] | it/evals=1530/4570 eff=69.0076% N=300 \r"
     ]
    },
    {
     "name": "stderr",
     "output_type": "stream",
     "text": [
      "DEBUG:ultranest:iteration=1530, ncalls=4570, regioncalls=200960, ndraw=40, logz=-1772.71, remainder_fraction=55.0924%, Lmin=-1764.03, Lmax=-1763.18\n"
     ]
    },
    {
     "name": "stdout",
     "output_type": "stream",
     "text": [
      "Z=-1772.6(48.33%) | Like=-1763.98..-1763.18 [-66277.2157..-1763.1823] | it/evals=1560/4580 eff=69.3233% N=300 \r"
     ]
    },
    {
     "name": "stderr",
     "output_type": "stream",
     "text": [
      "DEBUG:ultranest:iteration=1560, ncalls=4580, regioncalls=201360, ndraw=40, logz=-1772.63, remainder_fraction=51.6685%, Lmin=-1763.98, Lmax=-1763.18\n"
     ]
    },
    {
     "name": "stdout",
     "output_type": "stream",
     "text": [
      "Z=-1772.6(50.08%) | Like=-1763.94..-1763.18 [-66277.2157..-1763.1823] | it/evals=1576/4588 eff=69.5394% N=300 \r"
     ]
    },
    {
     "name": "stderr",
     "output_type": "stream",
     "text": [
      "DEBUG:ultranest:iteration=1576, ncalls=4588, regioncalls=201760, ndraw=40, logz=-1772.60, remainder_fraction=49.9236%, Lmin=-1763.94, Lmax=-1763.18\n"
     ]
    },
    {
     "name": "stdout",
     "output_type": "stream",
     "text": [
      "Z=-1772.5(53.66%) | Like=-1763.86..-1763.18 [-66277.2157..-1763.1823] | it/evals=1610/4612 eff=69.2970% N=300 \r"
     ]
    },
    {
     "name": "stderr",
     "output_type": "stream",
     "text": [
      "DEBUG:ultranest:iteration=1610, ncalls=4612, regioncalls=202880, ndraw=40, logz=-1772.53, remainder_fraction=46.3367%, Lmin=-1763.86, Lmax=-1763.18\n"
     ]
    },
    {
     "name": "stdout",
     "output_type": "stream",
     "text": [
      "Z=-1772.5(57.42%) | Like=-1763.78..-1763.18 [-66277.2157..-1763.1823] | it/evals=1646/4627 eff=69.1011% N=300 \r"
     ]
    },
    {
     "name": "stderr",
     "output_type": "stream",
     "text": [
      "DEBUG:ultranest:iteration=1646, ncalls=4627, regioncalls=203600, ndraw=40, logz=-1772.46, remainder_fraction=42.5801%, Lmin=-1763.78, Lmax=-1763.18\n"
     ]
    },
    {
     "name": "stdout",
     "output_type": "stream",
     "text": [
      "Z=-1772.5(57.84%) | Like=-1763.77..-1763.18 [-66277.2157..-1763.1823] | it/evals=1650/4628 eff=69.1445% N=300 \r"
     ]
    },
    {
     "name": "stderr",
     "output_type": "stream",
     "text": [
      "DEBUG:ultranest:iteration=1650, ncalls=4628, regioncalls=203640, ndraw=40, logz=-1772.45, remainder_fraction=42.1569%, Lmin=-1763.77, Lmax=-1763.18\n"
     ]
    },
    {
     "name": "stdout",
     "output_type": "stream",
     "text": [
      "Z=-1772.4(59.88%) | Like=-1763.72..-1763.18 [-66277.2157..-1763.1823] | it/evals=1670/4632 eff=69.3166% N=300 \r"
     ]
    },
    {
     "name": "stderr",
     "output_type": "stream",
     "text": [
      "DEBUG:ultranest:iteration=1670, ncalls=4632, regioncalls=203800, ndraw=40, logz=-1772.42, remainder_fraction=40.1235%, Lmin=-1763.72, Lmax=-1763.18\n"
     ]
    },
    {
     "name": "stdout",
     "output_type": "stream",
     "text": [
      "Z=-1772.4(63.82%) | Like=-1763.65..-1763.18 [-66277.2157..-1763.1823] | it/evals=1710/4651 eff=68.7500% N=300 \r"
     ]
    },
    {
     "name": "stderr",
     "output_type": "stream",
     "text": [
      "DEBUG:ultranest:iteration=1710, ncalls=4651, regioncalls=204560, ndraw=40, logz=-1772.36, remainder_fraction=36.1821%, Lmin=-1763.65, Lmax=-1763.18\n"
     ]
    },
    {
     "name": "stdout",
     "output_type": "stream",
     "text": [
      "Z=-1772.3(64.45%) | Like=-1763.65..-1763.18 [-66277.2157..-1763.1823] | it/evals=1717/4655 eff=68.9189% N=300 \r"
     ]
    },
    {
     "name": "stderr",
     "output_type": "stream",
     "text": [
      "DEBUG:ultranest:iteration=1717, ncalls=4655, regioncalls=204720, ndraw=40, logz=-1772.35, remainder_fraction=35.5550%, Lmin=-1763.65, Lmax=-1763.18\n"
     ]
    },
    {
     "name": "stdout",
     "output_type": "stream",
     "text": [
      "Z=-1772.3(66.52%) | Like=-1763.62..-1763.18 [-66277.2157..-1763.1823] | it/evals=1740/4666 eff=69.2410% N=300 \r"
     ]
    },
    {
     "name": "stderr",
     "output_type": "stream",
     "text": [
      "DEBUG:ultranest:iteration=1740, ncalls=4666, regioncalls=205320, ndraw=40, logz=-1772.31, remainder_fraction=33.4834%, Lmin=-1763.62, Lmax=-1763.18\n"
     ]
    },
    {
     "name": "stdout",
     "output_type": "stream",
     "text": [
      "Z=-1772.3(67.37%) | Like=-1763.60..-1763.18 [-66277.2157..-1763.1823] | it/evals=1750/4671 eff=69.3122% N=300 \r"
     ]
    },
    {
     "name": "stderr",
     "output_type": "stream",
     "text": [
      "DEBUG:ultranest:iteration=1750, ncalls=4671, regioncalls=205560, ndraw=40, logz=-1772.30, remainder_fraction=32.6318%, Lmin=-1763.60, Lmax=-1763.18\n"
     ]
    },
    {
     "name": "stdout",
     "output_type": "stream",
     "text": [
      "Z=-1772.3(69.06%) | Like=-1763.57..-1763.18 [-66277.2157..-1763.1823] | it/evals=1770/4688 eff=68.6934% N=300 \r"
     ]
    },
    {
     "name": "stderr",
     "output_type": "stream",
     "text": [
      "DEBUG:ultranest:iteration=1770, ncalls=4688, regioncalls=206400, ndraw=40, logz=-1772.28, remainder_fraction=30.9399%, Lmin=-1763.57, Lmax=-1763.18\n"
     ]
    },
    {
     "name": "stdout",
     "output_type": "stream",
     "text": [
      "Z=-1772.3(70.11%) | Like=-1763.55..-1763.18 [-66277.2157..-1763.1823] | it/evals=1783/4691 eff=68.8144% N=300 \r"
     ]
    },
    {
     "name": "stderr",
     "output_type": "stream",
     "text": [
      "DEBUG:ultranest:iteration=1783, ncalls=4691, regioncalls=206560, ndraw=40, logz=-1772.26, remainder_fraction=29.8941%, Lmin=-1763.55, Lmax=-1763.18\n"
     ]
    },
    {
     "name": "stdout",
     "output_type": "stream",
     "text": [
      "Z=-1772.3(70.70%) | Like=-1763.54..-1763.18 [-66277.2157..-1763.1823] | it/evals=1790/4694 eff=68.9345% N=300 \r"
     ]
    },
    {
     "name": "stderr",
     "output_type": "stream",
     "text": [
      "DEBUG:ultranest:iteration=1790, ncalls=4694, regioncalls=206800, ndraw=40, logz=-1772.25, remainder_fraction=29.3013%, Lmin=-1763.54, Lmax=-1763.18\n"
     ]
    },
    {
     "name": "stdout",
     "output_type": "stream",
     "text": [
      "Z=-1772.2(71.49%) | Like=-1763.52..-1763.18 [-66277.2157..-1763.1823] | it/evals=1800/4697 eff=69.0537% N=300 \r"
     ]
    },
    {
     "name": "stderr",
     "output_type": "stream",
     "text": [
      "DEBUG:ultranest:iteration=1800, ncalls=4697, regioncalls=206960, ndraw=40, logz=-1772.24, remainder_fraction=28.5134%, Lmin=-1763.52, Lmax=-1763.18\n"
     ]
    },
    {
     "name": "stdout",
     "output_type": "stream",
     "text": [
      "Z=-1772.2(73.06%) | Like=-1763.49..-1763.18 [-66277.2157..-1763.1823] | it/evals=1820/4707 eff=68.9394% N=300 \r"
     ]
    },
    {
     "name": "stderr",
     "output_type": "stream",
     "text": [
      "DEBUG:ultranest:iteration=1820, ncalls=4707, regioncalls=207480, ndraw=40, logz=-1772.22, remainder_fraction=26.9354%, Lmin=-1763.49, Lmax=-1763.18\n"
     ]
    },
    {
     "name": "stdout",
     "output_type": "stream",
     "text": [
      "Z=-1772.2(75.46%) | Like=-1763.45..-1763.18 [-66277.2157..-1763.1823] | it/evals=1852/4722 eff=69.1450% N=300 \r"
     ]
    },
    {
     "name": "stderr",
     "output_type": "stream",
     "text": [
      "DEBUG:ultranest:iteration=1852, ncalls=4722, regioncalls=208680, ndraw=40, logz=-1772.19, remainder_fraction=24.5373%, Lmin=-1763.45, Lmax=-1763.18\n"
     ]
    },
    {
     "name": "stdout",
     "output_type": "stream",
     "text": [
      "Z=-1772.2(76.68%) | Like=-1763.44..-1763.18 [-66277.2157..-1763.1823] | it/evals=1870/4730 eff=69.0798% N=300 \r"
     ]
    },
    {
     "name": "stderr",
     "output_type": "stream",
     "text": [
      "DEBUG:ultranest:iteration=1870, ncalls=4730, regioncalls=209040, ndraw=40, logz=-1772.17, remainder_fraction=23.3197%, Lmin=-1763.44, Lmax=-1763.18\n"
     ]
    },
    {
     "name": "stdout",
     "output_type": "stream",
     "text": [
      "Z=-1772.1(79.83%) | Like=-1763.40..-1763.18 [-66277.2157..-1763.1823] | it/evals=1919/4746 eff=69.0734% N=300 \r"
     ]
    },
    {
     "name": "stderr",
     "output_type": "stream",
     "text": [
      "DEBUG:ultranest:iteration=1919, ncalls=4746, regioncalls=209800, ndraw=40, logz=-1772.13, remainder_fraction=20.1702%, Lmin=-1763.40, Lmax=-1763.18\n"
     ]
    },
    {
     "name": "stdout",
     "output_type": "stream",
     "text": [
      "Z=-1772.1(79.89%) | Like=-1763.40..-1763.18 [-66277.2157..-1763.1823] | it/evals=1920/4747 eff=69.1106% N=300 \r"
     ]
    },
    {
     "name": "stderr",
     "output_type": "stream",
     "text": [
      "DEBUG:ultranest:iteration=1920, ncalls=4747, regioncalls=209880, ndraw=40, logz=-1772.13, remainder_fraction=20.1085%, Lmin=-1763.40, Lmax=-1763.18\n"
     ]
    },
    {
     "name": "stdout",
     "output_type": "stream",
     "text": [
      "Z=-1772.1(82.69%) | Like=-1763.37..-1763.18 [-66277.2157..-1763.1823] | it/evals=1970/4761 eff=69.5035% N=300 \r"
     ]
    },
    {
     "name": "stderr",
     "output_type": "stream",
     "text": [
      "DEBUG:ultranest:iteration=1970, ncalls=4761, regioncalls=210440, ndraw=40, logz=-1772.10, remainder_fraction=17.3083%, Lmin=-1763.37, Lmax=-1763.18\n"
     ]
    },
    {
     "name": "stdout",
     "output_type": "stream",
     "text": [
      "Z=-1772.1(83.52%) | Like=-1763.36..-1763.18 [-66277.2157..-1763.1823] | it/evals=1986/4766 eff=69.5652% N=300 \r"
     ]
    },
    {
     "name": "stderr",
     "output_type": "stream",
     "text": [
      "DEBUG:ultranest:iteration=1986, ncalls=4766, regioncalls=210680, ndraw=40, logz=-1772.09, remainder_fraction=16.4811%, Lmin=-1763.36, Lmax=-1763.18\n"
     ]
    },
    {
     "name": "stdout",
     "output_type": "stream",
     "text": [
      "Z=-1772.1(83.72%) | Like=-1763.36..-1763.18 [-66277.2157..-1763.1823] | it/evals=1990/4769 eff=69.6721% N=300 \r"
     ]
    },
    {
     "name": "stderr",
     "output_type": "stream",
     "text": [
      "DEBUG:ultranest:iteration=1990, ncalls=4769, regioncalls=210800, ndraw=40, logz=-1772.08, remainder_fraction=16.2795%, Lmin=-1763.36, Lmax=-1763.18\n"
     ]
    },
    {
     "name": "stdout",
     "output_type": "stream",
     "text": [
      "Z=-1772.1(85.15%) | Like=-1763.34..-1763.18 [-66277.2157..-1763.1823] | it/evals=2020/4789 eff=69.5652% N=300 \r"
     ]
    },
    {
     "name": "stderr",
     "output_type": "stream",
     "text": [
      "DEBUG:ultranest:iteration=2020, ncalls=4789, regioncalls=211600, ndraw=40, logz=-1772.07, remainder_fraction=14.8457%, Lmin=-1763.34, Lmax=-1763.18\n"
     ]
    },
    {
     "name": "stdout",
     "output_type": "stream",
     "text": [
      "Z=-1772.1(85.61%) | Like=-1763.34..-1763.18 [-66277.2157..-1763.1823] | it/evals=2030/4790 eff=69.6000% N=300 \r"
     ]
    },
    {
     "name": "stderr",
     "output_type": "stream",
     "text": [
      "DEBUG:ultranest:iteration=2030, ncalls=4790, regioncalls=211640, ndraw=40, logz=-1772.06, remainder_fraction=14.3917%, Lmin=-1763.34, Lmax=-1763.18\n"
     ]
    },
    {
     "name": "stdout",
     "output_type": "stream",
     "text": [
      "Z=-1772.1(86.05%) | Like=-1763.33..-1763.18 [-66277.2157..-1763.1823] | it/evals=2040/4795 eff=69.5455% N=300 \r"
     ]
    },
    {
     "name": "stderr",
     "output_type": "stream",
     "text": [
      "DEBUG:ultranest:iteration=2040, ncalls=4795, regioncalls=211840, ndraw=40, logz=-1772.06, remainder_fraction=13.9546%, Lmin=-1763.33, Lmax=-1763.18\n"
     ]
    },
    {
     "name": "stdout",
     "output_type": "stream",
     "text": [
      "Z=-1772.1(86.60%) | Like=-1763.33..-1763.18 [-66277.2157..-1763.1823] | it/evals=2053/4807 eff=69.2825% N=300 \r"
     ]
    },
    {
     "name": "stderr",
     "output_type": "stream",
     "text": [
      "DEBUG:ultranest:iteration=2053, ncalls=4807, regioncalls=212400, ndraw=40, logz=-1772.05, remainder_fraction=13.4034%, Lmin=-1763.33, Lmax=-1763.18\n"
     ]
    },
    {
     "name": "stdout",
     "output_type": "stream",
     "text": [
      "Z=-1772.0(86.89%) | Like=-1763.32..-1763.18 [-66277.2157..-1763.1823] | it/evals=2060/4809 eff=69.3512% N=300 \r"
     ]
    },
    {
     "name": "stderr",
     "output_type": "stream",
     "text": [
      "DEBUG:ultranest:iteration=2060, ncalls=4809, regioncalls=212480, ndraw=40, logz=-1772.05, remainder_fraction=13.1146%, Lmin=-1763.32, Lmax=-1763.18\n"
     ]
    },
    {
     "name": "stdout",
     "output_type": "stream",
     "text": [
      "Z=-1772.0(87.68%) | Like=-1763.31..-1763.18 [-66277.2157..-1763.1823] | it/evals=2080/4817 eff=69.5122% N=300 \r"
     ]
    },
    {
     "name": "stderr",
     "output_type": "stream",
     "text": [
      "DEBUG:ultranest:iteration=2080, ncalls=4817, regioncalls=212800, ndraw=40, logz=-1772.04, remainder_fraction=12.3223%, Lmin=-1763.31, Lmax=-1763.18\n"
     ]
    },
    {
     "name": "stdout",
     "output_type": "stream",
     "text": [
      "Z=-1772.0(88.78%) | Like=-1763.30..-1763.18 [-66277.2157..-1763.1823] | it/evals=2110/4824 eff=69.5270% N=300 \r"
     ]
    },
    {
     "name": "stderr",
     "output_type": "stream",
     "text": [
      "DEBUG:ultranest:iteration=2110, ncalls=4824, regioncalls=213080, ndraw=40, logz=-1772.03, remainder_fraction=11.2179%, Lmin=-1763.30, Lmax=-1763.18\n"
     ]
    },
    {
     "name": "stdout",
     "output_type": "stream",
     "text": [
      "Z=-1772.0(89.12%) | Like=-1763.30..-1763.18 [-66277.2157..-1763.1823] | it/evals=2120/4826 eff=69.4841% N=300 \r"
     ]
    },
    {
     "name": "stderr",
     "output_type": "stream",
     "text": [
      "DEBUG:ultranest:iteration=2120, ncalls=4826, regioncalls=213200, ndraw=40, logz=-1772.02, remainder_fraction=10.8767%, Lmin=-1763.30, Lmax=-1763.18\n"
     ]
    },
    {
     "name": "stdout",
     "output_type": "stream",
     "text": [
      "Z=-1772.0(90.72%) | Like=-1763.28..-1763.18 [-66277.2157..-1763.1823] | it/evals=2170/4846 eff=69.8174% N=300 \r"
     ]
    },
    {
     "name": "stderr",
     "output_type": "stream",
     "text": [
      "DEBUG:ultranest:iteration=2170, ncalls=4846, regioncalls=214600, ndraw=40, logz=-1772.00, remainder_fraction=9.2844%, Lmin=-1763.28, Lmax=-1763.18\n"
     ]
    },
    {
     "name": "stdout",
     "output_type": "stream",
     "text": [
      "Z=-1772.0(91.21%) | Like=-1763.28..-1763.18 [-66277.2157..-1763.1823] | it/evals=2187/4854 eff=69.7551% N=300 \r"
     ]
    },
    {
     "name": "stderr",
     "output_type": "stream",
     "text": [
      "DEBUG:ultranest:iteration=2187, ncalls=4854, regioncalls=215040, ndraw=40, logz=-1772.00, remainder_fraction=8.7939%, Lmin=-1763.28, Lmax=-1763.18\n"
     ]
    },
    {
     "name": "stdout",
     "output_type": "stream",
     "text": [
      "Z=-1772.0(91.82%) | Like=-1763.27..-1763.18 [-66277.2157..-1763.1823] | it/evals=2210/4857 eff=69.8514% N=300 \r"
     ]
    },
    {
     "name": "stderr",
     "output_type": "stream",
     "text": [
      "DEBUG:ultranest:iteration=2210, ncalls=4857, regioncalls=215160, ndraw=40, logz=-1771.99, remainder_fraction=8.1766%, Lmin=-1763.27, Lmax=-1763.18\n"
     ]
    },
    {
     "name": "stdout",
     "output_type": "stream",
     "text": [
      "Z=-1772.0(92.33%) | Like=-1763.26..-1763.18 [-66277.2157..-1763.1823] | it/evals=2230/4868 eff=69.8846% N=300 \r"
     ]
    },
    {
     "name": "stderr",
     "output_type": "stream",
     "text": [
      "DEBUG:ultranest:iteration=2230, ncalls=4868, regioncalls=215600, ndraw=40, logz=-1771.99, remainder_fraction=7.6712%, Lmin=-1763.26, Lmax=-1763.18\n"
     ]
    },
    {
     "name": "stdout",
     "output_type": "stream",
     "text": [
      "Z=-1772.0(92.57%) | Like=-1763.26..-1763.18 [-66277.2157..-1763.1823] | it/evals=2240/4873 eff=70.0418% N=300 \r"
     ]
    },
    {
     "name": "stderr",
     "output_type": "stream",
     "text": [
      "DEBUG:ultranest:iteration=2240, ncalls=4873, regioncalls=215800, ndraw=40, logz=-1771.98, remainder_fraction=7.4287%, Lmin=-1763.26, Lmax=-1763.18\n"
     ]
    },
    {
     "name": "stdout",
     "output_type": "stream",
     "text": [
      "Z=-1772.0(92.97%) | Like=-1763.26..-1763.18 [-66277.2157..-1763.1823] | it/evals=2257/4885 eff=69.7938% N=300 \r"
     ]
    },
    {
     "name": "stderr",
     "output_type": "stream",
     "text": [
      "DEBUG:ultranest:iteration=2257, ncalls=4885, regioncalls=216320, ndraw=40, logz=-1771.98, remainder_fraction=7.0331%, Lmin=-1763.26, Lmax=-1763.18\n"
     ]
    },
    {
     "name": "stdout",
     "output_type": "stream",
     "text": [
      "Z=-1772.0(93.03%) | Like=-1763.25..-1763.18 [-66277.2157..-1763.1823] | it/evals=2260/4887 eff=69.8560% N=300 \r"
     ]
    },
    {
     "name": "stderr",
     "output_type": "stream",
     "text": [
      "DEBUG:ultranest:iteration=2260, ncalls=4887, regioncalls=216400, ndraw=40, logz=-1771.98, remainder_fraction=6.9663%, Lmin=-1763.25, Lmax=-1763.18\n"
     ]
    },
    {
     "name": "stdout",
     "output_type": "stream",
     "text": [
      "Z=-1772.0(93.88%) | Like=-1763.25..-1763.18 [-66277.2157..-1763.1823] | it/evals=2300/4902 eff=70.1114% N=300 \r"
     ]
    },
    {
     "name": "stderr",
     "output_type": "stream",
     "text": [
      "DEBUG:ultranest:iteration=2300, ncalls=4902, regioncalls=217000, ndraw=40, logz=-1771.97, remainder_fraction=6.1248%, Lmin=-1763.25, Lmax=-1763.18\n"
     ]
    },
    {
     "name": "stdout",
     "output_type": "stream",
     "text": [
      "Z=-1772.0(94.37%) | Like=-1763.24..-1763.18 [-66277.2157..-1763.1823] | it/evals=2326/4914 eff=70.1702% N=300 \r"
     ]
    },
    {
     "name": "stderr",
     "output_type": "stream",
     "text": [
      "DEBUG:ultranest:iteration=2326, ncalls=4914, regioncalls=217520, ndraw=40, logz=-1771.96, remainder_fraction=5.6310%, Lmin=-1763.24, Lmax=-1763.18\n"
     ]
    },
    {
     "name": "stdout",
     "output_type": "stream",
     "text": [
      "Z=-1772.0(95.28%) | Like=-1763.23..-1763.18 [-66277.2157..-1763.1823] | it/evals=2380/4939 eff=70.4102% N=300 \r"
     ]
    },
    {
     "name": "stderr",
     "output_type": "stream",
     "text": [
      "DEBUG:ultranest:iteration=2380, ncalls=4939, regioncalls=218520, ndraw=40, logz=-1771.96, remainder_fraction=4.7247%, Lmin=-1763.23, Lmax=-1763.18\n"
     ]
    },
    {
     "name": "stdout",
     "output_type": "stream",
     "text": [
      "Z=-1772.0(95.43%) | Like=-1763.23..-1763.18 [-66277.2157..-1763.1823] | it/evals=2390/4945 eff=70.2913% N=300 \r"
     ]
    },
    {
     "name": "stderr",
     "output_type": "stream",
     "text": [
      "DEBUG:ultranest:iteration=2390, ncalls=4945, regioncalls=218800, ndraw=40, logz=-1771.95, remainder_fraction=4.5726%, Lmin=-1763.23, Lmax=-1763.18\n"
     ]
    },
    {
     "name": "stdout",
     "output_type": "stream",
     "text": [
      "Z=-1772.0(95.57%) | Like=-1763.23..-1763.18 [-66277.2157..-1763.1823] | it/evals=2400/4948 eff=70.3775% N=300 \r"
     ]
    },
    {
     "name": "stderr",
     "output_type": "stream",
     "text": [
      "DEBUG:ultranest:iteration=2400, ncalls=4948, regioncalls=218920, ndraw=40, logz=-1771.95, remainder_fraction=4.4258%, Lmin=-1763.23, Lmax=-1763.18\n"
     ]
    },
    {
     "name": "stdout",
     "output_type": "stream",
     "text": [
      "Z=-1771.9(95.85%) | Like=-1763.22..-1763.18 [-66277.2157..-1763.1823] | it/evals=2420/4957 eff=70.6334% N=300 \r"
     ]
    },
    {
     "name": "stderr",
     "output_type": "stream",
     "text": [
      "DEBUG:ultranest:iteration=2420, ncalls=4957, regioncalls=219400, ndraw=40, logz=-1771.95, remainder_fraction=4.1459%, Lmin=-1763.22, Lmax=-1763.18\n"
     ]
    },
    {
     "name": "stdout",
     "output_type": "stream",
     "text": [
      "Z=-1771.9(96.12%) | Like=-1763.22..-1763.18 [-66277.2157..-1763.1823] | it/evals=2440/4968 eff=70.7502% N=300 \r"
     ]
    },
    {
     "name": "stderr",
     "output_type": "stream",
     "text": [
      "DEBUG:ultranest:iteration=2440, ncalls=4968, regioncalls=220000, ndraw=40, logz=-1771.95, remainder_fraction=3.8833%, Lmin=-1763.22, Lmax=-1763.18\n"
     ]
    },
    {
     "name": "stdout",
     "output_type": "stream",
     "text": [
      "Z=-1771.9(96.46%) | Like=-1763.22..-1763.18 [-66277.2157..-1763.1823] | it/evals=2468/4983 eff=70.9738% N=300 \r"
     ]
    },
    {
     "name": "stderr",
     "output_type": "stream",
     "text": [
      "DEBUG:ultranest:iteration=2468, ncalls=4983, regioncalls=220720, ndraw=40, logz=-1771.94, remainder_fraction=3.5433%, Lmin=-1763.22, Lmax=-1763.18\n"
     ]
    },
    {
     "name": "stdout",
     "output_type": "stream",
     "text": [
      "Z=-1771.9(96.48%) | Like=-1763.22..-1763.18 [-66277.2157..-1763.1823] | it/evals=2470/4985 eff=71.0280% N=300 \r"
     ]
    },
    {
     "name": "stderr",
     "output_type": "stream",
     "text": [
      "DEBUG:ultranest:iteration=2470, ncalls=4985, regioncalls=220800, ndraw=40, logz=-1771.94, remainder_fraction=3.5198%, Lmin=-1763.22, Lmax=-1763.18\n"
     ]
    },
    {
     "name": "stdout",
     "output_type": "stream",
     "text": [
      "Z=-1771.9(96.59%) | Like=-1763.22..-1763.18 [-66277.2157..-1763.1823] | it/evals=2480/4987 eff=71.0821% N=300 \r"
     ]
    },
    {
     "name": "stderr",
     "output_type": "stream",
     "text": [
      "DEBUG:ultranest:iteration=2480, ncalls=4987, regioncalls=220880, ndraw=40, logz=-1771.94, remainder_fraction=3.4067%, Lmin=-1763.22, Lmax=-1763.18\n"
     ]
    },
    {
     "name": "stdout",
     "output_type": "stream",
     "text": [
      "Z=-1771.9(96.70%) | Like=-1763.22..-1763.18 [-66277.2157..-1763.1823] | it/evals=2490/4991 eff=71.1896% N=300 \r"
     ]
    },
    {
     "name": "stderr",
     "output_type": "stream",
     "text": [
      "DEBUG:ultranest:iteration=2490, ncalls=4991, regioncalls=221040, ndraw=40, logz=-1771.94, remainder_fraction=3.2972%, Lmin=-1763.22, Lmax=-1763.18\n"
     ]
    },
    {
     "name": "stdout",
     "output_type": "stream",
     "text": [
      "Z=-1771.9(97.01%) | Like=-1763.21..-1763.18 [-66277.2157..-1763.1823] | it/evals=2520/5000 eff=71.2442% N=300 \r"
     ]
    },
    {
     "name": "stderr",
     "output_type": "stream",
     "text": [
      "DEBUG:ultranest:iteration=2520, ncalls=5000, regioncalls=221400, ndraw=40, logz=-1771.94, remainder_fraction=2.9885%, Lmin=-1763.21, Lmax=-1763.18\n"
     ]
    },
    {
     "name": "stdout",
     "output_type": "stream",
     "text": [
      "Z=-1771.9(97.22%) | Like=-1763.21..-1763.18 [-66277.2157..-1763.1823] | it/evals=2542/5006 eff=71.4024% N=300 \r"
     ]
    },
    {
     "name": "stderr",
     "output_type": "stream",
     "text": [
      "DEBUG:ultranest:iteration=2542, ncalls=5006, regioncalls=221680, ndraw=40, logz=-1771.94, remainder_fraction=2.7804%, Lmin=-1763.21, Lmax=-1763.18\n"
     ]
    },
    {
     "name": "stdout",
     "output_type": "stream",
     "text": [
      "Z=-1771.9(97.46%) | Like=-1763.21..-1763.18 [-66277.2157..-1763.1823] | it/evals=2570/5023 eff=71.3899% N=300 \r"
     ]
    },
    {
     "name": "stderr",
     "output_type": "stream",
     "text": [
      "DEBUG:ultranest:iteration=2570, ncalls=5023, regioncalls=222360, ndraw=40, logz=-1771.93, remainder_fraction=2.5360%, Lmin=-1763.21, Lmax=-1763.18\n"
     ]
    },
    {
     "name": "stdout",
     "output_type": "stream",
     "text": [
      "Z=-1771.9(97.70%) | Like=-1763.21..-1763.18 [-66277.2157..-1763.1823] | it/evals=2600/5028 eff=71.4286% N=300 \r"
     ]
    },
    {
     "name": "stderr",
     "output_type": "stream",
     "text": [
      "DEBUG:ultranest:iteration=2600, ncalls=5028, regioncalls=222600, ndraw=40, logz=-1771.93, remainder_fraction=2.2971%, Lmin=-1763.21, Lmax=-1763.18\n"
     ]
    },
    {
     "name": "stdout",
     "output_type": "stream",
     "text": [
      "Z=-1771.9(97.82%) | Like=-1763.20..-1763.18 [-66277.2157..-1763.1823] | it/evals=2616/5035 eff=71.2500% N=300 \r"
     ]
    },
    {
     "name": "stderr",
     "output_type": "stream",
     "text": [
      "DEBUG:ultranest:iteration=2616, ncalls=5035, regioncalls=222880, ndraw=40, logz=-1771.93, remainder_fraction=2.1791%, Lmin=-1763.20, Lmax=-1763.18\n"
     ]
    },
    {
     "name": "stdout",
     "output_type": "stream",
     "text": [
      "Z=-1771.9(97.85%) | Like=-1763.20..-1763.18 [-66277.2157..-1763.1823] | it/evals=2620/5038 eff=71.1487% N=300 \r"
     ]
    },
    {
     "name": "stderr",
     "output_type": "stream",
     "text": [
      "DEBUG:ultranest:iteration=2620, ncalls=5038, regioncalls=223080, ndraw=40, logz=-1771.93, remainder_fraction=2.1505%, Lmin=-1763.20, Lmax=-1763.18\n"
     ]
    },
    {
     "name": "stdout",
     "output_type": "stream",
     "text": [
      "Z=-1771.9(97.99%) | Like=-1763.20..-1763.18 [-66277.2157..-1763.1823] | it/evals=2640/5045 eff=71.2389% N=300 \r"
     ]
    },
    {
     "name": "stderr",
     "output_type": "stream",
     "text": [
      "DEBUG:ultranest:iteration=2640, ncalls=5045, regioncalls=223400, ndraw=40, logz=-1771.93, remainder_fraction=2.0132%, Lmin=-1763.20, Lmax=-1763.18\n"
     ]
    },
    {
     "name": "stdout",
     "output_type": "stream",
     "text": [
      "Z=-1771.9(98.18%) | Like=-1763.20..-1763.18 [-66277.2157..-1763.1823] | it/evals=2670/5065 eff=71.2174% N=300 \r"
     ]
    },
    {
     "name": "stderr",
     "output_type": "stream",
     "text": [
      "DEBUG:ultranest:iteration=2670, ncalls=5065, regioncalls=224320, ndraw=40, logz=-1771.93, remainder_fraction=1.8233%, Lmin=-1763.20, Lmax=-1763.18\n"
     ]
    },
    {
     "name": "stdout",
     "output_type": "stream",
     "text": [
      "Z=-1771.9(98.27%) | Like=-1763.20..-1763.18 [-66277.2157..-1763.1823] | it/evals=2686/5073 eff=71.0708% N=300 \r"
     ]
    },
    {
     "name": "stderr",
     "output_type": "stream",
     "text": [
      "DEBUG:ultranest:iteration=2686, ncalls=5073, regioncalls=225000, ndraw=40, logz=-1771.92, remainder_fraction=1.7297%, Lmin=-1763.20, Lmax=-1763.18\n"
     ]
    },
    {
     "name": "stdout",
     "output_type": "stream",
     "text": [
      "Z=-1771.9(98.29%) | Like=-1763.20..-1763.18 [-66277.2157..-1763.1823] | it/evals=2690/5077 eff=71.0843% N=300 \r"
     ]
    },
    {
     "name": "stderr",
     "output_type": "stream",
     "text": [
      "DEBUG:ultranest:iteration=2690, ncalls=5077, regioncalls=225160, ndraw=40, logz=-1771.92, remainder_fraction=1.7070%, Lmin=-1763.20, Lmax=-1763.18\n"
     ]
    },
    {
     "name": "stdout",
     "output_type": "stream",
     "text": [
      "Z=-1771.9(98.35%) | Like=-1763.20..-1763.18 [-66277.2157..-1763.1823] | it/evals=2700/5078 eff=71.1092% N=300 \r"
     ]
    },
    {
     "name": "stderr",
     "output_type": "stream",
     "text": [
      "DEBUG:ultranest:iteration=2700, ncalls=5078, regioncalls=225200, ndraw=40, logz=-1771.92, remainder_fraction=1.6515%, Lmin=-1763.20, Lmax=-1763.18\n"
     ]
    },
    {
     "name": "stdout",
     "output_type": "stream",
     "text": [
      "Z=-1771.9(98.62%) | Like=-1763.20..-1763.18 [-66277.2157..-1763.1823] | it/evals=2755/5098 eff=71.2595% N=300 \r"
     ]
    },
    {
     "name": "stderr",
     "output_type": "stream",
     "text": [
      "DEBUG:ultranest:iteration=2755, ncalls=5098, regioncalls=226080, ndraw=40, logz=-1771.92, remainder_fraction=1.3770%, Lmin=-1763.20, Lmax=-1763.18\n"
     ]
    },
    {
     "name": "stdout",
     "output_type": "stream",
     "text": [
      "Z=-1771.9(98.65%) | Like=-1763.20..-1763.18 [-66277.2157..-1763.1823] | it/evals=2760/5099 eff=71.2838% N=300 \r"
     ]
    },
    {
     "name": "stderr",
     "output_type": "stream",
     "text": [
      "DEBUG:ultranest:iteration=2760, ncalls=5099, regioncalls=226120, ndraw=40, logz=-1771.92, remainder_fraction=1.3543%, Lmin=-1763.20, Lmax=-1763.18\n"
     ]
    },
    {
     "name": "stdout",
     "output_type": "stream",
     "text": [
      "Z=-1771.9(98.77%) | Like=-1763.19..-1763.18 [-66277.2157..-1763.1823] | it/evals=2790/5117 eff=71.0483% N=300 \r"
     ]
    },
    {
     "name": "stderr",
     "output_type": "stream",
     "text": [
      "DEBUG:ultranest:iteration=2790, ncalls=5117, regioncalls=226880, ndraw=40, logz=-1771.92, remainder_fraction=1.2263%, Lmin=-1763.19, Lmax=-1763.18\n"
     ]
    },
    {
     "name": "stdout",
     "output_type": "stream",
     "text": [
      "Z=-1771.9(98.81%) | Like=-1763.19..-1763.18 [-66277.2157..-1763.1823] | it/evals=2800/5125 eff=70.8264% N=300 \r"
     ]
    },
    {
     "name": "stderr",
     "output_type": "stream",
     "text": [
      "DEBUG:ultranest:iteration=2800, ncalls=5125, regioncalls=227200, ndraw=40, logz=-1771.92, remainder_fraction=1.1864%, Lmin=-1763.19, Lmax=-1763.18\n"
     ]
    },
    {
     "name": "stdout",
     "output_type": "stream",
     "text": [
      "Z=-1771.9(98.89%) | Like=-1763.19..-1763.18 [-66277.2157..-1763.1823] | it/evals=2820/5136 eff=70.6798% N=300 \r"
     ]
    },
    {
     "name": "stderr",
     "output_type": "stream",
     "text": [
      "DEBUG:ultranest:iteration=2820, ncalls=5136, regioncalls=227680, ndraw=40, logz=-1771.92, remainder_fraction=1.1103%, Lmin=-1763.19, Lmax=-1763.18\n"
     ]
    },
    {
     "name": "stdout",
     "output_type": "stream",
     "text": [
      "Z=-1771.9(98.90%) | Like=-1763.19..-1763.18 [-66277.2157..-1763.1823] | it/evals=2824/5137 eff=70.7038% N=300 \r"
     ]
    },
    {
     "name": "stderr",
     "output_type": "stream",
     "text": [
      "DEBUG:ultranest:iteration=2824, ncalls=5137, regioncalls=227760, ndraw=40, logz=-1771.92, remainder_fraction=1.0958%, Lmin=-1763.19, Lmax=-1763.18\n"
     ]
    },
    {
     "name": "stdout",
     "output_type": "stream",
     "text": [
      "Z=-1771.9(98.96%) | Like=-1763.19..-1763.18 [-66277.2157..-1763.1823] | it/evals=2840/5143 eff=70.6840% N=300 \r"
     ]
    },
    {
     "name": "stderr",
     "output_type": "stream",
     "text": [
      "DEBUG:ultranest:iteration=2840, ncalls=5143, regioncalls=228080, ndraw=40, logz=-1771.92, remainder_fraction=1.0392%, Lmin=-1763.19, Lmax=-1763.18\n"
     ]
    },
    {
     "name": "stdout",
     "output_type": "stream",
     "text": [
      "Z=-1771.9(98.99%) | Like=-1763.19..-1763.18 [-66277.2157..-1763.1823] | it/evals=2850/5150 eff=70.6073% N=300 \r"
     ]
    },
    {
     "name": "stderr",
     "output_type": "stream",
     "text": [
      "DEBUG:ultranest:iteration=2850, ncalls=5150, regioncalls=228360, ndraw=40, logz=-1771.92, remainder_fraction=1.0053%, Lmin=-1763.19, Lmax=-1763.18\n"
     ]
    },
    {
     "name": "stdout",
     "output_type": "stream",
     "text": [
      "Z=-1771.9(99.12%) | Like=-1763.19..-1763.18 [-66277.2157..-1763.1823] | it/evals=2890/5174 eff=70.4527% N=300 \r"
     ]
    },
    {
     "name": "stderr",
     "output_type": "stream",
     "text": [
      "DEBUG:ultranest:iteration=2890, ncalls=5174, regioncalls=229480, ndraw=40, logz=-1771.92, remainder_fraction=0.8804%, Lmin=-1763.19, Lmax=-1763.18\n"
     ]
    },
    {
     "name": "stdout",
     "output_type": "stream",
     "text": [
      "Z=-1771.9(99.12%) | Like=-1763.19..-1763.18 [-66277.2157..-1763.1823] | it/evals=2891/5175 eff=70.4762% N=300 \r"
     ]
    },
    {
     "name": "stderr",
     "output_type": "stream",
     "text": [
      "DEBUG:ultranest:iteration=2891, ncalls=5175, regioncalls=229560, ndraw=40, logz=-1771.92, remainder_fraction=0.8775%, Lmin=-1763.19, Lmax=-1763.18\n"
     ]
    },
    {
     "name": "stdout",
     "output_type": "stream",
     "text": [
      "Z=-1771.9(99.20%) | Like=-1763.19..-1763.18 [-66277.2157..-1763.1823] | it/evals=2920/5193 eff=70.4225% N=300 \r"
     ]
    },
    {
     "name": "stderr",
     "output_type": "stream",
     "text": [
      "DEBUG:ultranest:iteration=2920, ncalls=5193, regioncalls=230320, ndraw=40, logz=-1771.91, remainder_fraction=0.7969%, Lmin=-1763.19, Lmax=-1763.18\n"
     ]
    },
    {
     "name": "stdout",
     "output_type": "stream",
     "text": [
      "Z=-1771.9(99.30%) | Like=-1763.19..-1763.18 [-66277.2157..-1763.1823] | it/evals=2958/5203 eff=70.6522% N=300 \r"
     ]
    },
    {
     "name": "stderr",
     "output_type": "stream",
     "text": [
      "DEBUG:ultranest:iteration=2958, ncalls=5203, regioncalls=230800, ndraw=40, logz=-1771.91, remainder_fraction=0.7025%, Lmin=-1763.19, Lmax=-1763.18\n"
     ]
    },
    {
     "name": "stdout",
     "output_type": "stream",
     "text": [
      "Z=-1771.9(99.32%) | Like=-1763.19..-1763.18 [-66277.2157..-1763.1823] | it/evals=2970/5210 eff=70.7336% N=300 \r"
     ]
    },
    {
     "name": "stderr",
     "output_type": "stream",
     "text": [
      "DEBUG:ultranest:iteration=2970, ncalls=5210, regioncalls=231080, ndraw=40, logz=-1771.91, remainder_fraction=0.6751%, Lmin=-1763.19, Lmax=-1763.18\n"
     ]
    },
    {
     "name": "stdout",
     "output_type": "stream",
     "text": [
      "Z=-1771.9(99.37%) | Like=-1763.19..-1763.18 [-66277.2157..-1763.1823] | it/evals=2990/5219 eff=70.7055% N=300 \r"
     ]
    },
    {
     "name": "stderr",
     "output_type": "stream",
     "text": [
      "DEBUG:ultranest:iteration=2990, ncalls=5219, regioncalls=231440, ndraw=40, logz=-1771.91, remainder_fraction=0.6317%, Lmin=-1763.19, Lmax=-1763.18\n"
     ]
    },
    {
     "name": "stdout",
     "output_type": "stream",
     "text": [
      "Z=-1771.9(99.41%) | Like=-1763.19..-1763.18 [-66277.2157..-1763.1823] | it/evals=3010/5228 eff=70.6778% N=300 \r"
     ]
    },
    {
     "name": "stderr",
     "output_type": "stream",
     "text": [
      "DEBUG:ultranest:iteration=3010, ncalls=5228, regioncalls=231800, ndraw=40, logz=-1771.91, remainder_fraction=0.5910%, Lmin=-1763.19, Lmax=-1763.18\n"
     ]
    },
    {
     "name": "stdout",
     "output_type": "stream",
     "text": [
      "Z=-1771.9(99.43%) | Like=-1763.19..-1763.18 [-66277.2157..-1763.1823] | it/evals=3020/5234 eff=70.7354% N=300 \r"
     ]
    },
    {
     "name": "stderr",
     "output_type": "stream",
     "text": [
      "DEBUG:ultranest:iteration=3020, ncalls=5234, regioncalls=232040, ndraw=40, logz=-1771.91, remainder_fraction=0.5717%, Lmin=-1763.19, Lmax=-1763.18\n"
     ]
    },
    {
     "name": "stdout",
     "output_type": "stream",
     "text": [
      "Z=-1771.9(99.44%) | Like=-1763.19..-1763.18 [-66277.2157..-1763.1823] | it/evals=3027/5237 eff=70.8018% N=300 \r"
     ]
    },
    {
     "name": "stderr",
     "output_type": "stream",
     "text": [
      "DEBUG:ultranest:iteration=3027, ncalls=5237, regioncalls=232240, ndraw=40, logz=-1771.91, remainder_fraction=0.5585%, Lmin=-1763.19, Lmax=-1763.18\n"
     ]
    },
    {
     "name": "stdout",
     "output_type": "stream",
     "text": [
      "Z=-1771.9(99.55%) | Like=-1763.19..-1763.18 [-66277.2157..-1763.1823] | it/evals=3094/5265 eff=71.1111% N=300 \r"
     ]
    },
    {
     "name": "stderr",
     "output_type": "stream",
     "text": [
      "DEBUG:ultranest:iteration=3094, ncalls=5265, regioncalls=233480, ndraw=40, logz=-1771.91, remainder_fraction=0.4470%, Lmin=-1763.19, Lmax=-1763.18\n"
     ]
    },
    {
     "name": "stdout",
     "output_type": "stream",
     "text": [
      "Z=-1771.9(99.56%) | Like=-1763.19..-1763.18 [-66277.2157..-1763.1823] | it/evals=3100/5269 eff=71.1965% N=300 \r"
     ]
    },
    {
     "name": "stderr",
     "output_type": "stream",
     "text": [
      "DEBUG:ultranest:iteration=3100, ncalls=5269, regioncalls=233640, ndraw=40, logz=-1771.91, remainder_fraction=0.4382%, Lmin=-1763.19, Lmax=-1763.18\n"
     ]
    },
    {
     "name": "stdout",
     "output_type": "stream",
     "text": [
      "Z=-1771.9(99.58%) | Like=-1763.19..-1763.18 [-66277.2157..-1763.1823] | it/evals=3110/5271 eff=71.2389% N=300 \r"
     ]
    },
    {
     "name": "stderr",
     "output_type": "stream",
     "text": [
      "DEBUG:ultranest:iteration=3110, ncalls=5271, regioncalls=233720, ndraw=40, logz=-1771.91, remainder_fraction=0.4238%, Lmin=-1763.19, Lmax=-1763.18\n"
     ]
    },
    {
     "name": "stdout",
     "output_type": "stream",
     "text": [
      "Z=-1771.9(99.65%) | Like=-1763.18..-1763.18 [-66277.2157..-1763.1823] | it/evals=3165/5291 eff=71.2936% N=300 \r"
     ]
    },
    {
     "name": "stderr",
     "output_type": "stream",
     "text": [
      "DEBUG:ultranest:iteration=3165, ncalls=5291, regioncalls=234520, ndraw=40, logz=-1771.91, remainder_fraction=0.3530%, Lmin=-1763.18, Lmax=-1763.18\n"
     ]
    },
    {
     "name": "stdout",
     "output_type": "stream",
     "text": [
      "Z=-1771.9(99.68%) | Like=-1763.18..-1763.18 [-66277.2157..-1763.1823] | it/evals=3190/5305 eff=71.2230% N=300 \r"
     ]
    },
    {
     "name": "stderr",
     "output_type": "stream",
     "text": [
      "DEBUG:ultranest:iteration=3190, ncalls=5305, regioncalls=235280, ndraw=40, logz=-1771.91, remainder_fraction=0.3248%, Lmin=-1763.18, Lmax=-1763.18\n"
     ]
    },
    {
     "name": "stdout",
     "output_type": "stream",
     "text": [
      "Z=-1771.9(99.70%) | Like=-1763.18..-1763.18 [-66277.2157..-1763.1823] | it/evals=3210/5315 eff=71.1429% N=300 \r"
     ]
    },
    {
     "name": "stderr",
     "output_type": "stream",
     "text": [
      "DEBUG:ultranest:iteration=3210, ncalls=5315, regioncalls=235680, ndraw=40, logz=-1771.91, remainder_fraction=0.3039%, Lmin=-1763.18, Lmax=-1763.18\n"
     ]
    },
    {
     "name": "stdout",
     "output_type": "stream",
     "text": [
      "Z=-1771.9(99.72%) | Like=-1763.18..-1763.18 [-66277.2157..-1763.1823] | it/evals=3230/5330 eff=71.1661% N=300 \r"
     ]
    },
    {
     "name": "stderr",
     "output_type": "stream",
     "text": [
      "DEBUG:ultranest:iteration=3230, ncalls=5330, regioncalls=236400, ndraw=40, logz=-1771.91, remainder_fraction=0.2843%, Lmin=-1763.18, Lmax=-1763.18\n"
     ]
    },
    {
     "name": "stdout",
     "output_type": "stream",
     "text": [
      "Z=-1771.9(99.72%) | Like=-1763.18..-1763.18 [-66277.2157..-1763.1823] | it/evals=3232/5332 eff=71.2068% N=300 \r"
     ]
    },
    {
     "name": "stderr",
     "output_type": "stream",
     "text": [
      "DEBUG:ultranest:iteration=3232, ncalls=5332, regioncalls=236520, ndraw=40, logz=-1771.91, remainder_fraction=0.2824%, Lmin=-1763.18, Lmax=-1763.18\n"
     ]
    },
    {
     "name": "stdout",
     "output_type": "stream",
     "text": [
      "Z=-1771.9(99.72%) | Like=-1763.18..-1763.18 [-66277.2157..-1763.1823] | it/evals=3240/5343 eff=71.2185% N=300 \r"
     ]
    },
    {
     "name": "stderr",
     "output_type": "stream",
     "text": [
      "DEBUG:ultranest:iteration=3240, ncalls=5343, regioncalls=236960, ndraw=40, logz=-1771.91, remainder_fraction=0.2750%, Lmin=-1763.18, Lmax=-1763.18\n"
     ]
    },
    {
     "name": "stdout",
     "output_type": "stream",
     "text": [
      "Z=-1771.9(99.73%) | Like=-1763.18..-1763.18 [-66277.2157..-1763.1823] | it/evals=3250/5353 eff=71.4186% N=300 \r"
     ]
    },
    {
     "name": "stderr",
     "output_type": "stream",
     "text": [
      "DEBUG:ultranest:iteration=3250, ncalls=5353, regioncalls=237360, ndraw=40, logz=-1771.91, remainder_fraction=0.2660%, Lmin=-1763.18, Lmax=-1763.18\n"
     ]
    },
    {
     "name": "stdout",
     "output_type": "stream",
     "text": [
      "Z=-1771.9(99.74%) | Like=-1763.18..-1763.18 [-66277.2157..-1763.1823] | it/evals=3260/5368 eff=71.3696% N=300 \r"
     ]
    },
    {
     "name": "stderr",
     "output_type": "stream",
     "text": [
      "DEBUG:ultranest:iteration=3260, ncalls=5368, regioncalls=237960, ndraw=40, logz=-1771.91, remainder_fraction=0.2573%, Lmin=-1763.18, Lmax=-1763.18\n"
     ]
    },
    {
     "name": "stdout",
     "output_type": "stream",
     "text": [
      "Z=-1771.9(99.75%) | Like=-1763.18..-1763.18 [-66277.2157..-1763.1823] | it/evals=3270/5383 eff=71.3215% N=300 \r"
     ]
    },
    {
     "name": "stderr",
     "output_type": "stream",
     "text": [
      "DEBUG:ultranest:iteration=3270, ncalls=5383, regioncalls=238560, ndraw=40, logz=-1771.91, remainder_fraction=0.2489%, Lmin=-1763.18, Lmax=-1763.18\n"
     ]
    },
    {
     "name": "stdout",
     "output_type": "stream",
     "text": [
      "Z=-1771.9(99.76%) | Like=-1763.18..-1763.18 [-66277.2157..-1763.1823] | it/evals=3280/5393 eff=71.5156% N=300 \r"
     ]
    },
    {
     "name": "stderr",
     "output_type": "stream",
     "text": [
      "DEBUG:ultranest:iteration=3280, ncalls=5393, regioncalls=238960, ndraw=40, logz=-1771.91, remainder_fraction=0.2407%, Lmin=-1763.18, Lmax=-1763.18\n"
     ]
    },
    {
     "name": "stdout",
     "output_type": "stream",
     "text": [
      "Z=-1771.9(99.77%) | Like=-1763.18..-1763.18 [-66277.2157..-1763.1823] | it/evals=3290/5408 eff=71.4668% N=300 \r"
     ]
    },
    {
     "name": "stderr",
     "output_type": "stream",
     "text": [
      "DEBUG:ultranest:iteration=3290, ncalls=5408, regioncalls=239560, ndraw=40, logz=-1771.91, remainder_fraction=0.2329%, Lmin=-1763.18, Lmax=-1763.18\n"
     ]
    },
    {
     "name": "stdout",
     "output_type": "stream",
     "text": [
      "Z=-1771.9(99.77%) | Like=-1763.18..-1763.18 [-66277.2157..-1763.1823] | it/evals=3299/5420 eff=71.4950% N=300 \r"
     ]
    },
    {
     "name": "stderr",
     "output_type": "stream",
     "text": [
      "DEBUG:ultranest:iteration=3299, ncalls=5420, regioncalls=240040, ndraw=40, logz=-1771.91, remainder_fraction=0.2260%, Lmin=-1763.18, Lmax=-1763.18\n"
     ]
    },
    {
     "name": "stdout",
     "output_type": "stream",
     "text": [
      "Z=-1771.9(99.77%) | Like=-1763.18..-1763.18 [-66277.2157..-1763.1823] | it/evals=3300/5421 eff=71.5139% N=300 \r"
     ]
    },
    {
     "name": "stderr",
     "output_type": "stream",
     "text": [
      "DEBUG:ultranest:iteration=3300, ncalls=5421, regioncalls=240080, ndraw=40, logz=-1771.91, remainder_fraction=0.2252%, Lmin=-1763.18, Lmax=-1763.18\n"
     ]
    },
    {
     "name": "stdout",
     "output_type": "stream",
     "text": [
      "Z=-1771.9(99.78%) | Like=-1763.18..-1763.18 [-66277.2157..-1763.1823] | it/evals=3310/5433 eff=71.6074% N=300 \r"
     ]
    },
    {
     "name": "stderr",
     "output_type": "stream",
     "text": [
      "DEBUG:ultranest:iteration=3310, ncalls=5433, regioncalls=240560, ndraw=40, logz=-1771.91, remainder_fraction=0.2179%, Lmin=-1763.18, Lmax=-1763.18\n"
     ]
    },
    {
     "name": "stdout",
     "output_type": "stream",
     "text": [
      "Z=-1771.9(99.79%) | Like=-1763.18..-1763.18 [-66277.2157..-1763.1823] | it/evals=3320/5455 eff=71.2338% N=300 \r"
     ]
    },
    {
     "name": "stderr",
     "output_type": "stream",
     "text": [
      "DEBUG:ultranest:iteration=3320, ncalls=5455, regioncalls=241480, ndraw=40, logz=-1771.91, remainder_fraction=0.2107%, Lmin=-1763.18, Lmax=-1763.18\n"
     ]
    },
    {
     "name": "stdout",
     "output_type": "stream",
     "text": [
      "Z=-1771.9(99.80%) | Like=-1763.18..-1763.18 [-66277.2157..-1763.1823] | it/evals=3330/5470 eff=71.1897% N=300 \r"
     ]
    },
    {
     "name": "stderr",
     "output_type": "stream",
     "text": [
      "DEBUG:ultranest:iteration=3330, ncalls=5470, regioncalls=242160, ndraw=40, logz=-1771.91, remainder_fraction=0.2038%, Lmin=-1763.18, Lmax=-1763.18\n"
     ]
    },
    {
     "name": "stdout",
     "output_type": "stream",
     "text": [
      "Z=-1771.9(99.80%) | Like=-1763.18..-1763.18 [-66277.2157..-1763.1823] | it/evals=3340/5483 eff=71.2372% N=300 \r"
     ]
    },
    {
     "name": "stderr",
     "output_type": "stream",
     "text": [
      "DEBUG:ultranest:iteration=3340, ncalls=5483, regioncalls=242720, ndraw=40, logz=-1771.91, remainder_fraction=0.1971%, Lmin=-1763.18, Lmax=-1763.18\n"
     ]
    },
    {
     "name": "stdout",
     "output_type": "stream",
     "text": [
      "Z=-1771.9(99.81%) | Like=-1763.18..-1763.18 [-66277.2157..-1763.1823] | it/evals=3350/5497 eff=71.2389% N=300 \r"
     ]
    },
    {
     "name": "stderr",
     "output_type": "stream",
     "text": [
      "DEBUG:ultranest:iteration=3350, ncalls=5497, regioncalls=243280, ndraw=40, logz=-1771.91, remainder_fraction=0.1907%, Lmin=-1763.18, Lmax=-1763.18\n"
     ]
    },
    {
     "name": "stdout",
     "output_type": "stream",
     "text": [
      "Z=-1771.9(99.82%) | Like=-1763.18..-1763.18 [-66277.2157..-1763.1823] | it/evals=3360/5517 eff=70.9738% N=300 \r"
     ]
    },
    {
     "name": "stderr",
     "output_type": "stream",
     "text": [
      "DEBUG:ultranest:iteration=3360, ncalls=5517, regioncalls=244080, ndraw=40, logz=-1771.91, remainder_fraction=0.1844%, Lmin=-1763.18, Lmax=-1763.18\n"
     ]
    },
    {
     "name": "stdout",
     "output_type": "stream",
     "text": [
      "Z=-1771.9(99.82%) | Like=-1763.18..-1763.18 [-66277.2157..-1763.1823] | it/evals=3366/5527 eff=70.9057% N=300 \r"
     ]
    },
    {
     "name": "stderr",
     "output_type": "stream",
     "text": [
      "DEBUG:ultranest:iteration=3366, ncalls=5527, regioncalls=244640, ndraw=40, logz=-1771.91, remainder_fraction=0.1808%, Lmin=-1763.18, Lmax=-1763.18\n"
     ]
    },
    {
     "name": "stdout",
     "output_type": "stream",
     "text": [
      "Z=-1771.9(99.82%) | Like=-1763.18..-1763.18 [-66277.2157..-1763.1823] | it/evals=3370/5531 eff=70.9777% N=300 \r"
     ]
    },
    {
     "name": "stderr",
     "output_type": "stream",
     "text": [
      "DEBUG:ultranest:iteration=3370, ncalls=5531, regioncalls=244800, ndraw=40, logz=-1771.91, remainder_fraction=0.1784%, Lmin=-1763.18, Lmax=-1763.18\n"
     ]
    },
    {
     "name": "stdout",
     "output_type": "stream",
     "text": [
      "Z=-1771.9(99.83%) | Like=-1763.18..-1763.18 [-66277.2157..-1763.1823] | it/evals=3380/5542 eff=71.1125% N=300 \r"
     ]
    },
    {
     "name": "stderr",
     "output_type": "stream",
     "text": [
      "DEBUG:ultranest:iteration=3380, ncalls=5542, regioncalls=245240, ndraw=40, logz=-1771.91, remainder_fraction=0.1726%, Lmin=-1763.18, Lmax=-1763.18\n"
     ]
    },
    {
     "name": "stdout",
     "output_type": "stream",
     "text": [
      "Z=-1771.9(99.83%) | Like=-1763.18..-1763.18 [-66277.2157..-1763.1823] | it/evals=3390/5556 eff=71.1152% N=300 \r"
     ]
    },
    {
     "name": "stderr",
     "output_type": "stream",
     "text": [
      "DEBUG:ultranest:iteration=3390, ncalls=5556, regioncalls=245840, ndraw=40, logz=-1771.91, remainder_fraction=0.1669%, Lmin=-1763.18, Lmax=-1763.18\n"
     ]
    },
    {
     "name": "stdout",
     "output_type": "stream",
     "text": [
      "Z=-1771.9(99.84%) | Like=-1763.18..-1763.18 [-66277.2157..-1763.1823] | it/evals=3400/5570 eff=71.1178% N=300 \r"
     ]
    },
    {
     "name": "stderr",
     "output_type": "stream",
     "text": [
      "DEBUG:ultranest:iteration=3400, ncalls=5570, regioncalls=246400, ndraw=40, logz=-1771.91, remainder_fraction=0.1614%, Lmin=-1763.18, Lmax=-1763.18\n"
     ]
    },
    {
     "name": "stdout",
     "output_type": "stream",
     "text": [
      "Z=-1771.9(99.84%) | Like=-1763.18..-1763.18 [-66277.2157..-1763.1823] | it/evals=3410/5582 eff=71.2058% N=300 \r"
     ]
    },
    {
     "name": "stderr",
     "output_type": "stream",
     "text": [
      "DEBUG:ultranest:iteration=3410, ncalls=5582, regioncalls=246880, ndraw=40, logz=-1771.91, remainder_fraction=0.1562%, Lmin=-1763.18, Lmax=-1763.18\n"
     ]
    },
    {
     "name": "stdout",
     "output_type": "stream",
     "text": [
      "Z=-1771.9(99.85%) | Like=-1763.18..-1763.18 [-66277.2157..-1763.1823] | it/evals=3420/5598 eff=71.1230% N=300 \r"
     ]
    },
    {
     "name": "stderr",
     "output_type": "stream",
     "text": [
      "DEBUG:ultranest:iteration=3420, ncalls=5598, regioncalls=247520, ndraw=40, logz=-1771.91, remainder_fraction=0.1510%, Lmin=-1763.18, Lmax=-1763.18\n"
     ]
    },
    {
     "name": "stdout",
     "output_type": "stream",
     "text": [
      "Z=-1771.9(99.85%) | Like=-1763.18..-1763.18 [-66277.2157..-1763.1823] | it/evals=3430/5614 eff=71.0418% N=300 \r"
     ]
    },
    {
     "name": "stderr",
     "output_type": "stream",
     "text": [
      "DEBUG:ultranest:iteration=3430, ncalls=5614, regioncalls=248160, ndraw=40, logz=-1771.91, remainder_fraction=0.1461%, Lmin=-1763.18, Lmax=-1763.18\n"
     ]
    },
    {
     "name": "stdout",
     "output_type": "stream",
     "text": [
      "Z=-1771.9(99.86%) | Like=-1763.18..-1763.18 [-66277.2157..-1763.1823] | it/evals=3433/5618 eff=71.0511% N=300 \r"
     ]
    },
    {
     "name": "stderr",
     "output_type": "stream",
     "text": [
      "DEBUG:ultranest:iteration=3433, ncalls=5618, regioncalls=248360, ndraw=40, logz=-1771.91, remainder_fraction=0.1446%, Lmin=-1763.18, Lmax=-1763.18\n"
     ]
    },
    {
     "name": "stdout",
     "output_type": "stream",
     "text": [
      "Z=-1771.9(99.86%) | Like=-1763.18..-1763.18 [-66277.2157..-1763.1823] | it/evals=3440/5627 eff=71.0864% N=300 \r"
     ]
    },
    {
     "name": "stderr",
     "output_type": "stream",
     "text": [
      "DEBUG:ultranest:iteration=3440, ncalls=5627, regioncalls=248720, ndraw=40, logz=-1771.91, remainder_fraction=0.1413%, Lmin=-1763.18, Lmax=-1763.18\n"
     ]
    },
    {
     "name": "stdout",
     "output_type": "stream",
     "text": [
      "Z=-1771.9(99.86%) | Like=-1763.18..-1763.18 [-66277.2157..-1763.1823] | it/evals=3450/5637 eff=71.2544% N=300 \r"
     ]
    },
    {
     "name": "stderr",
     "output_type": "stream",
     "text": [
      "DEBUG:ultranest:iteration=3450, ncalls=5637, regioncalls=249120, ndraw=40, logz=-1771.91, remainder_fraction=0.1367%, Lmin=-1763.18, Lmax=-1763.18\n"
     ]
    },
    {
     "name": "stdout",
     "output_type": "stream",
     "text": [
      "Z=-1771.9(99.87%) | Like=-1763.18..-1763.18 [-66277.2157..-1763.1823] | it/evals=3460/5650 eff=71.2968% N=300 \r"
     ]
    },
    {
     "name": "stderr",
     "output_type": "stream",
     "text": [
      "DEBUG:ultranest:iteration=3460, ncalls=5650, regioncalls=249640, ndraw=40, logz=-1771.91, remainder_fraction=0.1322%, Lmin=-1763.18, Lmax=-1763.18\n"
     ]
    },
    {
     "name": "stdout",
     "output_type": "stream",
     "text": [
      "Z=-1771.9(99.87%) | Like=-1763.18..-1763.18 [-66277.2157..-1763.1823] | it/evals=3470/5667 eff=71.1758% N=300 \r"
     ]
    },
    {
     "name": "stderr",
     "output_type": "stream",
     "text": [
      "DEBUG:ultranest:iteration=3470, ncalls=5667, regioncalls=250320, ndraw=40, logz=-1771.91, remainder_fraction=0.1279%, Lmin=-1763.18, Lmax=-1763.18\n"
     ]
    },
    {
     "name": "stdout",
     "output_type": "stream",
     "text": [
      "Z=-1771.9(99.88%) | Like=-1763.18..-1763.18 [-66277.2157..-1763.1823] | it/evals=3480/5680 eff=71.2181% N=300 \r"
     ]
    },
    {
     "name": "stderr",
     "output_type": "stream",
     "text": [
      "DEBUG:ultranest:iteration=3480, ncalls=5680, regioncalls=250840, ndraw=40, logz=-1771.91, remainder_fraction=0.1237%, Lmin=-1763.18, Lmax=-1763.18\n"
     ]
    },
    {
     "name": "stdout",
     "output_type": "stream",
     "text": [
      "Z=-1771.9(99.88%) | Like=-1763.18..-1763.18 [-66277.2157..-1763.1823] | it/evals=3490/5691 eff=71.3401% N=300 \r"
     ]
    },
    {
     "name": "stderr",
     "output_type": "stream",
     "text": [
      "DEBUG:ultranest:iteration=3490, ncalls=5691, regioncalls=251280, ndraw=40, logz=-1771.91, remainder_fraction=0.1196%, Lmin=-1763.18, Lmax=-1763.18\n"
     ]
    },
    {
     "name": "stdout",
     "output_type": "stream",
     "text": [
      "Z=-1771.9(99.88%) | Like=-1763.18..-1763.18 [-66277.2157..-1763.1823] | it/evals=3500/5703 eff=71.4206% N=300 \r"
     ]
    },
    {
     "name": "stderr",
     "output_type": "stream",
     "text": [
      "DEBUG:ultranest:iteration=3500, ncalls=5703, regioncalls=251800, ndraw=40, logz=-1771.91, remainder_fraction=0.1157%, Lmin=-1763.18, Lmax=-1763.18\n"
     ]
    },
    {
     "name": "stdout",
     "output_type": "stream",
     "text": [
      "Z=-1771.9(99.89%) | Like=-1763.18..-1763.18 [-66277.2157..-1763.1823] | it/evals=3510/5721 eff=71.2625% N=300 \r"
     ]
    },
    {
     "name": "stderr",
     "output_type": "stream",
     "text": [
      "DEBUG:ultranest:iteration=3510, ncalls=5721, regioncalls=252520, ndraw=40, logz=-1771.91, remainder_fraction=0.1119%, Lmin=-1763.18, Lmax=-1763.18\n"
     ]
    },
    {
     "name": "stdout",
     "output_type": "stream",
     "text": [
      "Z=-1771.9(99.89%) | Like=-1763.18..-1763.18 [-66277.2157..-1763.1823] | it/evals=3520/5731 eff=71.4207% N=300 \r"
     ]
    },
    {
     "name": "stderr",
     "output_type": "stream",
     "text": [
      "DEBUG:ultranest:iteration=3520, ncalls=5731, regioncalls=252920, ndraw=40, logz=-1771.91, remainder_fraction=0.1082%, Lmin=-1763.18, Lmax=-1763.18\n"
     ]
    },
    {
     "name": "stdout",
     "output_type": "stream",
     "text": [
      "Z=-1771.9(99.90%) | Like=-1763.18..-1763.18 [-66277.2157..-1763.1823] | it/evals=3530/5745 eff=71.4208% N=300 \r"
     ]
    },
    {
     "name": "stderr",
     "output_type": "stream",
     "text": [
      "DEBUG:ultranest:iteration=3530, ncalls=5745, regioncalls=253480, ndraw=40, logz=-1771.91, remainder_fraction=0.1047%, Lmin=-1763.18, Lmax=-1763.18\n"
     ]
    },
    {
     "name": "stdout",
     "output_type": "stream",
     "text": [
      "Z=-1771.9(99.90%) | Like=-1763.18..-1763.18 [-66277.2157..-1763.1823] | it/evals=3540/5758 eff=71.4596% N=300 \r"
     ]
    },
    {
     "name": "stderr",
     "output_type": "stream",
     "text": [
      "DEBUG:ultranest:iteration=3540, ncalls=5758, regioncalls=254000, ndraw=40, logz=-1771.91, remainder_fraction=0.1013%, Lmin=-1763.18, Lmax=-1763.18\n"
     ]
    },
    {
     "name": "stdout",
     "output_type": "stream",
     "text": [
      "Z=-1771.9(99.90%) | Like=-1763.18..-1763.18 [-66277.2157..-1763.1823] | it/evals=3550/5773 eff=71.4209% N=300 \r"
     ]
    },
    {
     "name": "stderr",
     "output_type": "stream",
     "text": [
      "DEBUG:ultranest:iteration=3550, ncalls=5773, regioncalls=254600, ndraw=40, logz=-1771.91, remainder_fraction=0.0980%, Lmin=-1763.18, Lmax=-1763.18\n"
     ]
    },
    {
     "name": "stdout",
     "output_type": "stream",
     "text": [
      "Z=-1771.9(99.91%) | Like=-1763.18..-1763.18 [-66277.2157..-1763.1823] | it/evals=3560/5788 eff=71.3828% N=300 \r"
     ]
    },
    {
     "name": "stderr",
     "output_type": "stream",
     "text": [
      "DEBUG:ultranest:iteration=3560, ncalls=5788, regioncalls=255200, ndraw=40, logz=-1771.91, remainder_fraction=0.0947%, Lmin=-1763.18, Lmax=-1763.18\n"
     ]
    },
    {
     "name": "stdout",
     "output_type": "stream",
     "text": [
      "[ultranest] Explored until L=-2e+03  \n"
     ]
    },
    {
     "name": "stderr",
     "output_type": "stream",
     "text": [
      "INFO:ultranest:Explored until L=-2e+03  \n"
     ]
    },
    {
     "name": "stdout",
     "output_type": "stream",
     "text": [
      "[ultranest] Likelihood function evaluations: 5790\n"
     ]
    },
    {
     "name": "stderr",
     "output_type": "stream",
     "text": [
      "INFO:ultranest:Likelihood function evaluations: 5790\n"
     ]
    },
    {
     "name": "stdout",
     "output_type": "stream",
     "text": [
      "[ultranest] Writing samples and results to disk ...\n"
     ]
    },
    {
     "name": "stderr",
     "output_type": "stream",
     "text": [
      "INFO:ultranest:Writing samples and results to disk ...\n"
     ]
    },
    {
     "name": "stdout",
     "output_type": "stream",
     "text": [
      "[ultranest] Writing samples and results to disk ... done\n"
     ]
    },
    {
     "name": "stderr",
     "output_type": "stream",
     "text": [
      "INFO:ultranest:Writing samples and results to disk ... done\n",
      "DEBUG:ultranest:did a run_iter pass!\n"
     ]
    },
    {
     "name": "stdout",
     "output_type": "stream",
     "text": [
      "[ultranest]   logZ = -1772 +- 0.1307\n"
     ]
    },
    {
     "name": "stderr",
     "output_type": "stream",
     "text": [
      "INFO:ultranest:  logZ = -1772 +- 0.1307\n"
     ]
    },
    {
     "name": "stdout",
     "output_type": "stream",
     "text": [
      "[ultranest] Effective samples strategy satisfied (ESS = 1228.7, need >1000)\n"
     ]
    },
    {
     "name": "stderr",
     "output_type": "stream",
     "text": [
      "INFO:ultranest:Effective samples strategy satisfied (ESS = 1228.7, need >1000)\n"
     ]
    },
    {
     "name": "stdout",
     "output_type": "stream",
     "text": [
      "[ultranest] Posterior uncertainty strategy is satisfied (KL: 0.45+-0.13 nat, need <0.50 nat)\n"
     ]
    },
    {
     "name": "stderr",
     "output_type": "stream",
     "text": [
      "INFO:ultranest:Posterior uncertainty strategy is satisfied (KL: 0.45+-0.13 nat, need <0.50 nat)\n"
     ]
    },
    {
     "name": "stdout",
     "output_type": "stream",
     "text": [
      "[ultranest] Evidency uncertainty strategy is satisfied (dlogz=0.13, need <0.5)\n"
     ]
    },
    {
     "name": "stderr",
     "output_type": "stream",
     "text": [
      "INFO:ultranest:Evidency uncertainty strategy is satisfied (dlogz=0.13, need <0.5)\n"
     ]
    },
    {
     "name": "stdout",
     "output_type": "stream",
     "text": [
      "[ultranest]   logZ error budget: single: 0.16 bs:0.13 tail:0.00 total:0.13 required:<0.50\n"
     ]
    },
    {
     "name": "stderr",
     "output_type": "stream",
     "text": [
      "INFO:ultranest:  logZ error budget: single: 0.16 bs:0.13 tail:0.00 total:0.13 required:<0.50\n"
     ]
    },
    {
     "name": "stdout",
     "output_type": "stream",
     "text": [
      "[ultranest] done iterating.\n"
     ]
    },
    {
     "name": "stderr",
     "output_type": "stream",
     "text": [
      "INFO:ultranest:done iterating.\n"
     ]
    },
    {
     "name": "stdout",
     "output_type": "stream",
     "text": [
      "\n",
      "logZ = -1771.907 +- 0.205\n",
      "  single instance: logZ = -1771.907 +- 0.277\n",
      "  bootstrapped   : logZ = -1771.909 +- 0.205\n",
      "  tail           : logZ = +- 0.001\n",
      "insert order U test : converged: True correlation: inf iterations\n",
      "\n",
      "    T                   : 24.02 │ ▁▁ ▁▁▁▁▁▂▁▂▂▄▄▆▆▆▇▇▆▆▆▅▅▄▃▃▃▂▂▁▁▁▁▁ ▁ │25.04     24.55 +- 0.13\n",
      "    logmass             : 6.682 │ ▁ ▁▁▁▁▁▂▂▃▂▃▅▆▅▇▇▆▇▇▆▅▄▃▃▂▁▁▁▁▁▁▁▁  ▁ │6.858     6.763 +- 0.022\n",
      "\n"
     ]
    }
   ],
   "source": [
    "sampler = ultranest.ReactiveNestedSampler(\n",
    "    param_names=['T', 'logmass'],\n",
    "    loglike=log_likelihood,\n",
    "    transform=prior_transform,\n",
    "    log_dir=\"ultranest_output\",\n",
    "    resume=True\n",
    ")\n",
    "# result.run(max_num_samples=2000, dlogz=0.1)\n",
    "result = sampler.run(min_num_live_points=100, min_ess=1000)\n",
    "sampler.print_results()"
   ]
  },
  {
   "cell_type": "code",
   "execution_count": 14,
   "metadata": {
    "ExecuteTime": {
     "end_time": "2023-09-25T12:44:24.138340Z",
     "start_time": "2023-09-25T12:44:23.698228Z"
    }
   },
   "outputs": [
    {
     "data": {
      "image/png": "[encoded data removed]",
      "text/plain": [
       "<Figure size 550x550 with 4 Axes>"
      ]
     },
     "metadata": {},
     "output_type": "display_data"
    }
   ],
   "source": [
    "cornerplot(result)"
   ]
  },
  {
   "cell_type": "code",
   "execution_count": 15,
   "metadata": {
    "ExecuteTime": {
     "end_time": "2023-09-25T12:44:24.894725Z",
     "start_time": "2023-09-25T12:44:24.141308Z"
    }
   },
   "outputs": [
    {
     "data": {
      "image/png": "[encoded data removed]",
      "text/plain": [
       "<Figure size 640x480 with 1 Axes>"
      ]
     },
     "metadata": {},
     "output_type": "display_data"
    }
   ],
   "source": [
    "best_fit_params = result['maximum_likelihood']['point']\n",
    "\n",
    "plt.scatter(x_data,y_data)\n",
    "plt.ylabel('λLλ (erg/s)') \n",
    "plt.xlabel('λ (μm)') \n",
    "plt.yscale('log')\n",
    "plt.xscale('log')\n",
    "\n",
    "\n",
    "xaxis=np.linspace(20,1000,1000)\n",
    "plt.plot(xaxis,grey_body_luminosity(xaxis,27, 6.5),color='orange',label='first guess')\n",
    "plt.plot(xaxis,grey_body_luminosity(xaxis,chi2_values_fit[0],chi2_values_fit[1]),color='darkviolet',label='chi^2')\n",
    "plt.plot(xaxis,grey_body_luminosity(xaxis,emcee_trace[:,0].mean(),emcee_trace[:,1].mean()),color='red',label='EMCEE')\n",
    "plt.plot(xaxis, grey_body_luminosity(xaxis, best_fit_params[0], best_fit_params[1]),color=\"green\", label='Ultranest')\n",
    "plt.title(\"Model Comparison\")\n",
    "plt.legend()\n",
    "plt.show()"
   ]
  },
  {
   "cell_type": "code",
   "execution_count": 16,
   "metadata": {
    "ExecuteTime": {
     "end_time": "2023-09-25T12:44:25.355495Z",
     "start_time": "2023-09-25T12:44:24.897720Z"
    }
   },
   "outputs": [
    {
     "data": {
      "image/png": "[encoded data removed]",
      "text/plain": [
       "<Figure size 640x480 with 1 Axes>"
      ]
     },
     "metadata": {},
     "output_type": "display_data"
    }
   ],
   "source": [
    "plt.scatter(x_data,y_data)\n",
    "plt.ylabel('λLλ (erg/s)') \n",
    "plt.xlabel('λ (μm)') \n",
    "plt.yscale('log')\n",
    "plt.xscale('log')\n",
    "\n",
    "\n",
    "xaxis=np.linspace(55,550,1000)\n",
    "plt.plot(xaxis,grey_body_luminosity(xaxis,27, 6.5),color='orange',label='first guess')\n",
    "plt.plot(xaxis,grey_body_luminosity(xaxis,chi2_values_fit[0],chi2_values_fit[1]),color='darkviolet',label='chi^2')\n",
    "plt.plot(xaxis,grey_body_luminosity(xaxis,emcee_trace[:,0].mean(),emcee_trace[:,1].mean()),color='red',label='EMCEE')\n",
    "plt.plot(xaxis, grey_body_luminosity(xaxis, best_fit_params[0], best_fit_params[1]),color=\"green\", label='Ultranest')\n",
    "plt.title(\"Model Comparison -  Zoomed\")\n",
    "plt.legend()\n",
    "plt.show()"
   ]
  },
  {
   "cell_type": "code",
   "execution_count": 18,
   "metadata": {
    "ExecuteTime": {
     "end_time": "2023-09-25T12:56:23.754823Z",
     "start_time": "2023-09-25T12:56:23.199310Z"
    }
   },
   "outputs": [
    {
     "data": {
      "image/png": "[encoded data removed]",
      "text/plain": [
       "<Figure size 550x550 with 4 Axes>"
      ]
     },
     "metadata": {},
     "output_type": "display_data"
    }
   ],
   "source": [
    "#Parameter Space cornerplot\n",
    "\n",
    "\n",
    "p = [prior_transform(np.random.uniform(size=4)) for i in range(1000)]\n",
    "corner.corner(np.array(p), show_titles=True, plot_density=False, quiet=True);"
   ]
  },
  {
   "cell_type": "code",
   "execution_count": null,
   "metadata": {},
   "outputs": [],
   "source": []
  }
 ],
 "metadata": {
  "kernelspec": {
   "display_name": "Python 3 (ipykernel)",
   "language": "python",
   "name": "python3"
  },
  "language_info": {
   "codemirror_mode": {
    "name": "ipython",
    "version": 3
   },
   "file_extension": ".py",
   "mimetype": "text/x-python",
   "name": "python",
   "nbconvert_exporter": "python",
   "pygments_lexer": "ipython3",
   "version": "3.9.13"
  }
 },
 "nbformat": 4,
 "nbformat_minor": 4
}
